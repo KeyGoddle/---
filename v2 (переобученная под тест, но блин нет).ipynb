{
  "cells": [
    {
      "cell_type": "code",
      "source": [],
      "metadata": {
        "id": "MO9BzUwpwThZ"
      },
      "execution_count": null,
      "outputs": []
    },
    {
      "cell_type": "code",
      "source": [
        "import zipfile\n",
        "from urllib.request import urlopen\n",
        "import io\n",
        "from pandas import read_csv, DataFrame, Series\n",
        "from pandas.errors import PerformanceWarning\n",
        "from math import log as ln\n",
        "from statistics import mean\n",
        "from seaborn import violinplot\n",
        "\n",
        "import warnings\n",
        "warnings.simplefilter(action='ignore', category=FutureWarning)\n",
        "warnings.simplefilter(action='ignore', category=PerformanceWarning)\n",
        "import plotly.express as px\n",
        "import plotly.graph_objects as go\n",
        "import plotly.figure_factory as ff\n",
        "\n",
        "# from googletrans import Translator, constants\n",
        "# translator = Translator()\n",
        "# def tr(s, thru_en = False):\n",
        "#   if thru_en:\n",
        "#     ss = translator.translate(s, src = 'nl', dest = 'en').text\n",
        "#     return translator.translate(ss, src = 'en', dest = 'ru').text\n",
        "#   else:\n",
        "#     return translator.translate(s, src = 'nl', dest = 'ru').text\n",
        "# def tr_en(s):\n",
        "#     return translator.translate(s, src = 'nl', dest = 'ru').text"
      ],
      "metadata": {
        "id": "7d7KeGO3piXx"
      },
      "execution_count": 1,
      "outputs": []
    },
    {
      "cell_type": "code",
      "source": [
        "path = \"https://lodmedia.hb.bizmrg.com/case_files/1125024/train_dataset_vprod_train.zip\"\n",
        "\n",
        "z = zipfile.ZipFile(io.BytesIO(urlopen(path).read()))\n"
      ],
      "metadata": {
        "id": "ju43CsMgwTn_"
      },
      "execution_count": 2,
      "outputs": []
    },
    {
      "cell_type": "code",
      "source": [
        "ts=z.open(\"vprod_train/TRAIN_SAL.csv\")\n",
        "prom = read_csv(ts)\n",
        "df_ts = prom.head(200000)\n",
        "# df_provinces['date'] = df_provinces['date'].map(lambda x: x[:7])\n",
        "\n",
        "\n",
        "del z, prom\n",
        "\n",
        "for i in df_ts.columns:\n",
        "  if len(df_ts[i].unique())==1:\n",
        "    df_ts = df_ts.drop(i, axis=1)\n"
      ],
      "metadata": {
        "colab": {
          "base_uri": "https://localhost:8080/"
        },
        "outputId": "7e8dbaae-7fe1-4509-a799-94451dc4a449",
        "id": "1ib909iNqAd4"
      },
      "execution_count": 3,
      "outputs": [
        {
          "output_type": "stream",
          "name": "stderr",
          "text": [
            "<ipython-input-3-1ed2eef8202c>:2: DtypeWarning: Columns (1,16,24,69) have mixed types. Specify dtype option on import or set low_memory=False.\n",
            "  prom = read_csv(ts)\n"
          ]
        }
      ]
    },
    {
      "cell_type": "code",
      "source": [
        "import zipfile\n",
        "from urllib.request import urlopen\n",
        "import io\n",
        "from pandas import read_csv"
      ],
      "metadata": {
        "id": "sKqTQNjND8Ls"
      },
      "execution_count": 4,
      "outputs": []
    },
    {
      "cell_type": "markdown",
      "metadata": {
        "id": "AzVz6bS66Gaw"
      },
      "source": [
        "# Ввод данных"
      ]
    },
    {
      "cell_type": "code",
      "execution_count": null,
      "metadata": {
        "id": "WsJ2-gWK95-7"
      },
      "outputs": [],
      "source": [
        "# import pandas as pd\n",
        "# df_ts = pd.read_csv('TRAIN_SAL.csv')"
      ]
    },
    {
      "cell_type": "markdown",
      "metadata": {
        "id": "2nMcissw6Gaz"
      },
      "source": [
        "# Обработка"
      ]
    },
    {
      "cell_type": "markdown",
      "source": [
        "0. В общих чертах\n",
        "\n",
        "- Вручную посмотрели на количество уникальных значений, формат непустых значений признаков\n",
        "- Поняли, что имеем в сырых данных:\n",
        "\n",
        "а) числа\n",
        "\n",
        "б) категории\n",
        "\n",
        "в) связный текст\n",
        "\n",
        "г) текст с JSON\n",
        "\n",
        "д) текст с набором \"меток\" (в одном признаке) — разбили на отдельные категории true-false\n",
        "\n",
        "е) константы — от них избавились\n",
        "\n",
        "ж) Текст внутри разметки, похожей на HTML — не зная глубоко, посчитали сересчур трудоёмким придумывать, как искать особенные случаи по 600 тыс. записям, и токенизировали прямо с разметкой (могли вырезать по \"<\" и \">\", могли добавить стоп-слова)\n",
        "\n",
        "з) дату-время — не придумали, как обосновать выбор формата для них для подачи в модели, потому не включили из в \"первый прогон\" (и посчитали, что первый прогон сработал достаточно хорошо, чтобы переключиться на другие задачи)\n",
        "\n",
        "- Текст подали на TfIdfVectorizer — для первой попытки \"попробовать бустинг\"\n",
        "- Категории: в итоге смогли поднять бустинг из scikitlearn. В документации сказано, что в нём категориальные признаки в сыром виде не принимаются, принимаются числа. Есть официальная статья, в которой предлагаются 4 способа преобразования в числа. Выбрали один из них: прогнать категории через OrdinalEncoder"
      ],
      "metadata": {
        "id": "IntX9ye9Yhf5"
      }
    },
    {
      "cell_type": "markdown",
      "source": [
        "1. В фичах есть такие, в которых для всех записей одно и то же значение. На модель в лучшую сторону они однозначно не повлияют"
      ],
      "metadata": {
        "id": "Alw4rj5mNIU2"
      }
    },
    {
      "cell_type": "code",
      "execution_count": 5,
      "metadata": {
        "id": "YBDjybiXO6B6"
      },
      "outputs": [],
      "source": [
        "# убираем фичи, для которых количесвто уникальных значений == 1\n",
        "for i in df_ts.columns:\n",
        "  if len(df_ts[i].unique())==1:\n",
        "    df_ts = df_ts.drop(i, axis=1)\n"
      ]
    },
    {
      "cell_type": "markdown",
      "source": [
        "2. Категории VS Числа VS Тексты\n",
        "\n",
        "Для подачи ML-ю на вход категориальные / числовые / языковые данные преобразовываются кардинально по-разному.\n",
        "\n",
        "Казалось лёгким применить функции из коробки, чтобы не вручную перебирать все признаки. Но потом пришлось, т.к. автоматическое выявление на этих данных не отработало.\n",
        "\n",
        "Поэтому сначала будет выделено 3  листа под 3 типа признаков, а затем несколько раз названия колонок будут перебрасываться из одного листа в другой (в тех моментах, в которые мы, исторически, ловили разные ошибки, пытаясь запихнуть в обработку неверные данные второпях)."
      ],
      "metadata": {
        "id": "19eQ1NQNNZu4"
      }
    },
    {
      "cell_type": "markdown",
      "source": [
        "2.1. Автоматически выбираем тексты и числа"
      ],
      "metadata": {
        "id": "2xXV01CkOsj4"
      }
    },
    {
      "cell_type": "code",
      "execution_count": 6,
      "metadata": {
        "id": "hok5d7ubNBV6"
      },
      "outputs": [],
      "source": [
        "str_columns = df_ts.applymap(lambda x: isinstance(x, str)).all(0)\n",
        "\n",
        "text_features = []\n",
        "for i in list(str_columns.index):\n",
        "  if str_columns[i]:\n",
        "    text_features.append(i)\n",
        "text_features.remove(\"id\")\n"
      ]
    },
    {
      "cell_type": "code",
      "execution_count": 7,
      "metadata": {
        "id": "FIM_bzgTNG66"
      },
      "outputs": [],
      "source": [
        "nums = df_ts._get_numeric_data().columns\n",
        "nums = list(nums)\n"
      ]
    },
    {
      "cell_type": "markdown",
      "source": [
        "2.2. Посмотрели по каждой фиче: количество уникальных, если мало — все значения, если много — первые 100 уникальных, чтобы понять формат.\n",
        "\n",
        "Поняли, что не знаем, как тривиально обрабатывать datetime — решили \"пока без него\" (и не вернулись к нему. \"Если мы это забыли, значит это не так уж и важно\", — или, формальнее: \"Нас удовлетворил итоговый скор\".)"
      ],
      "metadata": {
        "id": "elNK26y7O3H4"
      }
    },
    {
      "cell_type": "code",
      "execution_count": 8,
      "metadata": {
        "id": "1aRF_BbMPS7J"
      },
      "outputs": [],
      "source": [
        "datetime_features = [\"change_time\", ]"
      ]
    },
    {
      "cell_type": "markdown",
      "source": [
        "Поняли, что есть гнусные колонки, содержащие неатомарные данные. multicats включает в себя наборы категориальных меток. Здесь и далее каждая метка переводится в отдельный признак с двумя-тремя значениями (в зависимости от того, есть ли возможность указывать там nan, который мы по максимуму оставляли)."
      ],
      "metadata": {
        "id": "Bni6IpJTQX-L"
      }
    },
    {
      "cell_type": "code",
      "execution_count": 9,
      "metadata": {
        "id": "ZrKlovjqS0CE"
      },
      "outputs": [],
      "source": [
        "multicats = [\"social_protected_ids\", \"vacancy_benefit_ids\"]"
      ]
    },
    {
      "cell_type": "markdown",
      "source": [
        "2.3. Разбили неатомарные данные (пока только те, которые нашли в автоматически определённых к строковым, и по малому количеству уникальных строк)"
      ],
      "metadata": {
        "id": "PYo7c74bQ1-6"
      }
    },
    {
      "cell_type": "code",
      "execution_count": 10,
      "metadata": {
        "id": "rd-YcgLKgrer"
      },
      "outputs": [],
      "source": [
        "social_protected_ids = [\"Беженцы\",\n",
        "                        \"лица, получившие временное убежище\",\n",
        "                        \"Инвалиды\",\n",
        "                        \"Лица, освобождаемые из мест лишения свободы\",\n",
        "                        \"Матери и отцы, воспитывающие без супруга (супруги) детей в возрасте до пяти лет\",\n",
        "                        \"вынужденные переселенцы\",\n",
        "                        \"Многодетные семьи\",\n",
        "                        \"Несовершеннолетние работники\",\n",
        "                        \"Работники, имеющие детей-инвалидов\",\n",
        "                        \"Работники, осуществляющие уход за больными членами их семей в соответствии с медицинским заключением\",\n",
        "                        # \"nan\"\n",
        "                        ]"
      ]
    },
    {
      "cell_type": "code",
      "execution_count": 11,
      "metadata": {
        "id": "0xNOYihCjYku"
      },
      "outputs": [],
      "source": [
        "vacancy_benefit_ids = [\n",
        "    \"ДМС\",\n",
        "    \"Путевки в оздоровительные учреждения\",\n",
        "    \"Оплата занятий спортом\",\n",
        "    \"Оплата питания\",\n",
        "]"
      ]
    },
    {
      "cell_type": "markdown",
      "source": [
        "Код для \"вычёркивания из уже учтённых\" при выборе меток руками (выбор = записали в листы выше; перезапустили и перепроверили, что кроме пустоты текста не осталось)"
      ],
      "metadata": {
        "id": "_VyBwycVRNu5"
      }
    },
    {
      "cell_type": "code",
      "source": [
        "# @title\n",
        "spi_raw = sorted([str(i) for i in list(df_ts[\"social_protected_ids\"].unique())])\n",
        "for i in social_protected_ids:\n",
        "  for j in range(len(spi_raw)):\n",
        "    if i in spi_raw[j]:\n",
        "      spi_raw[j] = spi_raw[j].replace(i, \"\")\n",
        "spi_raw"
      ],
      "metadata": {
        "id": "7oVneYVNguc9",
        "colab": {
          "base_uri": "https://localhost:8080/"
        },
        "outputId": "e90f663a-d61c-4d73-b63b-25c47665aa49",
        "collapsed": true,
        "cellView": "form"
      },
      "execution_count": null,
      "outputs": [
        {
          "output_type": "execute_result",
          "data": {
            "text/plain": [
              "['',\n",
              " '; ; ',\n",
              " '; ; ,',\n",
              " '; ; ,,',\n",
              " '; ; ,,,',\n",
              " '; ; ,,,,',\n",
              " '; ; ,,,,,',\n",
              " '; ; ,,,,,,',\n",
              " '; ; ,,,,,,,',\n",
              " '; ; ,,,,,',\n",
              " '; ; ,,,,,,',\n",
              " '; ; ,,,,,',\n",
              " '; ; ,,,,,',\n",
              " '; ; ,,,',\n",
              " '; ; ,,,,',\n",
              " '; ; ,,,,,',\n",
              " '; ; ,,,,',\n",
              " '; ; ,,,,,',\n",
              " '; ; ,,,',\n",
              " '; ; ,,,',\n",
              " '; ; ,,,,',\n",
              " '; ; ,,',\n",
              " '; ; ,,,',\n",
              " '; ; ,,,,',\n",
              " '; ; ,,,,,',\n",
              " '; ; ,,,,,,',\n",
              " '; ; ,,,,',\n",
              " '; ; ,,,,,',\n",
              " '; ; ,,,,',\n",
              " '; ; ,,,',\n",
              " '; ; ,,,,',\n",
              " '; ; ,,,',\n",
              " '; ; ,,',\n",
              " '; ; ,,,',\n",
              " '; ; ,,,,,',\n",
              " '; ; ,,,',\n",
              " '; ; ,,,,',\n",
              " '; ; ,,,',\n",
              " '; ; ,,',\n",
              " '; ; ,,',\n",
              " '; ; ,,',\n",
              " '; ; ,',\n",
              " '; ; ,,',\n",
              " '; ; ,,,',\n",
              " '; ; ,,,,',\n",
              " '; ; ,,,,,',\n",
              " '; ; ,,,,,,',\n",
              " '; ; ,,,,',\n",
              " '; ; ,,,,,',\n",
              " '; ; ,,,,',\n",
              " '; ; ,,,,',\n",
              " '; ; ,,,',\n",
              " '; ; ,,',\n",
              " '; ; ,,,',\n",
              " '; ; ,,,',\n",
              " '; ; ,,,,',\n",
              " '; ; ,,',\n",
              " '; ; ,,',\n",
              " '; ; ,',\n",
              " '; ; ,,',\n",
              " '; ; ,,,',\n",
              " '; ; ,,,,',\n",
              " '; ; ,,,,,',\n",
              " '; ; ,,,',\n",
              " '; ; ,,,,',\n",
              " '; ; ,,,',\n",
              " '; ; ,,,,',\n",
              " '; ; ,,',\n",
              " '; ; ,,,',\n",
              " '; ; ,',\n",
              " '; ; ,,',\n",
              " '; ; ,,,',\n",
              " '; ; ,,',\n",
              " '; ; ,,,',\n",
              " '; ; ,',\n",
              " '; ; ,',\n",
              " '; ; ,,',\n",
              " '',\n",
              " ',',\n",
              " ',,',\n",
              " ',,,',\n",
              " ',,,,,',\n",
              " ',,,,,,',\n",
              " ',,,,,',\n",
              " ',,,,',\n",
              " ',,,,,',\n",
              " ',,,',\n",
              " ',,',\n",
              " ',,,,',\n",
              " ',,,',\n",
              " ',,,,',\n",
              " ',,,',\n",
              " ',,',\n",
              " ',,,',\n",
              " ',,,',\n",
              " ',,',\n",
              " ',,,',\n",
              " ',,',\n",
              " ',',\n",
              " ',,',\n",
              " ',,,',\n",
              " ',,,,',\n",
              " ',,,,,',\n",
              " ',,,,',\n",
              " ',,,',\n",
              " ',,,,',\n",
              " ',,,',\n",
              " ',,',\n",
              " ',,,',\n",
              " ',,',\n",
              " ',,,',\n",
              " ',,',\n",
              " ',',\n",
              " ',,',\n",
              " ',,,',\n",
              " ',,',\n",
              " ',,,',\n",
              " ',,',\n",
              " ',',\n",
              " ',,',\n",
              " ',',\n",
              " ',,',\n",
              " ',',\n",
              " '',\n",
              " ',',\n",
              " ',,',\n",
              " ',,,',\n",
              " ',,,,',\n",
              " ',,,,,',\n",
              " ',,,',\n",
              " ',,,,',\n",
              " ',,,',\n",
              " ',,',\n",
              " ',',\n",
              " ',,',\n",
              " ',,,',\n",
              " ',,',\n",
              " ',,,',\n",
              " ',',\n",
              " ',',\n",
              " ',,',\n",
              " ',',\n",
              " '',\n",
              " ',',\n",
              " ',,',\n",
              " ',,,',\n",
              " ',,,,',\n",
              " ',,',\n",
              " ',,,',\n",
              " ',,',\n",
              " ',',\n",
              " ',,,',\n",
              " ',',\n",
              " ',,',\n",
              " ',',\n",
              " '',\n",
              " ',',\n",
              " ',,',\n",
              " ',',\n",
              " ',,',\n",
              " ',',\n",
              " '',\n",
              " '',\n",
              " ',']"
            ]
          },
          "metadata": {},
          "execution_count": 12
        }
      ]
    },
    {
      "cell_type": "code",
      "source": [
        "# @title\n",
        "vbi_raw = sorted([str(i) for i in list(df_ts[\"vacancy_benefit_ids\"].unique())])\n",
        "for i in vacancy_benefit_ids:\n",
        "  for j in range(len(vbi_raw)):\n",
        "    if i in vbi_raw[j]:\n",
        "      vbi_raw[j] = vbi_raw[j].replace(i, \"\")\n",
        "vbi_raw"
      ],
      "metadata": {
        "colab": {
          "base_uri": "https://localhost:8080/"
        },
        "id": "wQKc8GBpjOnw",
        "outputId": "1479b561-1418-4b6e-9314-d317ca8e54ee",
        "collapsed": true,
        "cellView": "form"
      },
      "execution_count": null,
      "outputs": [
        {
          "output_type": "execute_result",
          "data": {
            "text/plain": [
              "['nan',\n",
              " '',\n",
              " ',',\n",
              " ',,',\n",
              " '',\n",
              " ',',\n",
              " ',',\n",
              " ',,',\n",
              " ',',\n",
              " ',,',\n",
              " ',,',\n",
              " ',,,',\n",
              " '',\n",
              " ',',\n",
              " '',\n",
              " ',',\n",
              " ',',\n",
              " ',,']"
            ]
          },
          "metadata": {},
          "execution_count": 14
        }
      ]
    },
    {
      "cell_type": "markdown",
      "source": [
        "Переложили ошибочные текстовые в нужные типы.\n",
        "За одно заметили, что id это признак (и обвинили его в ненужности)."
      ],
      "metadata": {
        "id": "AuRKrmQuVtr2"
      }
    },
    {
      "cell_type": "code",
      "execution_count": 12,
      "metadata": {
        "id": "mY8OhiusNXex"
      },
      "outputs": [],
      "source": [
        "cats = []\n",
        "for i in df_ts.columns:\n",
        "  if not i in nums and not i in text_features:\n",
        "    cats.append(i)\n",
        "try:\n",
        "  cats.remove(\"id\")\n",
        "except:\n",
        "  pass\n"
      ]
    },
    {
      "cell_type": "markdown",
      "source": [
        "Сюда выписывали не текстовые но категориальные признаки при просмотре текстовых"
      ],
      "metadata": {
        "id": "APcGSDe2WDbZ"
      }
    },
    {
      "cell_type": "code",
      "execution_count": 13,
      "metadata": {
        "id": "ypqospF-OCrZ"
      },
      "outputs": [],
      "source": [
        "false_cats = [\"additional_requirements\", \"contact_person\", \"education_speciality\",\n",
        "              \"metro_ids\", \"other_vacancy_benefit\", \"position_requirements\",\n",
        "              \"position_responsibilities\", \"required_certificates\",\n",
        "              \"vacancy_address_additional_info\", \"vacancy_address\", \"full_company_name\" ]"
      ]
    },
    {
      "cell_type": "markdown",
      "source": [
        "Опять перебрасываем нужное, удаляем переброшенное или не нужное\n",
        "\n",
        "(try-catch на случай перезапуска при отладке, т.к. при повторном удалении поднимает ошибку)"
      ],
      "metadata": {
        "id": "Ehmn9HGXWk_F"
      }
    },
    {
      "cell_type": "code",
      "execution_count": 14,
      "metadata": {
        "id": "lTdpBUN-WBPH"
      },
      "outputs": [],
      "source": [
        "for i in false_cats:\n",
        "  try:\n",
        "    cats.remove(i)\n",
        "  except:\n",
        "    pass\n",
        "  try:\n",
        "    text_features.append(i)\n",
        "  except:\n",
        "    pass\n",
        "\n",
        "for i in datetime_features:\n",
        "  try:\n",
        "    cats.remove(i)\n",
        "  except:\n",
        "    pass"
      ]
    },
    {
      "cell_type": "code",
      "execution_count": 15,
      "metadata": {
        "id": "YMApqmgFb9KN"
      },
      "outputs": [],
      "source": [
        "for i in datetime_features:\n",
        "  try:\n",
        "    cats.remove(i)\n",
        "  except:\n",
        "    pass\n",
        "\n",
        "for i in multicats:\n",
        "  try:\n",
        "    cats.remove(i)\n",
        "  except:\n",
        "    pass"
      ]
    },
    {
      "cell_type": "markdown",
      "source": [
        "Снова разбили неатомарные данные на колонки-категории true-false"
      ],
      "metadata": {
        "id": "b_j0OvYzW0eN"
      }
    },
    {
      "cell_type": "code",
      "execution_count": 16,
      "metadata": {
        "id": "XJIfWmncZnCO"
      },
      "outputs": [],
      "source": [
        "for feature in social_protected_ids:\n",
        "  df_ts[feature] = feature in df_ts[\"social_protected_ids\"]\n",
        "  cats.append(feature)\n",
        "for feature in vacancy_benefit_ids:\n",
        "  df_ts[feature] = feature in df_ts[\"vacancy_benefit_ids\"]\n",
        "  cats.append(feature)"
      ]
    },
    {
      "cell_type": "markdown",
      "source": [
        "Снова руками перебрали фичи через количество уникальных и по паре (сотен) примеров — для признаков, автоматически определённых к текстовым (т.к. в ходе поднятия моделей нашли ошибки в векторизации)."
      ],
      "metadata": {
        "id": "zELPgsd6YVFD"
      }
    },
    {
      "cell_type": "code",
      "execution_count": 17,
      "metadata": {
        "id": "7qo8X2_LcSej"
      },
      "outputs": [],
      "source": [
        "false_text_actualy_cats = [\n",
        "    \"busy_type\",\n",
        "    \"education\",\n",
        "    \"original_source_type\",\n",
        "    \"company_business_size\",\n",
        "    \"retraining_grant\",\n",
        "    \"schedule_type\",\n",
        "    \"source_type\",\n",
        "    \"status\",\n",
        "              ]\n",
        "false_text_actualy_nums = [\n",
        "    \"company_code\",\n",
        "]\n",
        "\n",
        "junk = [\n",
        "    \"data_ids\",\n",
        "]\n",
        "\n",
        "datetime_features += [\n",
        "    \"date_create\",\n",
        "    \"date_modify\",\n",
        "    \"published_date\",\n",
        "    ]\n",
        "\n",
        "multicats += [\"required_drive_license\"]"
      ]
    },
    {
      "cell_type": "markdown",
      "source": [
        "В требовании водительских прав получили список категорий"
      ],
      "metadata": {
        "id": "RRcJGg7KZwcL"
      }
    },
    {
      "cell_type": "code",
      "source": [
        "driver_cats_interm = df_ts[\"required_drive_license\"].loc[df_ts[\"required_drive_license\"].apply(lambda x: x!='[]')]\n",
        "driver_cats = []\n",
        "\n",
        "for i in driver_cats_interm:\n",
        "  i = i.replace(\"[\",\"\")\n",
        "  i = i.replace(\"]\",\"\")\n",
        "  i = i.replace(\"'\", \"\")\n",
        "  i = i.replace('\"', \"\")\n",
        "  i = i.split(\",\")\n",
        "  for k in i:\n",
        "    if not k in driver_cats:\n",
        "      driver_cats.append(k)\n"
      ],
      "metadata": {
        "id": "aO1EJCvcTnhl"
      },
      "execution_count": 18,
      "outputs": []
    },
    {
      "cell_type": "markdown",
      "source": [
        "...и породили новые колонки в датафрейме"
      ],
      "metadata": {
        "id": "1mqrTTcQZ398"
      }
    },
    {
      "cell_type": "code",
      "source": [
        "for cat in driver_cats:\n",
        "  df_ts[f\"driver_cat_{cat}\"] = df_ts[\"required_drive_license\"].apply(lambda x: \"True\" if cat in x else \"False\")\n",
        "  cats.append(f\"driver_cat_{cat}\")\n",
        "\n",
        "try:\n",
        "  text_features.remove(\"required_drive_license\")\n",
        "except:\n",
        "  pass\n"
      ],
      "metadata": {
        "id": "i2ytgdMuWJwM"
      },
      "execution_count": 19,
      "outputs": []
    },
    {
      "cell_type": "markdown",
      "source": [
        "..., удалив из датафрейма исходный комбинированный признак, чтобы влезло больше данных по памяти"
      ],
      "metadata": {
        "id": "Or9u5bQhaEJp"
      }
    },
    {
      "cell_type": "code",
      "source": [
        "df_ts = df_ts.drop(\"required_drive_license\", axis=1)"
      ],
      "metadata": {
        "id": "3DXI0cLpXBMQ"
      },
      "execution_count": 20,
      "outputs": []
    },
    {
      "cell_type": "markdown",
      "source": [
        "И снова перебросили"
      ],
      "metadata": {
        "id": "ZY5-peADaPWJ"
      }
    },
    {
      "cell_type": "code",
      "execution_count": 21,
      "metadata": {
        "id": "35ZCjQprcSey"
      },
      "outputs": [],
      "source": [
        "for i in false_text_actualy_cats:\n",
        "  try:\n",
        "    cats.append(i)\n",
        "  except:\n",
        "    pass\n",
        "  try:\n",
        "    text_features.remove(i)\n",
        "  except:\n",
        "    pass\n",
        "for i in false_text_actualy_nums:\n",
        "  try:\n",
        "    nums.append(i)\n",
        "  except:\n",
        "    pass\n",
        "  try:\n",
        "    text_features.remove(i)\n",
        "  except:\n",
        "    pass\n",
        "for i in junk:\n",
        "  try:\n",
        "    text_features.remove(i)\n",
        "  except:\n",
        "    pass\n",
        "for i in datetime_features:\n",
        "  try:\n",
        "    text_features.remove(i)\n",
        "  except:\n",
        "    pass\n",
        "\n",
        "for i in multicats:\n",
        "  try:\n",
        "    text_features.remove(i)\n",
        "  except:\n",
        "    pass"
      ]
    },
    {
      "cell_type": "markdown",
      "metadata": {
        "id": "cMnl5qgGcYQG"
      },
      "source": [
        "3. (Вздохнули и) Раскрыли JSON признаки"
      ]
    },
    {
      "cell_type": "code",
      "execution_count": 22,
      "metadata": {
        "colab": {
          "base_uri": "https://localhost:8080/"
        },
        "id": "rVWpjU4Hckn-",
        "outputId": "9ca85dde-c6ef-47e4-c90d-3c7e93c3e7b3"
      },
      "outputs": [
        {
          "output_type": "execute_result",
          "data": {
            "text/plain": [
              "('company', 'languageKnowledge', 'hardSkills', 'softSkills')"
            ]
          },
          "metadata": {},
          "execution_count": 22
        }
      ],
      "source": [
        "\"company\", \"languageKnowledge\", \"hardSkills\", \"softSkills\" # json xD # body count = 2 (dead)"
      ]
    },
    {
      "cell_type": "code",
      "execution_count": 23,
      "metadata": {
        "id": "WIOEhmw0cwL-"
      },
      "outputs": [],
      "source": [
        "from json import loads"
      ]
    },
    {
      "cell_type": "markdown",
      "source": [
        "Проверили, какие ключи есть в JSOn-ах. Проверили на одном примере для быстроты, что они полностью повторяются. При запуске обработке, опирающейся на это, вылезла ошибка, поэтому в итоге учли то, что они всё же не повторяются полностью.\n",
        "\n",
        "В JSON много данных, в сущности определяющих работодателя. Дабы не дублировать, оставили одно поле. В этом поле (хотя оно в большинстве случаев дулирует до этого существующую колонку в датафрейме) есть строки, в которых из JSONа строка отличается от строки из другой колонки датафрейма. Решили оставить name, чтобы в таких случаях можно было подобрать дополнительные токены из текста, посудив о зарплате по встрече этих токенов в контексте резюме. Альтернативный вариант — целочисленный ID работодателя — такой возможности не даёт, возможность учитывать его как категорию при малом количестве вакансий к одному работодателю и появлении новых интуитивно показаласт менее выигрышной, представлять его как числовой признак показалось плохо."
      ],
      "metadata": {
        "id": "HIwizqVJacXk"
      }
    },
    {
      "cell_type": "code",
      "execution_count": 24,
      "metadata": {
        "id": "Q5BmKRszcgvq"
      },
      "outputs": [],
      "source": [
        "keys_comp = []\n",
        "for i in list(df_ts[\"company\"]):\n",
        "  for k in loads(i):\n",
        "    if not k in keys_comp:\n",
        "      keys_comp.append(k)\n",
        "\n",
        "for k in keys_comp:\n",
        "  if not k in loads(str(df_ts[\"company\"].head(1).iloc[0])):\n",
        "    print(k) #it's ok if it prints nothing, ergo (suppose...) all the keys always repeat\n",
        "    # aaaaand it's not true in general\n",
        "\n",
        "''' # if we desperately need ALL THE DATA\n",
        "for k in keys_comp:\n",
        "  df_ts[f\"company_{k}\"] = df_ts['company'].apply(lambda x: loads(x)[k])\n",
        "\n",
        "# print(keys_comp) #(for those keys_comp TODO:..)\n",
        "#TODO cats.append()\n",
        "#TODO nums.append()\n",
        "#TODO text_features.append()\n",
        "'''\n",
        "\n",
        "df_ts[\"company_json_name\"] = df_ts[\"company\"].apply(lambda x: loads(x)[\"name\"]\n",
        "                                                    if \"name\" in loads(x)\n",
        "                                                    else \"Название не указано\") #\n",
        "'''\n",
        "наверное найдутся корреляции между совпадениями в названиях и уровнем зарплаты.\n",
        "А остальное \"Если забыл, значит это не так уж и важно\" (хочу забыть).\n",
        "Есть вариант брать по коду компании, чтобы не гонять в тект, затем в числа,\n",
        "но вдруг они не будут повторяться от слова совсем, а какие-нибудь\n",
        "\"ГБУЗ Поликлиника\" будут повторяться для схожих ЗП\n",
        "'''\n",
        "text_features.append(\"company_json_name\")\n"
      ]
    },
    {
      "cell_type": "markdown",
      "source": [
        "В знании языка есть сам язык и уровень владения. Уникальных значений было не так много, но мы решили сделать вывод, что уровень владения от резюме к резюме жёстко повторяется из жёсткого набора (т.е. оба извлекаемых признака категориальные)."
      ],
      "metadata": {
        "id": "w6bVBaAEhuG0"
      }
    },
    {
      "cell_type": "code",
      "execution_count": 25,
      "metadata": {
        "collapsed": true,
        "id": "erwKZldwf59d"
      },
      "outputs": [],
      "source": [
        "keys_lg = []\n",
        "for i in list(df_ts[\"languageKnowledge\"]):\n",
        "  if i!=\"[]\":\n",
        "    for k in loads(i)[0]:\n",
        "      if not k in keys_lg:\n",
        "        keys_lg.append(k)\n",
        "\n",
        "for k in keys_lg:\n",
        "  if not k in loads(df_ts[\"languageKnowledge\"].loc[df_ts[\"languageKnowledge\"]\n",
        "      .apply(lambda x: x!='[]')].head(1).iloc[0])[0]:\n",
        "    print(k) #it's ok if it prints nothing, ergo (suppose...) all the keys always repeat"
      ]
    },
    {
      "cell_type": "code",
      "execution_count": 26,
      "metadata": {
        "id": "XrkZpdSrwf6s"
      },
      "outputs": [],
      "source": [
        "df_ts[\"LK_code_language\"] = df_ts[\"languageKnowledge\"].apply(lambda x: loads(x)[0][\"code_language\"] if x!=\"[]\" else \"nan\")"
      ]
    },
    {
      "cell_type": "code",
      "execution_count": 27,
      "metadata": {
        "id": "XmkbaaUjjqQd"
      },
      "outputs": [],
      "source": [
        "df_ts[\"LK_level\"] = df_ts[\"languageKnowledge\"].apply(lambda x: (loads(x)[0][\"level\"] if \"level\" in loads(x)[0] else \"Не указан\") if x!=\"[]\" else \"nan\")\n",
        "\n",
        "cats.append(\"LK_code_language\")\n",
        "cats.append(\"LK_level\")"
      ]
    },
    {
      "cell_type": "code",
      "source": [
        "cats.remove(\"LK_code_language\")\n",
        "cats.remove(\"LK_level\")\n",
        "nums.remove(\"retraining_grant_value\")"
      ],
      "metadata": {
        "id": "8xieh21KxPt5"
      },
      "execution_count": 28,
      "outputs": []
    },
    {
      "cell_type": "code",
      "source": [
        "nums.remove(\"salary_min\")\n",
        "nums.remove(\"salary_max\")"
      ],
      "metadata": {
        "id": "9U5_5ZJDxdjb"
      },
      "execution_count": 29,
      "outputs": []
    },
    {
      "cell_type": "code",
      "source": [],
      "metadata": {
        "id": "tBZ8Z0ooxdhX"
      },
      "execution_count": 29,
      "outputs": []
    },
    {
      "cell_type": "code",
      "source": [],
      "metadata": {
        "id": "yRcr5MSSxdVW"
      },
      "execution_count": 29,
      "outputs": []
    },
    {
      "cell_type": "markdown",
      "source": [
        "Хард и софт скилы в JSON-ах содержат только одно осмысленное значение — сам скил"
      ],
      "metadata": {
        "id": "rixwiOwwijom"
      }
    },
    {
      "cell_type": "code",
      "execution_count": 30,
      "metadata": {
        "id": "nZCb7IR7nNEL"
      },
      "outputs": [],
      "source": [
        "df_ts[\"hardSkills\"] = df_ts[\"hardSkills\"].apply(lambda x: loads(x)[0][\"hard_skill_name\"] if x!=\"[]\" else \"nan\")"
      ]
    },
    {
      "cell_type": "code",
      "execution_count": 31,
      "metadata": {
        "id": "ttv1R1hHoH8N"
      },
      "outputs": [],
      "source": [
        "df_ts[\"softSkills\"] = df_ts[\"softSkills\"].apply(lambda x: loads(x)[0][\"soft_skill_name\"] if x!=\"[]\" else \"nan\")"
      ]
    },
    {
      "cell_type": "markdown",
      "source": [
        "Удаляем лишнее исходное"
      ],
      "metadata": {
        "id": "u1sMZHq2i9fv"
      }
    },
    {
      "cell_type": "code",
      "execution_count": 32,
      "metadata": {
        "id": "6MpQpm27nWM_"
      },
      "outputs": [],
      "source": [
        "df_ts = df_ts.drop(\"company\",axis=1)"
      ]
    },
    {
      "cell_type": "code",
      "execution_count": 33,
      "metadata": {
        "id": "1HVKUOLqneJg"
      },
      "outputs": [],
      "source": [
        "df_ts = df_ts.drop(\"languageKnowledge\",axis=1)"
      ]
    },
    {
      "cell_type": "code",
      "source": [
        "try:\n",
        "  text_features.remove(\"company\")\n",
        "  text_features.remove(\"languageKnowledge\")\n",
        "except:\n",
        "  pass"
      ],
      "metadata": {
        "id": "FQ1Q8fxWIFKE"
      },
      "execution_count": 34,
      "outputs": []
    },
    {
      "cell_type": "markdown",
      "source": [
        "4. Поняли через ошибки, что пропустили числовые признаки, в которых мало значений, и которые могут быть категориями. (И на этом полностью руками перебрали все признаки)"
      ],
      "metadata": {
        "id": "j2dm0iVJjD1b"
      }
    },
    {
      "cell_type": "code",
      "source": [
        "for feature in nums:\n",
        "  print(feature, end = \": \")\n",
        "  print(len(list(df_ts[feature].unique())))"
      ],
      "metadata": {
        "colab": {
          "base_uri": "https://localhost:8080/"
        },
        "id": "naFEtZ0xyxew",
        "outputId": "bfd2253f-25bf-4207-a66e-49ca8d2b268f"
      },
      "execution_count": 35,
      "outputs": [
        {
          "output_type": "stream",
          "name": "stdout",
          "text": [
            "accommodation_capability: 2\n",
            "additional_premium: 531\n",
            "career_perspective: 2\n",
            "code_profession: 3419\n",
            "is_uzbekistan_recruitment: 2\n",
            "is_quoted: 2\n",
            "okso_code: 224\n",
            "publication_period: 2\n",
            "required_experience: 20\n",
            "salary: 12041\n",
            "state_region_code: 90\n",
            "vacancy_address_code: 39526\n",
            "vacancy_address_latitude: 70973\n",
            "vacancy_address_longitude: 71272\n",
            "work_places: 232\n",
            "federalDistrictCode: 10\n",
            "company_inn: 49927\n",
            "company_code: 52117\n"
          ]
        }
      ]
    },
    {
      "cell_type": "code",
      "source": [
        "junk = [\"publication_period\", \"state_region_code\", \"company_code\"]"
      ],
      "metadata": {
        "id": "CRbydCvD0FmQ"
      },
      "execution_count": 36,
      "outputs": []
    },
    {
      "cell_type": "code",
      "source": [
        "false_nums = [\"accommodation_capability\", \"career_perspective\",\n",
        "         \"is_uzbekistan_recruitment\", \"is_quoted\", \"publication_period\",\n",
        "         \"federalDistrictCode\"\n",
        "         ]\n",
        "\n",
        "cats += false_nums\n",
        "for i in false_nums:\n",
        "  try:\n",
        "    nums.remove(i)\n",
        "  except:\n",
        "    pass\n",
        "\n",
        "try:\n",
        "  nums.remove(\"publication_period\")\n",
        "except:\n",
        "  pass\n",
        "try:\n",
        "  nums.remove(\"state_region_code\")\n",
        "except:\n",
        "  pass\n",
        "try:\n",
        "  nums.remove(\"company_code\")\n",
        "except:\n",
        "  pass"
      ],
      "metadata": {
        "id": "hgon9hRN0hMy"
      },
      "execution_count": 37,
      "outputs": []
    },
    {
      "cell_type": "code",
      "source": [
        "list(df_ts[\"is_quoted\"].unique())"
      ],
      "metadata": {
        "colab": {
          "base_uri": "https://localhost:8080/"
        },
        "id": "haJrNkidz1AU",
        "outputId": "a2068257-90fd-4421-a5ef-cdc30083c760"
      },
      "execution_count": 38,
      "outputs": [
        {
          "output_type": "execute_result",
          "data": {
            "text/plain": [
              "[False, True]"
            ]
          },
          "metadata": {},
          "execution_count": 38
        }
      ]
    },
    {
      "cell_type": "markdown",
      "metadata": {
        "id": "wreBt2pS6Ga5"
      },
      "source": [
        "Результат - датафрейм с 3 - мя листами, которые идут на вход (cats,nums,test_features) - в каждом листе название обработанных и в будущем использованных столбцов\n",
        "\n",
        "**target фича - Salary**"
      ]
    },
    {
      "cell_type": "markdown",
      "source": [
        "Политика обработки nan-ов — оставлять всё, что есть, из данных (nan-ы тоже могут быть данными)\n"
      ],
      "metadata": {
        "id": "SPrV_5OmjXjI"
      }
    },
    {
      "cell_type": "markdown",
      "source": [
        "Далее также перевели все категории в строки (дабы погасить ошибку метода преобразования категорий к числам)"
      ],
      "metadata": {
        "id": "NQbN0515jg_2"
      }
    },
    {
      "cell_type": "markdown",
      "source": [
        "На последок проверили, что не потеряли признаки, в случае если будем пользоваться тремя списками колонок"
      ],
      "metadata": {
        "id": "-AN9Z3TOjv1w"
      }
    },
    {
      "cell_type": "code",
      "execution_count": 39,
      "metadata": {
        "colab": {
          "base_uri": "https://localhost:8080/"
        },
        "id": "2NOFxraP6Ga6",
        "outputId": "8f83df6d-2cd2-45e6-9079-f857fbc5760d"
      },
      "outputs": [
        {
          "output_type": "stream",
          "name": "stdout",
          "text": [
            "id\n",
            "change_time\n",
            "company_code\n",
            "data_ids\n",
            "date_create\n",
            "date_modify\n",
            "published_date\n",
            "retraining_grant_value\n",
            "salary_min\n",
            "salary_max\n",
            "social_protected_ids\n",
            "state_region_code\n",
            "vacancy_benefit_ids\n",
            "LK_code_language\n",
            "LK_level\n",
            "------------\n"
          ]
        }
      ],
      "source": [
        "for i in list(df_ts.columns):\n",
        "  if not i in cats+text_features+nums:\n",
        "    print(i)\n",
        "\n",
        "print(\"------------\")\n",
        "\n",
        "for i in cats+text_features+nums:\n",
        "  if not i in list(df_ts.columns):\n",
        "    print(i)"
      ]
    },
    {
      "cell_type": "markdown",
      "source": [
        "Избавились от того, от чего хотели избавиться, освободив память"
      ],
      "metadata": {
        "id": "75D8nTynj4oy"
      }
    },
    {
      "cell_type": "code",
      "source": [
        "df_ts = df_ts.drop(junk+datetime_features, axis=1)"
      ],
      "metadata": {
        "id": "2NIVb9EeDTKU"
      },
      "execution_count": 41,
      "outputs": []
    },
    {
      "cell_type": "markdown",
      "source": [
        "# Проба моделей"
      ],
      "metadata": {
        "id": "vxswrfbNYsZk"
      }
    },
    {
      "cell_type": "markdown",
      "source": [
        "###data preparation"
      ],
      "metadata": {
        "id": "4cSFxFD5Qi0J"
      }
    },
    {
      "cell_type": "code",
      "source": [
        "df_ts.columns"
      ],
      "metadata": {
        "colab": {
          "base_uri": "https://localhost:8080/"
        },
        "id": "JtiEJPQMzvSF",
        "outputId": "97b5d0c8-5430-45e1-bca5-fdbbe2c219bd"
      },
      "execution_count": 43,
      "outputs": [
        {
          "output_type": "execute_result",
          "data": {
            "text/plain": [
              "Index(['id', 'academic_degree', 'accommodation_capability',\n",
              "       'accommodation_type', 'additional_premium', 'additional_requirements',\n",
              "       'bonus_type', 'measure_type', 'busy_type', 'career_perspective',\n",
              "       'code_external_system', 'code_profession', 'code_professional_sphere',\n",
              "       'contact_person', 'contact_source', 'data_ids', 'education',\n",
              "       'education_speciality', 'metro_ids', 'is_mobility_program',\n",
              "       'is_uzbekistan_recruitment', 'is_quoted', 'need_medcard', 'okso_code',\n",
              "       'original_source_type', 'other_vacancy_benefit',\n",
              "       'position_requirements', 'position_responsibilities', 'regionName',\n",
              "       'company_business_size', 'required_certificates', 'required_experience',\n",
              "       'retraining_capability', 'retraining_grant', 'retraining_grant_value',\n",
              "       'salary', 'salary_min', 'salary_max', 'schedule_type',\n",
              "       'social_protected_ids', 'source_type', 'status',\n",
              "       'transport_compensation', 'vacancy_address_additional_info',\n",
              "       'vacancy_address', 'vacancy_address_code', 'vacancy_address_house',\n",
              "       'vacancy_address_latitude', 'vacancy_address_longitude',\n",
              "       'vacancy_benefit_ids', 'vacancy_name', 'work_places',\n",
              "       'professionalSphereName', 'federalDistrictCode', 'industryBranchName',\n",
              "       'full_company_name', 'company_inn', 'hardSkills', 'softSkills',\n",
              "       'Беженцы', 'лица, получившие временное убежище', 'Инвалиды',\n",
              "       'Лица, освобождаемые из мест лишения свободы',\n",
              "       'Матери и отцы, воспитывающие без супруга (супруги) детей в возрасте до пяти лет',\n",
              "       'вынужденные переселенцы', 'Многодетные семьи',\n",
              "       'Несовершеннолетние работники', 'Работники, имеющие детей-инвалидов',\n",
              "       'Работники, осуществляющие уход за больными членами их семей в соответствии с медицинским заключением',\n",
              "       'ДМС', 'Путевки в оздоровительные учреждения', 'Оплата занятий спортом',\n",
              "       'Оплата питания', 'driver_cat_B', 'driver_cat_E', 'driver_cat_C',\n",
              "       'driver_cat_D', 'driver_cat_A', 'company_json_name', 'LK_code_language',\n",
              "       'LK_level'],\n",
              "      dtype='object')"
            ]
          },
          "metadata": {},
          "execution_count": 43
        }
      ]
    },
    {
      "cell_type": "markdown",
      "source": [
        "Перевод nan в строку"
      ],
      "metadata": {
        "id": "k-r8IJeykG1b"
      }
    },
    {
      "cell_type": "code",
      "source": [
        "cats.remove(\"publication_period\")"
      ],
      "metadata": {
        "id": "3ZQAiwGLz1Rm"
      },
      "execution_count": 44,
      "outputs": []
    },
    {
      "cell_type": "code",
      "source": [
        "nums.remove(\"salary\")"
      ],
      "metadata": {
        "id": "74YLRr1T10V4"
      },
      "execution_count": 58,
      "outputs": []
    },
    {
      "cell_type": "code",
      "source": [
        "for i in cats:\n",
        "  df_ts[i] = df_ts[i].apply(lambda x: str(x))"
      ],
      "metadata": {
        "id": "cLz-zn9F1BYL"
      },
      "execution_count": 53,
      "outputs": []
    },
    {
      "cell_type": "code",
      "source": [
        "for feature in cats:\n",
        "  df_ts[feature] = df_ts[feature].apply(lambda x: \"nan\" if x!=x else x)# nan всегда != nan"
      ],
      "metadata": {
        "id": "USwaeGd-CD8W"
      },
      "execution_count": 54,
      "outputs": []
    },
    {
      "cell_type": "markdown",
      "source": [
        "Проверка, что в текстах не осталось конкретного мусора и категорий (ловили ошибку)"
      ],
      "metadata": {
        "id": "WvFyt1zdkocm"
      }
    },
    {
      "cell_type": "code",
      "source": [
        "for feature in text_features:\n",
        "  if False in (list(df_ts[feature])):\n",
        "    print(f\"{feature}: \\n{df_ts[feature]}\\n\\n\")"
      ],
      "metadata": {
        "id": "1gk2fH2PA-2l"
      },
      "execution_count": 46,
      "outputs": []
    },
    {
      "cell_type": "code",
      "source": [
        "df_ts.head(5)"
      ],
      "metadata": {
        "colab": {
          "base_uri": "https://localhost:8080/",
          "height": 551
        },
        "id": "KqohzZCfdAqe",
        "outputId": "123224be-f6bc-47c3-d160-ec6efaa9ec6b"
      },
      "execution_count": 47,
      "outputs": [
        {
          "output_type": "execute_result",
          "data": {
            "text/plain": [
              "                                     id academic_degree  \\\n",
              "0  4e2f52d2-fd76-11e4-8a5b-3bdbd1a6e39d             nan   \n",
              "1  fafe2e23-0e2c-11e5-9cc4-3bdbd1a6e39d             nan   \n",
              "2  7eb9edc1-fd76-11e4-8a5b-3bdbd1a6e39d             nan   \n",
              "3  2e68ddc3-0499-11e5-b3df-3bdbd1a6e39d             nan   \n",
              "4  8460a3b2-fd7e-11e4-8a5b-3bdbd1a6e39d             nan   \n",
              "\n",
              "   accommodation_capability accommodation_type  additional_premium  \\\n",
              "0                     False                nan                 NaN   \n",
              "1                     False                nan                 NaN   \n",
              "2                     False                nan                 NaN   \n",
              "3                     False                nan                 NaN   \n",
              "4                     False                nan                 NaN   \n",
              "\n",
              "                             additional_requirements bonus_type measure_type  \\\n",
              "0  <p>Доплаты молодым специалистам, возможность с...        nan          nan   \n",
              "1                                                NaN        nan          nan   \n",
              "2  <p>&nbsp;</p> <p>Фельдшер отделения СМП, Ковжи...        nan          nan   \n",
              "3                                                NaN        nan          nan   \n",
              "4                                                NaN        nan          nan   \n",
              "\n",
              "          busy_type  career_perspective  ... Оплата занятий спортом  \\\n",
              "0  Полная занятость               False  ...                  False   \n",
              "1  Полная занятость               False  ...                  False   \n",
              "2  Полная занятость               False  ...                  False   \n",
              "3  Полная занятость               False  ...                  False   \n",
              "4  Полная занятость               False  ...                  False   \n",
              "\n",
              "   Оплата питания driver_cat_B driver_cat_E driver_cat_C driver_cat_D  \\\n",
              "0           False        False        False        False        False   \n",
              "1           False        False        False        False        False   \n",
              "2           False        False        False        False        False   \n",
              "3           False        False        False        False        False   \n",
              "4           False        False        False        False        False   \n",
              "\n",
              "  driver_cat_A                                  company_json_name  \\\n",
              "0        False  БУЗ ВО \"ВОЛОГОДСКИЙ ОБЛАСТНОЙ НАРКОЛОГИЧЕСКИЙ ...   \n",
              "1        False                                  ООО \"МЦ \"ПАНАЦЕЯ\"   \n",
              "2        False                           БУЗ ВО \"ВЫТЕГОРСКАЯ ЦРБ\"   \n",
              "3        False                   БПОУ ВО \"БОРИСОГЛЕБСКМЕДКОЛЛЕДЖ\"   \n",
              "4        False                             БУЗ ВО \"ЛИСКИНСКАЯ РБ\"   \n",
              "\n",
              "  LK_code_language LK_level  \n",
              "0              nan      nan  \n",
              "1              nan      nan  \n",
              "2              nan      nan  \n",
              "3              nan      nan  \n",
              "4              nan      nan  \n",
              "\n",
              "[5 rows x 81 columns]"
            ],
            "text/html": [
              "\n",
              "  <div id=\"df-8640f07c-1e34-4f2d-b963-132a6c83c9fd\" class=\"colab-df-container\">\n",
              "    <div>\n",
              "<style scoped>\n",
              "    .dataframe tbody tr th:only-of-type {\n",
              "        vertical-align: middle;\n",
              "    }\n",
              "\n",
              "    .dataframe tbody tr th {\n",
              "        vertical-align: top;\n",
              "    }\n",
              "\n",
              "    .dataframe thead th {\n",
              "        text-align: right;\n",
              "    }\n",
              "</style>\n",
              "<table border=\"1\" class=\"dataframe\">\n",
              "  <thead>\n",
              "    <tr style=\"text-align: right;\">\n",
              "      <th></th>\n",
              "      <th>id</th>\n",
              "      <th>academic_degree</th>\n",
              "      <th>accommodation_capability</th>\n",
              "      <th>accommodation_type</th>\n",
              "      <th>additional_premium</th>\n",
              "      <th>additional_requirements</th>\n",
              "      <th>bonus_type</th>\n",
              "      <th>measure_type</th>\n",
              "      <th>busy_type</th>\n",
              "      <th>career_perspective</th>\n",
              "      <th>...</th>\n",
              "      <th>Оплата занятий спортом</th>\n",
              "      <th>Оплата питания</th>\n",
              "      <th>driver_cat_B</th>\n",
              "      <th>driver_cat_E</th>\n",
              "      <th>driver_cat_C</th>\n",
              "      <th>driver_cat_D</th>\n",
              "      <th>driver_cat_A</th>\n",
              "      <th>company_json_name</th>\n",
              "      <th>LK_code_language</th>\n",
              "      <th>LK_level</th>\n",
              "    </tr>\n",
              "  </thead>\n",
              "  <tbody>\n",
              "    <tr>\n",
              "      <th>0</th>\n",
              "      <td>4e2f52d2-fd76-11e4-8a5b-3bdbd1a6e39d</td>\n",
              "      <td>nan</td>\n",
              "      <td>False</td>\n",
              "      <td>nan</td>\n",
              "      <td>NaN</td>\n",
              "      <td>&lt;p&gt;Доплаты молодым специалистам, возможность с...</td>\n",
              "      <td>nan</td>\n",
              "      <td>nan</td>\n",
              "      <td>Полная занятость</td>\n",
              "      <td>False</td>\n",
              "      <td>...</td>\n",
              "      <td>False</td>\n",
              "      <td>False</td>\n",
              "      <td>False</td>\n",
              "      <td>False</td>\n",
              "      <td>False</td>\n",
              "      <td>False</td>\n",
              "      <td>False</td>\n",
              "      <td>БУЗ ВО \"ВОЛОГОДСКИЙ ОБЛАСТНОЙ НАРКОЛОГИЧЕСКИЙ ...</td>\n",
              "      <td>nan</td>\n",
              "      <td>nan</td>\n",
              "    </tr>\n",
              "    <tr>\n",
              "      <th>1</th>\n",
              "      <td>fafe2e23-0e2c-11e5-9cc4-3bdbd1a6e39d</td>\n",
              "      <td>nan</td>\n",
              "      <td>False</td>\n",
              "      <td>nan</td>\n",
              "      <td>NaN</td>\n",
              "      <td>NaN</td>\n",
              "      <td>nan</td>\n",
              "      <td>nan</td>\n",
              "      <td>Полная занятость</td>\n",
              "      <td>False</td>\n",
              "      <td>...</td>\n",
              "      <td>False</td>\n",
              "      <td>False</td>\n",
              "      <td>False</td>\n",
              "      <td>False</td>\n",
              "      <td>False</td>\n",
              "      <td>False</td>\n",
              "      <td>False</td>\n",
              "      <td>ООО \"МЦ \"ПАНАЦЕЯ\"</td>\n",
              "      <td>nan</td>\n",
              "      <td>nan</td>\n",
              "    </tr>\n",
              "    <tr>\n",
              "      <th>2</th>\n",
              "      <td>7eb9edc1-fd76-11e4-8a5b-3bdbd1a6e39d</td>\n",
              "      <td>nan</td>\n",
              "      <td>False</td>\n",
              "      <td>nan</td>\n",
              "      <td>NaN</td>\n",
              "      <td>&lt;p&gt;&amp;nbsp;&lt;/p&gt; &lt;p&gt;Фельдшер отделения СМП, Ковжи...</td>\n",
              "      <td>nan</td>\n",
              "      <td>nan</td>\n",
              "      <td>Полная занятость</td>\n",
              "      <td>False</td>\n",
              "      <td>...</td>\n",
              "      <td>False</td>\n",
              "      <td>False</td>\n",
              "      <td>False</td>\n",
              "      <td>False</td>\n",
              "      <td>False</td>\n",
              "      <td>False</td>\n",
              "      <td>False</td>\n",
              "      <td>БУЗ ВО \"ВЫТЕГОРСКАЯ ЦРБ\"</td>\n",
              "      <td>nan</td>\n",
              "      <td>nan</td>\n",
              "    </tr>\n",
              "    <tr>\n",
              "      <th>3</th>\n",
              "      <td>2e68ddc3-0499-11e5-b3df-3bdbd1a6e39d</td>\n",
              "      <td>nan</td>\n",
              "      <td>False</td>\n",
              "      <td>nan</td>\n",
              "      <td>NaN</td>\n",
              "      <td>NaN</td>\n",
              "      <td>nan</td>\n",
              "      <td>nan</td>\n",
              "      <td>Полная занятость</td>\n",
              "      <td>False</td>\n",
              "      <td>...</td>\n",
              "      <td>False</td>\n",
              "      <td>False</td>\n",
              "      <td>False</td>\n",
              "      <td>False</td>\n",
              "      <td>False</td>\n",
              "      <td>False</td>\n",
              "      <td>False</td>\n",
              "      <td>БПОУ ВО \"БОРИСОГЛЕБСКМЕДКОЛЛЕДЖ\"</td>\n",
              "      <td>nan</td>\n",
              "      <td>nan</td>\n",
              "    </tr>\n",
              "    <tr>\n",
              "      <th>4</th>\n",
              "      <td>8460a3b2-fd7e-11e4-8a5b-3bdbd1a6e39d</td>\n",
              "      <td>nan</td>\n",
              "      <td>False</td>\n",
              "      <td>nan</td>\n",
              "      <td>NaN</td>\n",
              "      <td>NaN</td>\n",
              "      <td>nan</td>\n",
              "      <td>nan</td>\n",
              "      <td>Полная занятость</td>\n",
              "      <td>False</td>\n",
              "      <td>...</td>\n",
              "      <td>False</td>\n",
              "      <td>False</td>\n",
              "      <td>False</td>\n",
              "      <td>False</td>\n",
              "      <td>False</td>\n",
              "      <td>False</td>\n",
              "      <td>False</td>\n",
              "      <td>БУЗ ВО \"ЛИСКИНСКАЯ РБ\"</td>\n",
              "      <td>nan</td>\n",
              "      <td>nan</td>\n",
              "    </tr>\n",
              "  </tbody>\n",
              "</table>\n",
              "<p>5 rows × 81 columns</p>\n",
              "</div>\n",
              "    <div class=\"colab-df-buttons\">\n",
              "\n",
              "  <div class=\"colab-df-container\">\n",
              "    <button class=\"colab-df-convert\" onclick=\"convertToInteractive('df-8640f07c-1e34-4f2d-b963-132a6c83c9fd')\"\n",
              "            title=\"Convert this dataframe to an interactive table.\"\n",
              "            style=\"display:none;\">\n",
              "\n",
              "  <svg xmlns=\"http://www.w3.org/2000/svg\" height=\"24px\" viewBox=\"0 -960 960 960\">\n",
              "    <path d=\"M120-120v-720h720v720H120Zm60-500h600v-160H180v160Zm220 220h160v-160H400v160Zm0 220h160v-160H400v160ZM180-400h160v-160H180v160Zm440 0h160v-160H620v160ZM180-180h160v-160H180v160Zm440 0h160v-160H620v160Z\"/>\n",
              "  </svg>\n",
              "    </button>\n",
              "\n",
              "  <style>\n",
              "    .colab-df-container {\n",
              "      display:flex;\n",
              "      gap: 12px;\n",
              "    }\n",
              "\n",
              "    .colab-df-convert {\n",
              "      background-color: #E8F0FE;\n",
              "      border: none;\n",
              "      border-radius: 50%;\n",
              "      cursor: pointer;\n",
              "      display: none;\n",
              "      fill: #1967D2;\n",
              "      height: 32px;\n",
              "      padding: 0 0 0 0;\n",
              "      width: 32px;\n",
              "    }\n",
              "\n",
              "    .colab-df-convert:hover {\n",
              "      background-color: #E2EBFA;\n",
              "      box-shadow: 0px 1px 2px rgba(60, 64, 67, 0.3), 0px 1px 3px 1px rgba(60, 64, 67, 0.15);\n",
              "      fill: #174EA6;\n",
              "    }\n",
              "\n",
              "    .colab-df-buttons div {\n",
              "      margin-bottom: 4px;\n",
              "    }\n",
              "\n",
              "    [theme=dark] .colab-df-convert {\n",
              "      background-color: #3B4455;\n",
              "      fill: #D2E3FC;\n",
              "    }\n",
              "\n",
              "    [theme=dark] .colab-df-convert:hover {\n",
              "      background-color: #434B5C;\n",
              "      box-shadow: 0px 1px 3px 1px rgba(0, 0, 0, 0.15);\n",
              "      filter: drop-shadow(0px 1px 2px rgba(0, 0, 0, 0.3));\n",
              "      fill: #FFFFFF;\n",
              "    }\n",
              "  </style>\n",
              "\n",
              "    <script>\n",
              "      const buttonEl =\n",
              "        document.querySelector('#df-8640f07c-1e34-4f2d-b963-132a6c83c9fd button.colab-df-convert');\n",
              "      buttonEl.style.display =\n",
              "        google.colab.kernel.accessAllowed ? 'block' : 'none';\n",
              "\n",
              "      async function convertToInteractive(key) {\n",
              "        const element = document.querySelector('#df-8640f07c-1e34-4f2d-b963-132a6c83c9fd');\n",
              "        const dataTable =\n",
              "          await google.colab.kernel.invokeFunction('convertToInteractive',\n",
              "                                                    [key], {});\n",
              "        if (!dataTable) return;\n",
              "\n",
              "        const docLinkHtml = 'Like what you see? Visit the ' +\n",
              "          '<a target=\"_blank\" href=https://colab.research.google.com/notebooks/data_table.ipynb>data table notebook</a>'\n",
              "          + ' to learn more about interactive tables.';\n",
              "        element.innerHTML = '';\n",
              "        dataTable['output_type'] = 'display_data';\n",
              "        await google.colab.output.renderOutput(dataTable, element);\n",
              "        const docLink = document.createElement('div');\n",
              "        docLink.innerHTML = docLinkHtml;\n",
              "        element.appendChild(docLink);\n",
              "      }\n",
              "    </script>\n",
              "  </div>\n",
              "\n",
              "\n",
              "<div id=\"df-09c97637-85ef-4726-afd0-59ba03f7cebc\">\n",
              "  <button class=\"colab-df-quickchart\" onclick=\"quickchart('df-09c97637-85ef-4726-afd0-59ba03f7cebc')\"\n",
              "            title=\"Suggest charts\"\n",
              "            style=\"display:none;\">\n",
              "\n",
              "<svg xmlns=\"http://www.w3.org/2000/svg\" height=\"24px\"viewBox=\"0 0 24 24\"\n",
              "     width=\"24px\">\n",
              "    <g>\n",
              "        <path d=\"M19 3H5c-1.1 0-2 .9-2 2v14c0 1.1.9 2 2 2h14c1.1 0 2-.9 2-2V5c0-1.1-.9-2-2-2zM9 17H7v-7h2v7zm4 0h-2V7h2v10zm4 0h-2v-4h2v4z\"/>\n",
              "    </g>\n",
              "</svg>\n",
              "  </button>\n",
              "\n",
              "<style>\n",
              "  .colab-df-quickchart {\n",
              "      --bg-color: #E8F0FE;\n",
              "      --fill-color: #1967D2;\n",
              "      --hover-bg-color: #E2EBFA;\n",
              "      --hover-fill-color: #174EA6;\n",
              "      --disabled-fill-color: #AAA;\n",
              "      --disabled-bg-color: #DDD;\n",
              "  }\n",
              "\n",
              "  [theme=dark] .colab-df-quickchart {\n",
              "      --bg-color: #3B4455;\n",
              "      --fill-color: #D2E3FC;\n",
              "      --hover-bg-color: #434B5C;\n",
              "      --hover-fill-color: #FFFFFF;\n",
              "      --disabled-bg-color: #3B4455;\n",
              "      --disabled-fill-color: #666;\n",
              "  }\n",
              "\n",
              "  .colab-df-quickchart {\n",
              "    background-color: var(--bg-color);\n",
              "    border: none;\n",
              "    border-radius: 50%;\n",
              "    cursor: pointer;\n",
              "    display: none;\n",
              "    fill: var(--fill-color);\n",
              "    height: 32px;\n",
              "    padding: 0;\n",
              "    width: 32px;\n",
              "  }\n",
              "\n",
              "  .colab-df-quickchart:hover {\n",
              "    background-color: var(--hover-bg-color);\n",
              "    box-shadow: 0 1px 2px rgba(60, 64, 67, 0.3), 0 1px 3px 1px rgba(60, 64, 67, 0.15);\n",
              "    fill: var(--button-hover-fill-color);\n",
              "  }\n",
              "\n",
              "  .colab-df-quickchart-complete:disabled,\n",
              "  .colab-df-quickchart-complete:disabled:hover {\n",
              "    background-color: var(--disabled-bg-color);\n",
              "    fill: var(--disabled-fill-color);\n",
              "    box-shadow: none;\n",
              "  }\n",
              "\n",
              "  .colab-df-spinner {\n",
              "    border: 2px solid var(--fill-color);\n",
              "    border-color: transparent;\n",
              "    border-bottom-color: var(--fill-color);\n",
              "    animation:\n",
              "      spin 1s steps(1) infinite;\n",
              "  }\n",
              "\n",
              "  @keyframes spin {\n",
              "    0% {\n",
              "      border-color: transparent;\n",
              "      border-bottom-color: var(--fill-color);\n",
              "      border-left-color: var(--fill-color);\n",
              "    }\n",
              "    20% {\n",
              "      border-color: transparent;\n",
              "      border-left-color: var(--fill-color);\n",
              "      border-top-color: var(--fill-color);\n",
              "    }\n",
              "    30% {\n",
              "      border-color: transparent;\n",
              "      border-left-color: var(--fill-color);\n",
              "      border-top-color: var(--fill-color);\n",
              "      border-right-color: var(--fill-color);\n",
              "    }\n",
              "    40% {\n",
              "      border-color: transparent;\n",
              "      border-right-color: var(--fill-color);\n",
              "      border-top-color: var(--fill-color);\n",
              "    }\n",
              "    60% {\n",
              "      border-color: transparent;\n",
              "      border-right-color: var(--fill-color);\n",
              "    }\n",
              "    80% {\n",
              "      border-color: transparent;\n",
              "      border-right-color: var(--fill-color);\n",
              "      border-bottom-color: var(--fill-color);\n",
              "    }\n",
              "    90% {\n",
              "      border-color: transparent;\n",
              "      border-bottom-color: var(--fill-color);\n",
              "    }\n",
              "  }\n",
              "</style>\n",
              "\n",
              "  <script>\n",
              "    async function quickchart(key) {\n",
              "      const quickchartButtonEl =\n",
              "        document.querySelector('#' + key + ' button');\n",
              "      quickchartButtonEl.disabled = true;  // To prevent multiple clicks.\n",
              "      quickchartButtonEl.classList.add('colab-df-spinner');\n",
              "      try {\n",
              "        const charts = await google.colab.kernel.invokeFunction(\n",
              "            'suggestCharts', [key], {});\n",
              "      } catch (error) {\n",
              "        console.error('Error during call to suggestCharts:', error);\n",
              "      }\n",
              "      quickchartButtonEl.classList.remove('colab-df-spinner');\n",
              "      quickchartButtonEl.classList.add('colab-df-quickchart-complete');\n",
              "    }\n",
              "    (() => {\n",
              "      let quickchartButtonEl =\n",
              "        document.querySelector('#df-09c97637-85ef-4726-afd0-59ba03f7cebc button');\n",
              "      quickchartButtonEl.style.display =\n",
              "        google.colab.kernel.accessAllowed ? 'block' : 'none';\n",
              "    })();\n",
              "  </script>\n",
              "</div>\n",
              "    </div>\n",
              "  </div>\n"
            ],
            "application/vnd.google.colaboratory.intrinsic+json": {
              "type": "dataframe",
              "variable_name": "df_ts"
            }
          },
          "metadata": {},
          "execution_count": 47
        }
      ]
    },
    {
      "cell_type": "markdown",
      "source": [
        "### and now something that actualy works"
      ],
      "metadata": {
        "id": "6ECkiz9-QbxD"
      }
    },
    {
      "cell_type": "code",
      "source": [
        "# from sklearn import ensemble\n",
        "# from sklearn.inspection import permutation_importance\n",
        "# from sklearn.metrics import mean_squared_error\n",
        "# from sklearn.model_selection import train_test_split\n",
        "\n",
        "# params = {\n",
        "#     \"n_estimators\": 500,\n",
        "#     \"max_depth\": 4,\n",
        "#     \"min_samples_split\": 5,\n",
        "#     \"learning_rate\": 0.01,\n",
        "#     \"loss\": \"squared_error\",\n",
        "# }\n",
        "\n",
        "# reg = ensemble.GradientBoostingRegressor(**params)\n",
        "# reg.fit(train_data, train_labels)\n",
        "\n",
        "# mse = mean_squared_error(y_test, reg.predict(X_test))\n",
        "# print(\"The mean squared error (MSE) on test set: {:.4f}\".format(mse))"
      ],
      "metadata": {
        "id": "G1UzbLmexOAo"
      },
      "execution_count": 51,
      "outputs": []
    },
    {
      "cell_type": "code",
      "source": [
        "from numpy import shape\n",
        "import pandas as pd\n",
        "from sklearn.feature_extraction.text import TfidfVectorizer\n",
        "from scipy.sparse import hstack, csr_matrix\n",
        "from sklearn.preprocessing import StandardScaler\n",
        "from sklearn.model_selection import train_test_split\n",
        "from sklearn.ensemble import GradientBoostingRegressor\n",
        "from sklearn.metrics import mean_absolute_error, mean_squared_error\n",
        "from sklearn.preprocessing import OrdinalEncoder"
      ],
      "metadata": {
        "id": "JmPkhql-sswF"
      },
      "execution_count": 48,
      "outputs": []
    },
    {
      "cell_type": "code",
      "source": [
        "\n",
        "\n",
        "# Handling missing values and converting text features to string type where necessary\n",
        "# df_ts[text_features] = df_ts[text_features].fillna('не указано').astype(str)\n",
        "\n",
        "for feature in text_features:\n",
        "  df_ts[feature] = df_ts[feature].apply(lambda x: x if x==x else 'не указано')\n",
        "\n",
        "# Apply TF-IDF transformation to text features\n",
        "vectorizers = {feature: TfidfVectorizer(max_features=50) for feature in text_features}\n",
        "X_text_features = [vectorizers[feature].fit_transform(df_ts[feature]) for feature in text_features]\n",
        "\n",
        "# Combine all text features into a single sparse matrix\n",
        "X_text = hstack(X_text_features)\n",
        "\n",
        "# Handling numerical features\n",
        "X_nums = df_ts[nums].fillna(0).astype('float32')  # Replace NaN with 0 if necessary\n"
      ],
      "metadata": {
        "id": "5GH8t8RF0u6d"
      },
      "execution_count": 59,
      "outputs": []
    },
    {
      "cell_type": "code",
      "source": [
        "# Handling categorical features\n",
        "ordinal_encoder = OrdinalEncoder(handle_unknown='use_encoded_value', unknown_value=-1)\n",
        "X_cats = ordinal_encoder.fit_transform(df_ts[cats].fillna('не указано'))  # Replace NaN with a placeholder if necessary\n",
        "\n",
        "# Combine all features into a single matrix\n",
        "X_combined = hstack([X_text, csr_matrix(X_nums), csr_matrix(X_cats)])\n",
        "\n",
        "# Define the target variable y_salary\n",
        "y_salary = df_ts['salary'].astype('float32')  # Ensure 'salary' is the correct column name\n",
        "\n",
        "# Scale the combined features (excluding text features that are already scaled)\n",
        "scaler = StandardScaler(with_mean=False)\n",
        "X_combined = scaler.fit_transform(X_combined)\n",
        "\n",
        "# Splitting the data into training and testing sets\n",
        "X_train_sal, X_test_sal, y_train_sal, y_test_sal = train_test_split(X_combined, y_salary, test_size=0.2, random_state=42)\n",
        "\n",
        "# Converting to dense format for the salary prediction model\n",
        "X_train_sal = X_train_sal.toarray()\n",
        "X_test_sal = X_test_sal.toarray()"
      ],
      "metadata": {
        "id": "urrYr0laEQZ3"
      },
      "execution_count": 60,
      "outputs": []
    },
    {
      "cell_type": "code",
      "source": [
        "\n",
        "# Improved model for salary prediction using Gradient Boosting\n",
        "model_salary = GradientBoostingRegressor(\n",
        "    n_estimators=100,\n",
        "    learning_rate=0.1,\n",
        "    max_depth=5,\n",
        "    random_state=42,\n",
        "    loss='squared_error',\n",
        "    verbose = 1\n",
        ")\n",
        "\n",
        "# Training the salary model\n",
        "model_salary.fit(X_train_sal, y_train_sal)\n",
        "\n",
        "# Predictions on the test set\n",
        "y_pred_sal = model_salary.predict(X_test_sal)\n"
      ],
      "metadata": {
        "colab": {
          "base_uri": "https://localhost:8080/"
        },
        "id": "SuqsHkSJjc_V",
        "outputId": "64ff8084-b6b1-4aae-98ea-0c1dc3101e96"
      },
      "execution_count": 61,
      "outputs": [
        {
          "output_type": "stream",
          "name": "stdout",
          "text": [
            "      Iter       Train Loss   Remaining Time \n",
            "         1   492790846.8469           23.33m\n",
            "         2   472367362.1208           21.35m\n",
            "         3   453194887.5420           20.41m\n",
            "         4   436397490.3770           20.14m\n",
            "         5   423782366.5139           19.79m\n",
            "         6   411695659.5831           19.49m\n",
            "         7   401027009.0281           19.49m\n",
            "         8   391993141.7528           19.24m\n",
            "         9   383964978.1366           19.07m\n",
            "        10   376290370.2063           18.79m\n",
            "        20   329651458.8325           16.47m\n",
            "        30   303881650.2924           14.32m\n",
            "        40   288466721.8954           12.26m\n",
            "        50   277360528.6918           10.20m\n",
            "        60   269297306.0523            8.19m\n",
            "        70   263057866.0823            6.14m\n",
            "        80   257913312.8590            4.10m\n",
            "        90   253142628.5452            2.05m\n",
            "       100   248244678.4358            0.00s\n"
          ]
        }
      ]
    },
    {
      "cell_type": "code",
      "source": [],
      "metadata": {
        "id": "MSYf7T2g7Ff6"
      },
      "execution_count": null,
      "outputs": []
    },
    {
      "cell_type": "code",
      "source": [],
      "metadata": {
        "id": "VxTEhrAO7FcV"
      },
      "execution_count": null,
      "outputs": []
    },
    {
      "cell_type": "code",
      "source": [],
      "metadata": {
        "id": "gGm6VSp77FZ5"
      },
      "execution_count": null,
      "outputs": []
    },
    {
      "cell_type": "code",
      "source": [
        "path = \"https://lodmedia.hb.bizmrg.com/case_files/1125024/test_dataset_vprod_test.zip\"\n",
        "zt = zipfile.ZipFile(io.BytesIO(urlopen(path).read()))"
      ],
      "metadata": {
        "id": "Bf1Gl7xk7GdW"
      },
      "execution_count": 62,
      "outputs": []
    },
    {
      "cell_type": "code",
      "source": [
        "ts=zt.open(\"TEST_SAL.csv\")\n",
        "# df_test = read_csv(ts)\n",
        "df_test = read_csv(ts)\n",
        "\n",
        "del zt # чтобы влезло /"
      ],
      "metadata": {
        "id": "FEt9TLaa7Gdm"
      },
      "execution_count": 63,
      "outputs": []
    },
    {
      "cell_type": "code",
      "execution_count": 64,
      "metadata": {
        "id": "EqBNC2QZ7Gdn"
      },
      "outputs": [],
      "source": [
        "# убираем фичи, для которых количесвто уникальных значений == 1\n",
        "for i in df_test.columns:\n",
        "  if len(df_test[i].unique())==1:\n",
        "    df_test = df_test.drop(i, axis=1)\n"
      ]
    },
    {
      "cell_type": "code",
      "execution_count": 65,
      "metadata": {
        "id": "hYCAiXyM7Gdn"
      },
      "outputs": [],
      "source": [
        "for feature in social_protected_ids:\n",
        "  df_test[feature] = feature in df_test[\"social_protected_ids\"]\n",
        "for feature in vacancy_benefit_ids:\n",
        "  df_test[feature] = feature in df_test[\"vacancy_benefit_ids\"]"
      ]
    },
    {
      "cell_type": "code",
      "source": [
        "for cat in driver_cats:\n",
        "  df_test[f\"driver_cat_{cat}\"] = df_test[\"required_drive_license\"].apply(lambda x: \"True\" if cat in x else \"False\")\n",
        "  cats.append(f\"driver_cat_{cat}\")\n",
        "\n",
        "try:\n",
        "  text_features.remove(\"required_drive_license\")\n",
        "except:\n",
        "  pass\n"
      ],
      "metadata": {
        "id": "Qae0h83X7Gdn"
      },
      "execution_count": 66,
      "outputs": []
    },
    {
      "cell_type": "code",
      "source": [
        "df_test = df_test.drop(\"required_drive_license\", axis=1)"
      ],
      "metadata": {
        "id": "Ukdkqyrd7Gdn"
      },
      "execution_count": 67,
      "outputs": []
    },
    {
      "cell_type": "code",
      "execution_count": 68,
      "metadata": {
        "id": "skYImrjT7Gdn"
      },
      "outputs": [],
      "source": [
        "df_test[\"company_json_name\"] = df_test[\"company\"].apply(lambda x: loads(x)[\"name\"]\n",
        "                                                    if \"name\" in loads(x)\n",
        "                                                    else \"Название не указано\") #\n",
        "\n"
      ]
    },
    {
      "cell_type": "code",
      "source": [
        "df_test.keys()"
      ],
      "metadata": {
        "colab": {
          "base_uri": "https://localhost:8080/"
        },
        "outputId": "9a05f8f0-34d8-4ab4-fd6d-2ad8d647d4a2",
        "id": "ZbTj5Zs-7Gdo"
      },
      "execution_count": 69,
      "outputs": [
        {
          "output_type": "execute_result",
          "data": {
            "text/plain": [
              "Index(['id', 'accommodation_capability', 'accommodation_type',\n",
              "       'additional_premium', 'additional_requirements', 'bonus_type',\n",
              "       'measure_type', 'busy_type', 'career_perspective', 'change_time',\n",
              "       'code_external_system', 'code_profession', 'code_professional_sphere',\n",
              "       'company_code', 'contact_person', 'data_ids', 'date_create',\n",
              "       'date_modify', 'education', 'education_speciality', 'metro_ids',\n",
              "       'is_mobility_program', 'is_quoted', 'need_medcard', 'okso_code',\n",
              "       'original_source_type', 'other_vacancy_benefit',\n",
              "       'position_requirements', 'position_responsibilities', 'published_date',\n",
              "       'regionName', 'company_business_size', 'required_certificates',\n",
              "       'required_experience', 'retraining_capability', 'retraining_grant',\n",
              "       'schedule_type', 'social_protected_ids', 'source_type',\n",
              "       'state_region_code', 'status', 'transport_compensation',\n",
              "       'vacancy_address_additional_info', 'vacancy_address',\n",
              "       'vacancy_address_code', 'vacancy_address_house',\n",
              "       'vacancy_address_latitude', 'vacancy_address_longitude',\n",
              "       'vacancy_benefit_ids', 'vacancy_name', 'work_places',\n",
              "       'professionalSphereName', 'federalDistrictCode', 'industryBranchName',\n",
              "       'full_company_name', 'company_inn', 'company', 'hardSkills',\n",
              "       'softSkills', 'Беженцы', 'лица, получившие временное убежище',\n",
              "       'Инвалиды', 'Лица, освобождаемые из мест лишения свободы',\n",
              "       'Матери и отцы, воспитывающие без супруга (супруги) детей в возрасте до пяти лет',\n",
              "       'вынужденные переселенцы', 'Многодетные семьи',\n",
              "       'Несовершеннолетние работники', 'Работники, имеющие детей-инвалидов',\n",
              "       'Работники, осуществляющие уход за больными членами их семей в соответствии с медицинским заключением',\n",
              "       'ДМС', 'Путевки в оздоровительные учреждения', 'Оплата занятий спортом',\n",
              "       'Оплата питания', 'driver_cat_B', 'driver_cat_E', 'driver_cat_C',\n",
              "       'driver_cat_D', 'driver_cat_A', 'company_json_name'],\n",
              "      dtype='object')"
            ]
          },
          "metadata": {},
          "execution_count": 69
        }
      ]
    },
    {
      "cell_type": "code",
      "execution_count": 70,
      "metadata": {
        "collapsed": true,
        "id": "i7caPfxo7Gdo"
      },
      "outputs": [],
      "source": [
        "# keys_lg = ['code_language', 'id_owner', 'level', 'type']"
      ]
    },
    {
      "cell_type": "code",
      "execution_count": 71,
      "metadata": {
        "colab": {
          "base_uri": "https://localhost:8080/",
          "height": 547
        },
        "outputId": "4afa1715-b0db-4c97-ebe3-59033e84b0d5",
        "id": "2RMAHp0u7Gdo"
      },
      "outputs": [
        {
          "output_type": "error",
          "ename": "KeyError",
          "evalue": "'languageKnowledge'",
          "traceback": [
            "\u001b[0;31m---------------------------------------------------------------------------\u001b[0m",
            "\u001b[0;31mKeyError\u001b[0m                                  Traceback (most recent call last)",
            "\u001b[0;32m/usr/local/lib/python3.10/dist-packages/pandas/core/indexes/base.py\u001b[0m in \u001b[0;36mget_loc\u001b[0;34m(self, key)\u001b[0m\n\u001b[1;32m   3790\u001b[0m         \u001b[0;32mtry\u001b[0m\u001b[0;34m:\u001b[0m\u001b[0;34m\u001b[0m\u001b[0;34m\u001b[0m\u001b[0m\n\u001b[0;32m-> 3791\u001b[0;31m             \u001b[0;32mreturn\u001b[0m \u001b[0mself\u001b[0m\u001b[0;34m.\u001b[0m\u001b[0m_engine\u001b[0m\u001b[0;34m.\u001b[0m\u001b[0mget_loc\u001b[0m\u001b[0;34m(\u001b[0m\u001b[0mcasted_key\u001b[0m\u001b[0;34m)\u001b[0m\u001b[0;34m\u001b[0m\u001b[0;34m\u001b[0m\u001b[0m\n\u001b[0m\u001b[1;32m   3792\u001b[0m         \u001b[0;32mexcept\u001b[0m \u001b[0mKeyError\u001b[0m \u001b[0;32mas\u001b[0m \u001b[0merr\u001b[0m\u001b[0;34m:\u001b[0m\u001b[0;34m\u001b[0m\u001b[0;34m\u001b[0m\u001b[0m\n",
            "\u001b[0;32mindex.pyx\u001b[0m in \u001b[0;36mpandas._libs.index.IndexEngine.get_loc\u001b[0;34m()\u001b[0m\n",
            "\u001b[0;32mindex.pyx\u001b[0m in \u001b[0;36mpandas._libs.index.IndexEngine.get_loc\u001b[0;34m()\u001b[0m\n",
            "\u001b[0;32mpandas/_libs/hashtable_class_helper.pxi\u001b[0m in \u001b[0;36mpandas._libs.hashtable.PyObjectHashTable.get_item\u001b[0;34m()\u001b[0m\n",
            "\u001b[0;32mpandas/_libs/hashtable_class_helper.pxi\u001b[0m in \u001b[0;36mpandas._libs.hashtable.PyObjectHashTable.get_item\u001b[0;34m()\u001b[0m\n",
            "\u001b[0;31mKeyError\u001b[0m: 'languageKnowledge'",
            "\nThe above exception was the direct cause of the following exception:\n",
            "\u001b[0;31mKeyError\u001b[0m                                  Traceback (most recent call last)",
            "\u001b[0;32m<ipython-input-71-266236815c69>\u001b[0m in \u001b[0;36m<cell line: 1>\u001b[0;34m()\u001b[0m\n\u001b[0;32m----> 1\u001b[0;31m \u001b[0mdf_test\u001b[0m\u001b[0;34m[\u001b[0m\u001b[0;34m\"LK_code_language\"\u001b[0m\u001b[0;34m]\u001b[0m \u001b[0;34m=\u001b[0m \u001b[0mdf_test\u001b[0m\u001b[0;34m[\u001b[0m\u001b[0;34m\"languageKnowledge\"\u001b[0m\u001b[0;34m]\u001b[0m\u001b[0;34m.\u001b[0m\u001b[0mapply\u001b[0m\u001b[0;34m(\u001b[0m\u001b[0;32mlambda\u001b[0m \u001b[0mx\u001b[0m\u001b[0;34m:\u001b[0m \u001b[0mloads\u001b[0m\u001b[0;34m(\u001b[0m\u001b[0mx\u001b[0m\u001b[0;34m)\u001b[0m\u001b[0;34m[\u001b[0m\u001b[0;36m0\u001b[0m\u001b[0;34m]\u001b[0m\u001b[0;34m[\u001b[0m\u001b[0;34m\"code_language\"\u001b[0m\u001b[0;34m]\u001b[0m \u001b[0;32mif\u001b[0m \u001b[0mx\u001b[0m\u001b[0;34m!=\u001b[0m\u001b[0;34m\"[]\"\u001b[0m \u001b[0;32melse\u001b[0m \u001b[0;34m\"nan\"\u001b[0m\u001b[0;34m)\u001b[0m\u001b[0;34m\u001b[0m\u001b[0;34m\u001b[0m\u001b[0m\n\u001b[0m",
            "\u001b[0;32m/usr/local/lib/python3.10/dist-packages/pandas/core/frame.py\u001b[0m in \u001b[0;36m__getitem__\u001b[0;34m(self, key)\u001b[0m\n\u001b[1;32m   3891\u001b[0m             \u001b[0;32mif\u001b[0m \u001b[0mself\u001b[0m\u001b[0;34m.\u001b[0m\u001b[0mcolumns\u001b[0m\u001b[0;34m.\u001b[0m\u001b[0mnlevels\u001b[0m \u001b[0;34m>\u001b[0m \u001b[0;36m1\u001b[0m\u001b[0;34m:\u001b[0m\u001b[0;34m\u001b[0m\u001b[0;34m\u001b[0m\u001b[0m\n\u001b[1;32m   3892\u001b[0m                 \u001b[0;32mreturn\u001b[0m \u001b[0mself\u001b[0m\u001b[0;34m.\u001b[0m\u001b[0m_getitem_multilevel\u001b[0m\u001b[0;34m(\u001b[0m\u001b[0mkey\u001b[0m\u001b[0;34m)\u001b[0m\u001b[0;34m\u001b[0m\u001b[0;34m\u001b[0m\u001b[0m\n\u001b[0;32m-> 3893\u001b[0;31m             \u001b[0mindexer\u001b[0m \u001b[0;34m=\u001b[0m \u001b[0mself\u001b[0m\u001b[0;34m.\u001b[0m\u001b[0mcolumns\u001b[0m\u001b[0;34m.\u001b[0m\u001b[0mget_loc\u001b[0m\u001b[0;34m(\u001b[0m\u001b[0mkey\u001b[0m\u001b[0;34m)\u001b[0m\u001b[0;34m\u001b[0m\u001b[0;34m\u001b[0m\u001b[0m\n\u001b[0m\u001b[1;32m   3894\u001b[0m             \u001b[0;32mif\u001b[0m \u001b[0mis_integer\u001b[0m\u001b[0;34m(\u001b[0m\u001b[0mindexer\u001b[0m\u001b[0;34m)\u001b[0m\u001b[0;34m:\u001b[0m\u001b[0;34m\u001b[0m\u001b[0;34m\u001b[0m\u001b[0m\n\u001b[1;32m   3895\u001b[0m                 \u001b[0mindexer\u001b[0m \u001b[0;34m=\u001b[0m \u001b[0;34m[\u001b[0m\u001b[0mindexer\u001b[0m\u001b[0;34m]\u001b[0m\u001b[0;34m\u001b[0m\u001b[0;34m\u001b[0m\u001b[0m\n",
            "\u001b[0;32m/usr/local/lib/python3.10/dist-packages/pandas/core/indexes/base.py\u001b[0m in \u001b[0;36mget_loc\u001b[0;34m(self, key)\u001b[0m\n\u001b[1;32m   3796\u001b[0m             ):\n\u001b[1;32m   3797\u001b[0m                 \u001b[0;32mraise\u001b[0m \u001b[0mInvalidIndexError\u001b[0m\u001b[0;34m(\u001b[0m\u001b[0mkey\u001b[0m\u001b[0;34m)\u001b[0m\u001b[0;34m\u001b[0m\u001b[0;34m\u001b[0m\u001b[0m\n\u001b[0;32m-> 3798\u001b[0;31m             \u001b[0;32mraise\u001b[0m \u001b[0mKeyError\u001b[0m\u001b[0;34m(\u001b[0m\u001b[0mkey\u001b[0m\u001b[0;34m)\u001b[0m \u001b[0;32mfrom\u001b[0m \u001b[0merr\u001b[0m\u001b[0;34m\u001b[0m\u001b[0;34m\u001b[0m\u001b[0m\n\u001b[0m\u001b[1;32m   3799\u001b[0m         \u001b[0;32mexcept\u001b[0m \u001b[0mTypeError\u001b[0m\u001b[0;34m:\u001b[0m\u001b[0;34m\u001b[0m\u001b[0;34m\u001b[0m\u001b[0m\n\u001b[1;32m   3800\u001b[0m             \u001b[0;31m# If we have a listlike key, _check_indexing_error will raise\u001b[0m\u001b[0;34m\u001b[0m\u001b[0;34m\u001b[0m\u001b[0m\n",
            "\u001b[0;31mKeyError\u001b[0m: 'languageKnowledge'"
          ]
        }
      ],
      "source": [
        "df_test[\"LK_code_language\"] = df_test[\"languageKnowledge\"].apply(lambda x: loads(x)[0][\"code_language\"] if x!=\"[]\" else \"nan\")"
      ]
    },
    {
      "cell_type": "code",
      "execution_count": null,
      "metadata": {
        "colab": {
          "base_uri": "https://localhost:8080/",
          "height": 547
        },
        "outputId": "17099899-59d3-428c-89dc-5e05e843ab73",
        "id": "OoAkR1Mj7Gdo"
      },
      "outputs": [
        {
          "output_type": "error",
          "ename": "KeyError",
          "evalue": "'languageKnowledge'",
          "traceback": [
            "\u001b[0;31m---------------------------------------------------------------------------\u001b[0m",
            "\u001b[0;31mKeyError\u001b[0m                                  Traceback (most recent call last)",
            "\u001b[0;32m/usr/local/lib/python3.10/dist-packages/pandas/core/indexes/base.py\u001b[0m in \u001b[0;36mget_loc\u001b[0;34m(self, key)\u001b[0m\n\u001b[1;32m   3790\u001b[0m         \u001b[0;32mtry\u001b[0m\u001b[0;34m:\u001b[0m\u001b[0;34m\u001b[0m\u001b[0;34m\u001b[0m\u001b[0m\n\u001b[0;32m-> 3791\u001b[0;31m             \u001b[0;32mreturn\u001b[0m \u001b[0mself\u001b[0m\u001b[0;34m.\u001b[0m\u001b[0m_engine\u001b[0m\u001b[0;34m.\u001b[0m\u001b[0mget_loc\u001b[0m\u001b[0;34m(\u001b[0m\u001b[0mcasted_key\u001b[0m\u001b[0;34m)\u001b[0m\u001b[0;34m\u001b[0m\u001b[0;34m\u001b[0m\u001b[0m\n\u001b[0m\u001b[1;32m   3792\u001b[0m         \u001b[0;32mexcept\u001b[0m \u001b[0mKeyError\u001b[0m \u001b[0;32mas\u001b[0m \u001b[0merr\u001b[0m\u001b[0;34m:\u001b[0m\u001b[0;34m\u001b[0m\u001b[0;34m\u001b[0m\u001b[0m\n",
            "\u001b[0;32mindex.pyx\u001b[0m in \u001b[0;36mpandas._libs.index.IndexEngine.get_loc\u001b[0;34m()\u001b[0m\n",
            "\u001b[0;32mindex.pyx\u001b[0m in \u001b[0;36mpandas._libs.index.IndexEngine.get_loc\u001b[0;34m()\u001b[0m\n",
            "\u001b[0;32mpandas/_libs/hashtable_class_helper.pxi\u001b[0m in \u001b[0;36mpandas._libs.hashtable.PyObjectHashTable.get_item\u001b[0;34m()\u001b[0m\n",
            "\u001b[0;32mpandas/_libs/hashtable_class_helper.pxi\u001b[0m in \u001b[0;36mpandas._libs.hashtable.PyObjectHashTable.get_item\u001b[0;34m()\u001b[0m\n",
            "\u001b[0;31mKeyError\u001b[0m: 'languageKnowledge'",
            "\nThe above exception was the direct cause of the following exception:\n",
            "\u001b[0;31mKeyError\u001b[0m                                  Traceback (most recent call last)",
            "\u001b[0;32m<ipython-input-79-4c08bca3c2da>\u001b[0m in \u001b[0;36m<cell line: 1>\u001b[0;34m()\u001b[0m\n\u001b[0;32m----> 1\u001b[0;31m \u001b[0mdf_ts\u001b[0m\u001b[0;34m[\u001b[0m\u001b[0;34m\"LK_level\"\u001b[0m\u001b[0;34m]\u001b[0m \u001b[0;34m=\u001b[0m \u001b[0mdf_ts\u001b[0m\u001b[0;34m[\u001b[0m\u001b[0;34m\"languageKnowledge\"\u001b[0m\u001b[0;34m]\u001b[0m\u001b[0;34m.\u001b[0m\u001b[0mapply\u001b[0m\u001b[0;34m(\u001b[0m\u001b[0;32mlambda\u001b[0m \u001b[0mx\u001b[0m\u001b[0;34m:\u001b[0m \u001b[0;34m(\u001b[0m\u001b[0mloads\u001b[0m\u001b[0;34m(\u001b[0m\u001b[0mx\u001b[0m\u001b[0;34m)\u001b[0m\u001b[0;34m[\u001b[0m\u001b[0;36m0\u001b[0m\u001b[0;34m]\u001b[0m\u001b[0;34m[\u001b[0m\u001b[0;34m\"level\"\u001b[0m\u001b[0;34m]\u001b[0m \u001b[0;32mif\u001b[0m \u001b[0;34m\"level\"\u001b[0m \u001b[0;32min\u001b[0m \u001b[0mloads\u001b[0m\u001b[0;34m(\u001b[0m\u001b[0mx\u001b[0m\u001b[0;34m)\u001b[0m\u001b[0;34m[\u001b[0m\u001b[0;36m0\u001b[0m\u001b[0;34m]\u001b[0m \u001b[0;32melse\u001b[0m \u001b[0;34m\"Не указан\"\u001b[0m\u001b[0;34m)\u001b[0m \u001b[0;32mif\u001b[0m \u001b[0mx\u001b[0m\u001b[0;34m!=\u001b[0m\u001b[0;34m\"[]\"\u001b[0m \u001b[0;32melse\u001b[0m \u001b[0;34m\"nan\"\u001b[0m\u001b[0;34m)\u001b[0m\u001b[0;34m\u001b[0m\u001b[0;34m\u001b[0m\u001b[0m\n\u001b[0m\u001b[1;32m      2\u001b[0m \u001b[0;34m\u001b[0m\u001b[0m\n\u001b[1;32m      3\u001b[0m \u001b[0mcats\u001b[0m\u001b[0;34m.\u001b[0m\u001b[0mappend\u001b[0m\u001b[0;34m(\u001b[0m\u001b[0;34m\"LK_code_language\"\u001b[0m\u001b[0;34m)\u001b[0m\u001b[0;34m\u001b[0m\u001b[0;34m\u001b[0m\u001b[0m\n\u001b[1;32m      4\u001b[0m \u001b[0mcats\u001b[0m\u001b[0;34m.\u001b[0m\u001b[0mappend\u001b[0m\u001b[0;34m(\u001b[0m\u001b[0;34m\"LK_level\"\u001b[0m\u001b[0;34m)\u001b[0m\u001b[0;34m\u001b[0m\u001b[0;34m\u001b[0m\u001b[0m\n",
            "\u001b[0;32m/usr/local/lib/python3.10/dist-packages/pandas/core/frame.py\u001b[0m in \u001b[0;36m__getitem__\u001b[0;34m(self, key)\u001b[0m\n\u001b[1;32m   3891\u001b[0m             \u001b[0;32mif\u001b[0m \u001b[0mself\u001b[0m\u001b[0;34m.\u001b[0m\u001b[0mcolumns\u001b[0m\u001b[0;34m.\u001b[0m\u001b[0mnlevels\u001b[0m \u001b[0;34m>\u001b[0m \u001b[0;36m1\u001b[0m\u001b[0;34m:\u001b[0m\u001b[0;34m\u001b[0m\u001b[0;34m\u001b[0m\u001b[0m\n\u001b[1;32m   3892\u001b[0m                 \u001b[0;32mreturn\u001b[0m \u001b[0mself\u001b[0m\u001b[0;34m.\u001b[0m\u001b[0m_getitem_multilevel\u001b[0m\u001b[0;34m(\u001b[0m\u001b[0mkey\u001b[0m\u001b[0;34m)\u001b[0m\u001b[0;34m\u001b[0m\u001b[0;34m\u001b[0m\u001b[0m\n\u001b[0;32m-> 3893\u001b[0;31m             \u001b[0mindexer\u001b[0m \u001b[0;34m=\u001b[0m \u001b[0mself\u001b[0m\u001b[0;34m.\u001b[0m\u001b[0mcolumns\u001b[0m\u001b[0;34m.\u001b[0m\u001b[0mget_loc\u001b[0m\u001b[0;34m(\u001b[0m\u001b[0mkey\u001b[0m\u001b[0;34m)\u001b[0m\u001b[0;34m\u001b[0m\u001b[0;34m\u001b[0m\u001b[0m\n\u001b[0m\u001b[1;32m   3894\u001b[0m             \u001b[0;32mif\u001b[0m \u001b[0mis_integer\u001b[0m\u001b[0;34m(\u001b[0m\u001b[0mindexer\u001b[0m\u001b[0;34m)\u001b[0m\u001b[0;34m:\u001b[0m\u001b[0;34m\u001b[0m\u001b[0;34m\u001b[0m\u001b[0m\n\u001b[1;32m   3895\u001b[0m                 \u001b[0mindexer\u001b[0m \u001b[0;34m=\u001b[0m \u001b[0;34m[\u001b[0m\u001b[0mindexer\u001b[0m\u001b[0;34m]\u001b[0m\u001b[0;34m\u001b[0m\u001b[0;34m\u001b[0m\u001b[0m\n",
            "\u001b[0;32m/usr/local/lib/python3.10/dist-packages/pandas/core/indexes/base.py\u001b[0m in \u001b[0;36mget_loc\u001b[0;34m(self, key)\u001b[0m\n\u001b[1;32m   3796\u001b[0m             ):\n\u001b[1;32m   3797\u001b[0m                 \u001b[0;32mraise\u001b[0m \u001b[0mInvalidIndexError\u001b[0m\u001b[0;34m(\u001b[0m\u001b[0mkey\u001b[0m\u001b[0;34m)\u001b[0m\u001b[0;34m\u001b[0m\u001b[0;34m\u001b[0m\u001b[0m\n\u001b[0;32m-> 3798\u001b[0;31m             \u001b[0;32mraise\u001b[0m \u001b[0mKeyError\u001b[0m\u001b[0;34m(\u001b[0m\u001b[0mkey\u001b[0m\u001b[0;34m)\u001b[0m \u001b[0;32mfrom\u001b[0m \u001b[0merr\u001b[0m\u001b[0;34m\u001b[0m\u001b[0;34m\u001b[0m\u001b[0m\n\u001b[0m\u001b[1;32m   3799\u001b[0m         \u001b[0;32mexcept\u001b[0m \u001b[0mTypeError\u001b[0m\u001b[0;34m:\u001b[0m\u001b[0;34m\u001b[0m\u001b[0;34m\u001b[0m\u001b[0m\n\u001b[1;32m   3800\u001b[0m             \u001b[0;31m# If we have a listlike key, _check_indexing_error will raise\u001b[0m\u001b[0;34m\u001b[0m\u001b[0;34m\u001b[0m\u001b[0m\n",
            "\u001b[0;31mKeyError\u001b[0m: 'languageKnowledge'"
          ]
        }
      ],
      "source": [
        "df_ts[\"LK_level\"] = df_ts[\"languageKnowledge\"].apply(lambda x: (loads(x)[0][\"level\"] if \"level\" in loads(x)[0] else \"Не указан\") if x!=\"[]\" else \"nan\")\n",
        "\n",
        "cats.append(\"LK_code_language\")\n",
        "cats.append(\"LK_level\")"
      ]
    },
    {
      "cell_type": "code",
      "execution_count": 72,
      "metadata": {
        "id": "NTl_6-zU7Gdp"
      },
      "outputs": [],
      "source": [
        "df_test[\"hardSkills\"] = df_test[\"hardSkills\"].apply(lambda x: loads(x)[0][\"hard_skill_name\"] if x!=\"[]\" else \"nan\")"
      ]
    },
    {
      "cell_type": "code",
      "execution_count": 73,
      "metadata": {
        "id": "8AARc9Wr7Gdp"
      },
      "outputs": [],
      "source": [
        "df_test[\"softSkills\"] = df_test[\"softSkills\"].apply(lambda x: loads(x)[0][\"soft_skill_name\"] if x!=\"[]\" else \"nan\")"
      ]
    },
    {
      "cell_type": "code",
      "execution_count": 74,
      "metadata": {
        "id": "9wr9VTMl7Gdp"
      },
      "outputs": [],
      "source": [
        "df_test = df_test.drop(\"company\",axis=1)"
      ]
    },
    {
      "cell_type": "code",
      "execution_count": 75,
      "metadata": {
        "colab": {
          "base_uri": "https://localhost:8080/",
          "height": 287
        },
        "outputId": "034629b1-5218-4017-c90f-e6cea773b943",
        "id": "_jdZ8hgU7Gdp"
      },
      "outputs": [
        {
          "output_type": "error",
          "ename": "KeyError",
          "evalue": "\"['languageKnowledge'] not found in axis\"",
          "traceback": [
            "\u001b[0;31m---------------------------------------------------------------------------\u001b[0m",
            "\u001b[0;31mKeyError\u001b[0m                                  Traceback (most recent call last)",
            "\u001b[0;32m<ipython-input-75-82817591a0d0>\u001b[0m in \u001b[0;36m<cell line: 1>\u001b[0;34m()\u001b[0m\n\u001b[0;32m----> 1\u001b[0;31m \u001b[0mdf_test\u001b[0m \u001b[0;34m=\u001b[0m \u001b[0mdf_test\u001b[0m\u001b[0;34m.\u001b[0m\u001b[0mdrop\u001b[0m\u001b[0;34m(\u001b[0m\u001b[0;34m\"languageKnowledge\"\u001b[0m\u001b[0;34m,\u001b[0m\u001b[0maxis\u001b[0m\u001b[0;34m=\u001b[0m\u001b[0;36m1\u001b[0m\u001b[0;34m)\u001b[0m\u001b[0;34m\u001b[0m\u001b[0;34m\u001b[0m\u001b[0m\n\u001b[0m",
            "\u001b[0;32m/usr/local/lib/python3.10/dist-packages/pandas/core/frame.py\u001b[0m in \u001b[0;36mdrop\u001b[0;34m(self, labels, axis, index, columns, level, inplace, errors)\u001b[0m\n\u001b[1;32m   5342\u001b[0m                 \u001b[0mweight\u001b[0m  \u001b[0;36m1.0\u001b[0m     \u001b[0;36m0.8\u001b[0m\u001b[0;34m\u001b[0m\u001b[0;34m\u001b[0m\u001b[0m\n\u001b[1;32m   5343\u001b[0m         \"\"\"\n\u001b[0;32m-> 5344\u001b[0;31m         return super().drop(\n\u001b[0m\u001b[1;32m   5345\u001b[0m             \u001b[0mlabels\u001b[0m\u001b[0;34m=\u001b[0m\u001b[0mlabels\u001b[0m\u001b[0;34m,\u001b[0m\u001b[0;34m\u001b[0m\u001b[0;34m\u001b[0m\u001b[0m\n\u001b[1;32m   5346\u001b[0m             \u001b[0maxis\u001b[0m\u001b[0;34m=\u001b[0m\u001b[0maxis\u001b[0m\u001b[0;34m,\u001b[0m\u001b[0;34m\u001b[0m\u001b[0;34m\u001b[0m\u001b[0m\n",
            "\u001b[0;32m/usr/local/lib/python3.10/dist-packages/pandas/core/generic.py\u001b[0m in \u001b[0;36mdrop\u001b[0;34m(self, labels, axis, index, columns, level, inplace, errors)\u001b[0m\n\u001b[1;32m   4709\u001b[0m         \u001b[0;32mfor\u001b[0m \u001b[0maxis\u001b[0m\u001b[0;34m,\u001b[0m \u001b[0mlabels\u001b[0m \u001b[0;32min\u001b[0m \u001b[0maxes\u001b[0m\u001b[0;34m.\u001b[0m\u001b[0mitems\u001b[0m\u001b[0;34m(\u001b[0m\u001b[0;34m)\u001b[0m\u001b[0;34m:\u001b[0m\u001b[0;34m\u001b[0m\u001b[0;34m\u001b[0m\u001b[0m\n\u001b[1;32m   4710\u001b[0m             \u001b[0;32mif\u001b[0m \u001b[0mlabels\u001b[0m \u001b[0;32mis\u001b[0m \u001b[0;32mnot\u001b[0m \u001b[0;32mNone\u001b[0m\u001b[0;34m:\u001b[0m\u001b[0;34m\u001b[0m\u001b[0;34m\u001b[0m\u001b[0m\n\u001b[0;32m-> 4711\u001b[0;31m                 \u001b[0mobj\u001b[0m \u001b[0;34m=\u001b[0m \u001b[0mobj\u001b[0m\u001b[0;34m.\u001b[0m\u001b[0m_drop_axis\u001b[0m\u001b[0;34m(\u001b[0m\u001b[0mlabels\u001b[0m\u001b[0;34m,\u001b[0m \u001b[0maxis\u001b[0m\u001b[0;34m,\u001b[0m \u001b[0mlevel\u001b[0m\u001b[0;34m=\u001b[0m\u001b[0mlevel\u001b[0m\u001b[0;34m,\u001b[0m \u001b[0merrors\u001b[0m\u001b[0;34m=\u001b[0m\u001b[0merrors\u001b[0m\u001b[0;34m)\u001b[0m\u001b[0;34m\u001b[0m\u001b[0;34m\u001b[0m\u001b[0m\n\u001b[0m\u001b[1;32m   4712\u001b[0m \u001b[0;34m\u001b[0m\u001b[0m\n\u001b[1;32m   4713\u001b[0m         \u001b[0;32mif\u001b[0m \u001b[0minplace\u001b[0m\u001b[0;34m:\u001b[0m\u001b[0;34m\u001b[0m\u001b[0;34m\u001b[0m\u001b[0m\n",
            "\u001b[0;32m/usr/local/lib/python3.10/dist-packages/pandas/core/generic.py\u001b[0m in \u001b[0;36m_drop_axis\u001b[0;34m(self, labels, axis, level, errors, only_slice)\u001b[0m\n\u001b[1;32m   4751\u001b[0m                 \u001b[0mnew_axis\u001b[0m \u001b[0;34m=\u001b[0m \u001b[0maxis\u001b[0m\u001b[0;34m.\u001b[0m\u001b[0mdrop\u001b[0m\u001b[0;34m(\u001b[0m\u001b[0mlabels\u001b[0m\u001b[0;34m,\u001b[0m \u001b[0mlevel\u001b[0m\u001b[0;34m=\u001b[0m\u001b[0mlevel\u001b[0m\u001b[0;34m,\u001b[0m \u001b[0merrors\u001b[0m\u001b[0;34m=\u001b[0m\u001b[0merrors\u001b[0m\u001b[0;34m)\u001b[0m\u001b[0;34m\u001b[0m\u001b[0;34m\u001b[0m\u001b[0m\n\u001b[1;32m   4752\u001b[0m             \u001b[0;32melse\u001b[0m\u001b[0;34m:\u001b[0m\u001b[0;34m\u001b[0m\u001b[0;34m\u001b[0m\u001b[0m\n\u001b[0;32m-> 4753\u001b[0;31m                 \u001b[0mnew_axis\u001b[0m \u001b[0;34m=\u001b[0m \u001b[0maxis\u001b[0m\u001b[0;34m.\u001b[0m\u001b[0mdrop\u001b[0m\u001b[0;34m(\u001b[0m\u001b[0mlabels\u001b[0m\u001b[0;34m,\u001b[0m \u001b[0merrors\u001b[0m\u001b[0;34m=\u001b[0m\u001b[0merrors\u001b[0m\u001b[0;34m)\u001b[0m\u001b[0;34m\u001b[0m\u001b[0;34m\u001b[0m\u001b[0m\n\u001b[0m\u001b[1;32m   4754\u001b[0m             \u001b[0mindexer\u001b[0m \u001b[0;34m=\u001b[0m \u001b[0maxis\u001b[0m\u001b[0;34m.\u001b[0m\u001b[0mget_indexer\u001b[0m\u001b[0;34m(\u001b[0m\u001b[0mnew_axis\u001b[0m\u001b[0;34m)\u001b[0m\u001b[0;34m\u001b[0m\u001b[0;34m\u001b[0m\u001b[0m\n\u001b[1;32m   4755\u001b[0m \u001b[0;34m\u001b[0m\u001b[0m\n",
            "\u001b[0;32m/usr/local/lib/python3.10/dist-packages/pandas/core/indexes/base.py\u001b[0m in \u001b[0;36mdrop\u001b[0;34m(self, labels, errors)\u001b[0m\n\u001b[1;32m   6998\u001b[0m         \u001b[0;32mif\u001b[0m \u001b[0mmask\u001b[0m\u001b[0;34m.\u001b[0m\u001b[0many\u001b[0m\u001b[0;34m(\u001b[0m\u001b[0;34m)\u001b[0m\u001b[0;34m:\u001b[0m\u001b[0;34m\u001b[0m\u001b[0;34m\u001b[0m\u001b[0m\n\u001b[1;32m   6999\u001b[0m             \u001b[0;32mif\u001b[0m \u001b[0merrors\u001b[0m \u001b[0;34m!=\u001b[0m \u001b[0;34m\"ignore\"\u001b[0m\u001b[0;34m:\u001b[0m\u001b[0;34m\u001b[0m\u001b[0;34m\u001b[0m\u001b[0m\n\u001b[0;32m-> 7000\u001b[0;31m                 \u001b[0;32mraise\u001b[0m \u001b[0mKeyError\u001b[0m\u001b[0;34m(\u001b[0m\u001b[0;34mf\"{labels[mask].tolist()} not found in axis\"\u001b[0m\u001b[0;34m)\u001b[0m\u001b[0;34m\u001b[0m\u001b[0;34m\u001b[0m\u001b[0m\n\u001b[0m\u001b[1;32m   7001\u001b[0m             \u001b[0mindexer\u001b[0m \u001b[0;34m=\u001b[0m \u001b[0mindexer\u001b[0m\u001b[0;34m[\u001b[0m\u001b[0;34m~\u001b[0m\u001b[0mmask\u001b[0m\u001b[0;34m]\u001b[0m\u001b[0;34m\u001b[0m\u001b[0;34m\u001b[0m\u001b[0m\n\u001b[1;32m   7002\u001b[0m         \u001b[0;32mreturn\u001b[0m \u001b[0mself\u001b[0m\u001b[0;34m.\u001b[0m\u001b[0mdelete\u001b[0m\u001b[0;34m(\u001b[0m\u001b[0mindexer\u001b[0m\u001b[0;34m)\u001b[0m\u001b[0;34m\u001b[0m\u001b[0;34m\u001b[0m\u001b[0m\n",
            "\u001b[0;31mKeyError\u001b[0m: \"['languageKnowledge'] not found in axis\""
          ]
        }
      ],
      "source": [
        "df_test = df_test.drop(\"languageKnowledge\",axis=1)"
      ]
    },
    {
      "cell_type": "code",
      "source": [
        "ids = df_test['id']\n"
      ],
      "metadata": {
        "id": "CM97TGAB7Gdp"
      },
      "execution_count": 76,
      "outputs": []
    },
    {
      "cell_type": "code",
      "source": [
        "\n",
        "\n",
        "# Handling missing values and converting text features to string type where necessary\n",
        "df_test[text_features] = df_test[text_features].fillna('не указано').astype(str)\n",
        "\n",
        "# Apply TF-IDF transformation to text features\n",
        "# vectorizers = {feature: TfidfVectorizer(max_features=50) for feature in text_features}\n",
        "X_text_features = [vectorizers[feature].transform(df_test[feature]) for feature in text_features]\n",
        "\n",
        "# Combine all text features into a single sparse matrix\n",
        "X_text = hstack(X_text_features)\n",
        "\n",
        "# Handling numerical features\n",
        "X_nums = df_test[nums].fillna(0).astype('float32')  # Replace NaN with 0 if necessary\n",
        "\n",
        "# Handling categorical features\n",
        "# ordinal_encoder = OrdinalEncoder(handle_unknown='use_encoded_value', unknown_value=-1)\n",
        "X_cats = ordinal_encoder.transform(df_test[cats].fillna('не указано'))  # Replace NaN with a placeholder if necessary\n",
        "\n",
        "# Combine all features into a single matrix\n",
        "X_combined = hstack([X_text, csr_matrix(X_nums), csr_matrix(X_cats)])\n",
        "\n",
        "# Define the target variable y_salary\n",
        "y_salary = df_test['salary'].astype('float32')  # Ensure 'salary' is the correct column name\n",
        "\n",
        "# Scale the combined features (excluding text features that are already scaled)\n",
        "# scaler = StandardScaler(with_mean=False)\n",
        "X_combined = scaler.transform(X_combined)\n",
        "\n",
        "# Splitting the data into training and testing sets\n",
        "X_test_sal = X_combined\n",
        "\n",
        "# Converting to dense format for the salary prediction model\n",
        "X_test_sal = X_test_sal.toarray()"
      ],
      "metadata": {
        "colab": {
          "base_uri": "https://localhost:8080/",
          "height": 599
        },
        "outputId": "a9b6ca6f-a378-43cd-f44d-dfb3cf47c5d6",
        "id": "X-1IrXSZ7Gdp"
      },
      "execution_count": 77,
      "outputs": [
        {
          "output_type": "error",
          "ename": "KeyError",
          "evalue": "\"['academic_degree', 'contact_source', 'is_uzbekistan_recruitment'] not in index\"",
          "traceback": [
            "\u001b[0;31m---------------------------------------------------------------------------\u001b[0m",
            "\u001b[0;31mKeyError\u001b[0m                                  Traceback (most recent call last)",
            "\u001b[0;32m<ipython-input-77-d45038108e04>\u001b[0m in \u001b[0;36m<cell line: 16>\u001b[0;34m()\u001b[0m\n\u001b[1;32m     14\u001b[0m \u001b[0;31m# Handling categorical features\u001b[0m\u001b[0;34m\u001b[0m\u001b[0;34m\u001b[0m\u001b[0m\n\u001b[1;32m     15\u001b[0m \u001b[0;31m# ordinal_encoder = OrdinalEncoder(handle_unknown='use_encoded_value', unknown_value=-1)\u001b[0m\u001b[0;34m\u001b[0m\u001b[0;34m\u001b[0m\u001b[0m\n\u001b[0;32m---> 16\u001b[0;31m \u001b[0mX_cats\u001b[0m \u001b[0;34m=\u001b[0m \u001b[0mordinal_encoder\u001b[0m\u001b[0;34m.\u001b[0m\u001b[0mtransform\u001b[0m\u001b[0;34m(\u001b[0m\u001b[0mdf_test\u001b[0m\u001b[0;34m[\u001b[0m\u001b[0mcats\u001b[0m\u001b[0;34m]\u001b[0m\u001b[0;34m.\u001b[0m\u001b[0mfillna\u001b[0m\u001b[0;34m(\u001b[0m\u001b[0;34m'не указано'\u001b[0m\u001b[0;34m)\u001b[0m\u001b[0;34m)\u001b[0m  \u001b[0;31m# Replace NaN with a placeholder if necessary\u001b[0m\u001b[0;34m\u001b[0m\u001b[0;34m\u001b[0m\u001b[0m\n\u001b[0m\u001b[1;32m     17\u001b[0m \u001b[0;34m\u001b[0m\u001b[0m\n\u001b[1;32m     18\u001b[0m \u001b[0;31m# Combine all features into a single matrix\u001b[0m\u001b[0;34m\u001b[0m\u001b[0;34m\u001b[0m\u001b[0m\n",
            "\u001b[0;32m/usr/local/lib/python3.10/dist-packages/pandas/core/frame.py\u001b[0m in \u001b[0;36m__getitem__\u001b[0;34m(self, key)\u001b[0m\n\u001b[1;32m   3897\u001b[0m             \u001b[0;32mif\u001b[0m \u001b[0mis_iterator\u001b[0m\u001b[0;34m(\u001b[0m\u001b[0mkey\u001b[0m\u001b[0;34m)\u001b[0m\u001b[0;34m:\u001b[0m\u001b[0;34m\u001b[0m\u001b[0;34m\u001b[0m\u001b[0m\n\u001b[1;32m   3898\u001b[0m                 \u001b[0mkey\u001b[0m \u001b[0;34m=\u001b[0m \u001b[0mlist\u001b[0m\u001b[0;34m(\u001b[0m\u001b[0mkey\u001b[0m\u001b[0;34m)\u001b[0m\u001b[0;34m\u001b[0m\u001b[0;34m\u001b[0m\u001b[0m\n\u001b[0;32m-> 3899\u001b[0;31m             \u001b[0mindexer\u001b[0m \u001b[0;34m=\u001b[0m \u001b[0mself\u001b[0m\u001b[0;34m.\u001b[0m\u001b[0mcolumns\u001b[0m\u001b[0;34m.\u001b[0m\u001b[0m_get_indexer_strict\u001b[0m\u001b[0;34m(\u001b[0m\u001b[0mkey\u001b[0m\u001b[0;34m,\u001b[0m \u001b[0;34m\"columns\"\u001b[0m\u001b[0;34m)\u001b[0m\u001b[0;34m[\u001b[0m\u001b[0;36m1\u001b[0m\u001b[0;34m]\u001b[0m\u001b[0;34m\u001b[0m\u001b[0;34m\u001b[0m\u001b[0m\n\u001b[0m\u001b[1;32m   3900\u001b[0m \u001b[0;34m\u001b[0m\u001b[0m\n\u001b[1;32m   3901\u001b[0m         \u001b[0;31m# take() does not accept boolean indexers\u001b[0m\u001b[0;34m\u001b[0m\u001b[0;34m\u001b[0m\u001b[0m\n",
            "\u001b[0;32m/usr/local/lib/python3.10/dist-packages/pandas/core/indexes/base.py\u001b[0m in \u001b[0;36m_get_indexer_strict\u001b[0;34m(self, key, axis_name)\u001b[0m\n\u001b[1;32m   6113\u001b[0m             \u001b[0mkeyarr\u001b[0m\u001b[0;34m,\u001b[0m \u001b[0mindexer\u001b[0m\u001b[0;34m,\u001b[0m \u001b[0mnew_indexer\u001b[0m \u001b[0;34m=\u001b[0m \u001b[0mself\u001b[0m\u001b[0;34m.\u001b[0m\u001b[0m_reindex_non_unique\u001b[0m\u001b[0;34m(\u001b[0m\u001b[0mkeyarr\u001b[0m\u001b[0;34m)\u001b[0m\u001b[0;34m\u001b[0m\u001b[0;34m\u001b[0m\u001b[0m\n\u001b[1;32m   6114\u001b[0m \u001b[0;34m\u001b[0m\u001b[0m\n\u001b[0;32m-> 6115\u001b[0;31m         \u001b[0mself\u001b[0m\u001b[0;34m.\u001b[0m\u001b[0m_raise_if_missing\u001b[0m\u001b[0;34m(\u001b[0m\u001b[0mkeyarr\u001b[0m\u001b[0;34m,\u001b[0m \u001b[0mindexer\u001b[0m\u001b[0;34m,\u001b[0m \u001b[0maxis_name\u001b[0m\u001b[0;34m)\u001b[0m\u001b[0;34m\u001b[0m\u001b[0;34m\u001b[0m\u001b[0m\n\u001b[0m\u001b[1;32m   6116\u001b[0m \u001b[0;34m\u001b[0m\u001b[0m\n\u001b[1;32m   6117\u001b[0m         \u001b[0mkeyarr\u001b[0m \u001b[0;34m=\u001b[0m \u001b[0mself\u001b[0m\u001b[0;34m.\u001b[0m\u001b[0mtake\u001b[0m\u001b[0;34m(\u001b[0m\u001b[0mindexer\u001b[0m\u001b[0;34m)\u001b[0m\u001b[0;34m\u001b[0m\u001b[0;34m\u001b[0m\u001b[0m\n",
            "\u001b[0;32m/usr/local/lib/python3.10/dist-packages/pandas/core/indexes/base.py\u001b[0m in \u001b[0;36m_raise_if_missing\u001b[0;34m(self, key, indexer, axis_name)\u001b[0m\n\u001b[1;32m   6177\u001b[0m \u001b[0;34m\u001b[0m\u001b[0m\n\u001b[1;32m   6178\u001b[0m             \u001b[0mnot_found\u001b[0m \u001b[0;34m=\u001b[0m \u001b[0mlist\u001b[0m\u001b[0;34m(\u001b[0m\u001b[0mensure_index\u001b[0m\u001b[0;34m(\u001b[0m\u001b[0mkey\u001b[0m\u001b[0;34m)\u001b[0m\u001b[0;34m[\u001b[0m\u001b[0mmissing_mask\u001b[0m\u001b[0;34m.\u001b[0m\u001b[0mnonzero\u001b[0m\u001b[0;34m(\u001b[0m\u001b[0;34m)\u001b[0m\u001b[0;34m[\u001b[0m\u001b[0;36m0\u001b[0m\u001b[0;34m]\u001b[0m\u001b[0;34m]\u001b[0m\u001b[0;34m.\u001b[0m\u001b[0munique\u001b[0m\u001b[0;34m(\u001b[0m\u001b[0;34m)\u001b[0m\u001b[0;34m)\u001b[0m\u001b[0;34m\u001b[0m\u001b[0;34m\u001b[0m\u001b[0m\n\u001b[0;32m-> 6179\u001b[0;31m             \u001b[0;32mraise\u001b[0m \u001b[0mKeyError\u001b[0m\u001b[0;34m(\u001b[0m\u001b[0;34mf\"{not_found} not in index\"\u001b[0m\u001b[0;34m)\u001b[0m\u001b[0;34m\u001b[0m\u001b[0;34m\u001b[0m\u001b[0m\n\u001b[0m\u001b[1;32m   6180\u001b[0m \u001b[0;34m\u001b[0m\u001b[0m\n\u001b[1;32m   6181\u001b[0m     \u001b[0;34m@\u001b[0m\u001b[0moverload\u001b[0m\u001b[0;34m\u001b[0m\u001b[0;34m\u001b[0m\u001b[0m\n",
            "\u001b[0;31mKeyError\u001b[0m: \"['academic_degree', 'contact_source', 'is_uzbekistan_recruitment'] not in index\""
          ]
        }
      ]
    },
    {
      "cell_type": "code",
      "source": [
        "answers = model_salary.predict(X_test_sal)"
      ],
      "metadata": {
        "id": "JaIMLj6W7Gdq"
      },
      "execution_count": null,
      "outputs": []
    },
    {
      "cell_type": "code",
      "source": [],
      "metadata": {
        "id": "2eWtKcaQ7FXi"
      },
      "execution_count": null,
      "outputs": []
    },
    {
      "cell_type": "code",
      "source": [
        "y_pred_sal\n",
        "\n",
        "from numpy import nan\n",
        "answers = DataFrame(y_pred_sal)\n",
        "answers[\"id\"] = y_pred_sal\n",
        "answers[\"job_title\"] = nan\n",
        "answers[\"task_type\"] = answers[\"job_title\"].apply(lambda x: \"SAL\")\n",
        "\n",
        "answers.head(10)"
      ],
      "metadata": {
        "colab": {
          "base_uri": "https://localhost:8080/",
          "height": 363
        },
        "id": "EwhR7NJlvk1x",
        "outputId": "30d10282-de01-42ac-e10e-39f0cfa07cab"
      },
      "execution_count": null,
      "outputs": [
        {
          "output_type": "execute_result",
          "data": {
            "text/plain": [
              "               0             id  job_title task_type\n",
              "0   34999.846640   34999.846640        NaN       SAL\n",
              "1   19243.141949   19243.141949        NaN       SAL\n",
              "2  104948.937853  104948.937853        NaN       SAL\n",
              "3   35992.537154   35992.537154        NaN       SAL\n",
              "4   23974.921633   23974.921633        NaN       SAL\n",
              "5   27998.145641   27998.145641        NaN       SAL\n",
              "6   30000.197579   30000.197579        NaN       SAL\n",
              "7   33000.069147   33000.069147        NaN       SAL\n",
              "8   19243.141949   19243.141949        NaN       SAL\n",
              "9   33989.708196   33989.708196        NaN       SAL"
            ],
            "text/html": [
              "\n",
              "  <div id=\"df-1dc34c6b-bf2e-407f-b32c-8b3d69871285\" class=\"colab-df-container\">\n",
              "    <div>\n",
              "<style scoped>\n",
              "    .dataframe tbody tr th:only-of-type {\n",
              "        vertical-align: middle;\n",
              "    }\n",
              "\n",
              "    .dataframe tbody tr th {\n",
              "        vertical-align: top;\n",
              "    }\n",
              "\n",
              "    .dataframe thead th {\n",
              "        text-align: right;\n",
              "    }\n",
              "</style>\n",
              "<table border=\"1\" class=\"dataframe\">\n",
              "  <thead>\n",
              "    <tr style=\"text-align: right;\">\n",
              "      <th></th>\n",
              "      <th>0</th>\n",
              "      <th>id</th>\n",
              "      <th>job_title</th>\n",
              "      <th>task_type</th>\n",
              "    </tr>\n",
              "  </thead>\n",
              "  <tbody>\n",
              "    <tr>\n",
              "      <th>0</th>\n",
              "      <td>34999.846640</td>\n",
              "      <td>34999.846640</td>\n",
              "      <td>NaN</td>\n",
              "      <td>SAL</td>\n",
              "    </tr>\n",
              "    <tr>\n",
              "      <th>1</th>\n",
              "      <td>19243.141949</td>\n",
              "      <td>19243.141949</td>\n",
              "      <td>NaN</td>\n",
              "      <td>SAL</td>\n",
              "    </tr>\n",
              "    <tr>\n",
              "      <th>2</th>\n",
              "      <td>104948.937853</td>\n",
              "      <td>104948.937853</td>\n",
              "      <td>NaN</td>\n",
              "      <td>SAL</td>\n",
              "    </tr>\n",
              "    <tr>\n",
              "      <th>3</th>\n",
              "      <td>35992.537154</td>\n",
              "      <td>35992.537154</td>\n",
              "      <td>NaN</td>\n",
              "      <td>SAL</td>\n",
              "    </tr>\n",
              "    <tr>\n",
              "      <th>4</th>\n",
              "      <td>23974.921633</td>\n",
              "      <td>23974.921633</td>\n",
              "      <td>NaN</td>\n",
              "      <td>SAL</td>\n",
              "    </tr>\n",
              "    <tr>\n",
              "      <th>5</th>\n",
              "      <td>27998.145641</td>\n",
              "      <td>27998.145641</td>\n",
              "      <td>NaN</td>\n",
              "      <td>SAL</td>\n",
              "    </tr>\n",
              "    <tr>\n",
              "      <th>6</th>\n",
              "      <td>30000.197579</td>\n",
              "      <td>30000.197579</td>\n",
              "      <td>NaN</td>\n",
              "      <td>SAL</td>\n",
              "    </tr>\n",
              "    <tr>\n",
              "      <th>7</th>\n",
              "      <td>33000.069147</td>\n",
              "      <td>33000.069147</td>\n",
              "      <td>NaN</td>\n",
              "      <td>SAL</td>\n",
              "    </tr>\n",
              "    <tr>\n",
              "      <th>8</th>\n",
              "      <td>19243.141949</td>\n",
              "      <td>19243.141949</td>\n",
              "      <td>NaN</td>\n",
              "      <td>SAL</td>\n",
              "    </tr>\n",
              "    <tr>\n",
              "      <th>9</th>\n",
              "      <td>33989.708196</td>\n",
              "      <td>33989.708196</td>\n",
              "      <td>NaN</td>\n",
              "      <td>SAL</td>\n",
              "    </tr>\n",
              "  </tbody>\n",
              "</table>\n",
              "</div>\n",
              "    <div class=\"colab-df-buttons\">\n",
              "\n",
              "  <div class=\"colab-df-container\">\n",
              "    <button class=\"colab-df-convert\" onclick=\"convertToInteractive('df-1dc34c6b-bf2e-407f-b32c-8b3d69871285')\"\n",
              "            title=\"Convert this dataframe to an interactive table.\"\n",
              "            style=\"display:none;\">\n",
              "\n",
              "  <svg xmlns=\"http://www.w3.org/2000/svg\" height=\"24px\" viewBox=\"0 -960 960 960\">\n",
              "    <path d=\"M120-120v-720h720v720H120Zm60-500h600v-160H180v160Zm220 220h160v-160H400v160Zm0 220h160v-160H400v160ZM180-400h160v-160H180v160Zm440 0h160v-160H620v160ZM180-180h160v-160H180v160Zm440 0h160v-160H620v160Z\"/>\n",
              "  </svg>\n",
              "    </button>\n",
              "\n",
              "  <style>\n",
              "    .colab-df-container {\n",
              "      display:flex;\n",
              "      gap: 12px;\n",
              "    }\n",
              "\n",
              "    .colab-df-convert {\n",
              "      background-color: #E8F0FE;\n",
              "      border: none;\n",
              "      border-radius: 50%;\n",
              "      cursor: pointer;\n",
              "      display: none;\n",
              "      fill: #1967D2;\n",
              "      height: 32px;\n",
              "      padding: 0 0 0 0;\n",
              "      width: 32px;\n",
              "    }\n",
              "\n",
              "    .colab-df-convert:hover {\n",
              "      background-color: #E2EBFA;\n",
              "      box-shadow: 0px 1px 2px rgba(60, 64, 67, 0.3), 0px 1px 3px 1px rgba(60, 64, 67, 0.15);\n",
              "      fill: #174EA6;\n",
              "    }\n",
              "\n",
              "    .colab-df-buttons div {\n",
              "      margin-bottom: 4px;\n",
              "    }\n",
              "\n",
              "    [theme=dark] .colab-df-convert {\n",
              "      background-color: #3B4455;\n",
              "      fill: #D2E3FC;\n",
              "    }\n",
              "\n",
              "    [theme=dark] .colab-df-convert:hover {\n",
              "      background-color: #434B5C;\n",
              "      box-shadow: 0px 1px 3px 1px rgba(0, 0, 0, 0.15);\n",
              "      filter: drop-shadow(0px 1px 2px rgba(0, 0, 0, 0.3));\n",
              "      fill: #FFFFFF;\n",
              "    }\n",
              "  </style>\n",
              "\n",
              "    <script>\n",
              "      const buttonEl =\n",
              "        document.querySelector('#df-1dc34c6b-bf2e-407f-b32c-8b3d69871285 button.colab-df-convert');\n",
              "      buttonEl.style.display =\n",
              "        google.colab.kernel.accessAllowed ? 'block' : 'none';\n",
              "\n",
              "      async function convertToInteractive(key) {\n",
              "        const element = document.querySelector('#df-1dc34c6b-bf2e-407f-b32c-8b3d69871285');\n",
              "        const dataTable =\n",
              "          await google.colab.kernel.invokeFunction('convertToInteractive',\n",
              "                                                    [key], {});\n",
              "        if (!dataTable) return;\n",
              "\n",
              "        const docLinkHtml = 'Like what you see? Visit the ' +\n",
              "          '<a target=\"_blank\" href=https://colab.research.google.com/notebooks/data_table.ipynb>data table notebook</a>'\n",
              "          + ' to learn more about interactive tables.';\n",
              "        element.innerHTML = '';\n",
              "        dataTable['output_type'] = 'display_data';\n",
              "        await google.colab.output.renderOutput(dataTable, element);\n",
              "        const docLink = document.createElement('div');\n",
              "        docLink.innerHTML = docLinkHtml;\n",
              "        element.appendChild(docLink);\n",
              "      }\n",
              "    </script>\n",
              "  </div>\n",
              "\n",
              "\n",
              "<div id=\"df-5ab46434-7920-4855-b2e4-206c08969fda\">\n",
              "  <button class=\"colab-df-quickchart\" onclick=\"quickchart('df-5ab46434-7920-4855-b2e4-206c08969fda')\"\n",
              "            title=\"Suggest charts\"\n",
              "            style=\"display:none;\">\n",
              "\n",
              "<svg xmlns=\"http://www.w3.org/2000/svg\" height=\"24px\"viewBox=\"0 0 24 24\"\n",
              "     width=\"24px\">\n",
              "    <g>\n",
              "        <path d=\"M19 3H5c-1.1 0-2 .9-2 2v14c0 1.1.9 2 2 2h14c1.1 0 2-.9 2-2V5c0-1.1-.9-2-2-2zM9 17H7v-7h2v7zm4 0h-2V7h2v10zm4 0h-2v-4h2v4z\"/>\n",
              "    </g>\n",
              "</svg>\n",
              "  </button>\n",
              "\n",
              "<style>\n",
              "  .colab-df-quickchart {\n",
              "      --bg-color: #E8F0FE;\n",
              "      --fill-color: #1967D2;\n",
              "      --hover-bg-color: #E2EBFA;\n",
              "      --hover-fill-color: #174EA6;\n",
              "      --disabled-fill-color: #AAA;\n",
              "      --disabled-bg-color: #DDD;\n",
              "  }\n",
              "\n",
              "  [theme=dark] .colab-df-quickchart {\n",
              "      --bg-color: #3B4455;\n",
              "      --fill-color: #D2E3FC;\n",
              "      --hover-bg-color: #434B5C;\n",
              "      --hover-fill-color: #FFFFFF;\n",
              "      --disabled-bg-color: #3B4455;\n",
              "      --disabled-fill-color: #666;\n",
              "  }\n",
              "\n",
              "  .colab-df-quickchart {\n",
              "    background-color: var(--bg-color);\n",
              "    border: none;\n",
              "    border-radius: 50%;\n",
              "    cursor: pointer;\n",
              "    display: none;\n",
              "    fill: var(--fill-color);\n",
              "    height: 32px;\n",
              "    padding: 0;\n",
              "    width: 32px;\n",
              "  }\n",
              "\n",
              "  .colab-df-quickchart:hover {\n",
              "    background-color: var(--hover-bg-color);\n",
              "    box-shadow: 0 1px 2px rgba(60, 64, 67, 0.3), 0 1px 3px 1px rgba(60, 64, 67, 0.15);\n",
              "    fill: var(--button-hover-fill-color);\n",
              "  }\n",
              "\n",
              "  .colab-df-quickchart-complete:disabled,\n",
              "  .colab-df-quickchart-complete:disabled:hover {\n",
              "    background-color: var(--disabled-bg-color);\n",
              "    fill: var(--disabled-fill-color);\n",
              "    box-shadow: none;\n",
              "  }\n",
              "\n",
              "  .colab-df-spinner {\n",
              "    border: 2px solid var(--fill-color);\n",
              "    border-color: transparent;\n",
              "    border-bottom-color: var(--fill-color);\n",
              "    animation:\n",
              "      spin 1s steps(1) infinite;\n",
              "  }\n",
              "\n",
              "  @keyframes spin {\n",
              "    0% {\n",
              "      border-color: transparent;\n",
              "      border-bottom-color: var(--fill-color);\n",
              "      border-left-color: var(--fill-color);\n",
              "    }\n",
              "    20% {\n",
              "      border-color: transparent;\n",
              "      border-left-color: var(--fill-color);\n",
              "      border-top-color: var(--fill-color);\n",
              "    }\n",
              "    30% {\n",
              "      border-color: transparent;\n",
              "      border-left-color: var(--fill-color);\n",
              "      border-top-color: var(--fill-color);\n",
              "      border-right-color: var(--fill-color);\n",
              "    }\n",
              "    40% {\n",
              "      border-color: transparent;\n",
              "      border-right-color: var(--fill-color);\n",
              "      border-top-color: var(--fill-color);\n",
              "    }\n",
              "    60% {\n",
              "      border-color: transparent;\n",
              "      border-right-color: var(--fill-color);\n",
              "    }\n",
              "    80% {\n",
              "      border-color: transparent;\n",
              "      border-right-color: var(--fill-color);\n",
              "      border-bottom-color: var(--fill-color);\n",
              "    }\n",
              "    90% {\n",
              "      border-color: transparent;\n",
              "      border-bottom-color: var(--fill-color);\n",
              "    }\n",
              "  }\n",
              "</style>\n",
              "\n",
              "  <script>\n",
              "    async function quickchart(key) {\n",
              "      const quickchartButtonEl =\n",
              "        document.querySelector('#' + key + ' button');\n",
              "      quickchartButtonEl.disabled = true;  // To prevent multiple clicks.\n",
              "      quickchartButtonEl.classList.add('colab-df-spinner');\n",
              "      try {\n",
              "        const charts = await google.colab.kernel.invokeFunction(\n",
              "            'suggestCharts', [key], {});\n",
              "      } catch (error) {\n",
              "        console.error('Error during call to suggestCharts:', error);\n",
              "      }\n",
              "      quickchartButtonEl.classList.remove('colab-df-spinner');\n",
              "      quickchartButtonEl.classList.add('colab-df-quickchart-complete');\n",
              "    }\n",
              "    (() => {\n",
              "      let quickchartButtonEl =\n",
              "        document.querySelector('#df-5ab46434-7920-4855-b2e4-206c08969fda button');\n",
              "      quickchartButtonEl.style.display =\n",
              "        google.colab.kernel.accessAllowed ? 'block' : 'none';\n",
              "    })();\n",
              "  </script>\n",
              "</div>\n",
              "    </div>\n",
              "  </div>\n"
            ],
            "application/vnd.google.colaboratory.intrinsic+json": {
              "type": "dataframe",
              "variable_name": "answers",
              "summary": "{\n  \"name\": \"answers\",\n  \"rows\": 40000,\n  \"fields\": [\n    {\n      \"column\": 0,\n      \"properties\": {\n        \"dtype\": \"number\",\n        \"std\": 22769.926211457445,\n        \"min\": 3.692951601615256,\n        \"max\": 449322.58023061923,\n        \"num_unique_values\": 1552,\n        \"samples\": [\n          102835.56975508349,\n          55600.659411861096,\n          40976.37229269853\n        ],\n        \"semantic_type\": \"\",\n        \"description\": \"\"\n      }\n    },\n    {\n      \"column\": \"id\",\n      \"properties\": {\n        \"dtype\": \"number\",\n        \"std\": 22769.926211457445,\n        \"min\": 3.692951601615256,\n        \"max\": 449322.58023061923,\n        \"num_unique_values\": 1552,\n        \"samples\": [\n          102835.56975508349,\n          55600.659411861096,\n          40976.37229269853\n        ],\n        \"semantic_type\": \"\",\n        \"description\": \"\"\n      }\n    },\n    {\n      \"column\": \"job_title\",\n      \"properties\": {\n        \"dtype\": \"number\",\n        \"std\": null,\n        \"min\": null,\n        \"max\": null,\n        \"num_unique_values\": 0,\n        \"samples\": [],\n        \"semantic_type\": \"\",\n        \"description\": \"\"\n      }\n    },\n    {\n      \"column\": \"task_type\",\n      \"properties\": {\n        \"dtype\": \"category\",\n        \"num_unique_values\": 1,\n        \"samples\": [],\n        \"semantic_type\": \"\",\n        \"description\": \"\"\n      }\n    }\n  ]\n}"
            }
          },
          "metadata": {},
          "execution_count": 92
        }
      ]
    },
    {
      "cell_type": "code",
      "source": [
        "# Evaluating model performance\n",
        "mae = mean_absolute_error(y_test_sal, y_pred_sal)\n",
        "rmse = mean_squared_error(y_test_sal, y_pred_sal, squared = False)\n",
        "print(f\"Mean Absolute Error on test set: {mae}\")\n",
        "print(f\"Root Mean Squared Error on test set: {rmse}\")\n",
        "\n",
        "print(f\"target metric: {0.1-rmse/33000}\")"
      ],
      "metadata": {
        "colab": {
          "base_uri": "https://localhost:8080/"
        },
        "id": "HIryDcHnls66",
        "outputId": "a895a738-7690-42c3-ccd7-0d0193ed2745"
      },
      "execution_count": null,
      "outputs": [
        {
          "output_type": "stream",
          "name": "stdout",
          "text": [
            "Mean Absolute Error on test set: 12.086686280046433\n",
            "Root Mean Squared Error on test set: 50.929235589600076\n",
            "target metric: 0.09845668983061819\n"
          ]
        }
      ]
    },
    {
      "cell_type": "code",
      "source": [
        "# Creating examples for submission\n",
        "df_TEST_SAL_example = df_ts.iloc[:len(y_pred_sal)]\n",
        "\n",
        "def create_submission_part(test_df, name_of_predict_column, predictions):\n",
        "    submission = pd.DataFrame([])\n",
        "    submission['id'] = test_df['id']\n",
        "    submission[name_of_predict_column] = predictions\n",
        "    return submission\n",
        "\n",
        "submission_SAL_part = create_submission_part(df_TEST_SAL_example, 'salary', y_pred_sal.flatten())\n",
        "\n",
        "# Output results\n",
        "print(submission_SAL_part.head())"
      ],
      "metadata": {
        "id": "fIJ58ScNvk_A"
      },
      "execution_count": null,
      "outputs": []
    },
    {
      "cell_type": "markdown",
      "source": [
        "#Test"
      ],
      "metadata": {
        "id": "pREHLNEBmMyy"
      }
    },
    {
      "cell_type": "code",
      "source": [
        "path = \"https://lodmedia.hb.bizmrg.com/case_files/1125024/test_dataset_vprod_test.zip\"\n",
        "zt = zipfile.ZipFile(io.BytesIO(urlopen(path).read()))"
      ],
      "metadata": {
        "id": "8fjnxiEL-FKb"
      },
      "execution_count": null,
      "outputs": []
    },
    {
      "cell_type": "code",
      "source": [
        "ts=zt.open(\"TEST_SAL.csv\")\n",
        "# df_test = read_csv(ts)\n",
        "df_test = read_csv(ts)\n",
        "\n",
        "del zt # чтобы влезло /"
      ],
      "metadata": {
        "id": "hy_6RI2QD8Ls"
      },
      "execution_count": null,
      "outputs": []
    },
    {
      "cell_type": "code",
      "source": [],
      "metadata": {
        "id": "hv5s2KurmpaZ"
      },
      "execution_count": null,
      "outputs": []
    },
    {
      "cell_type": "code",
      "execution_count": null,
      "metadata": {
        "id": "DoVQFTz2m1LY"
      },
      "outputs": [],
      "source": [
        "# убираем фичи, для которых количесвто уникальных значений == 1\n",
        "for i in df_test.columns:\n",
        "  if len(df_test[i].unique())==1:\n",
        "    df_test = df_test.drop(i, axis=1)\n"
      ]
    },
    {
      "cell_type": "code",
      "execution_count": null,
      "metadata": {
        "id": "7W31_75FnM0s"
      },
      "outputs": [],
      "source": [
        "for feature in social_protected_ids:\n",
        "  df_test[feature] = feature in df_test[\"social_protected_ids\"]\n",
        "for feature in vacancy_benefit_ids:\n",
        "  df_test[feature] = feature in df_test[\"vacancy_benefit_ids\"]"
      ]
    },
    {
      "cell_type": "code",
      "source": [
        "for cat in driver_cats:\n",
        "  df_test[f\"driver_cat_{cat}\"] = df_test[\"required_drive_license\"].apply(lambda x: \"True\" if cat in x else \"False\")\n",
        "  cats.append(f\"driver_cat_{cat}\")\n",
        "\n",
        "try:\n",
        "  text_features.remove(\"required_drive_license\")\n",
        "except:\n",
        "  pass\n"
      ],
      "metadata": {
        "id": "tkJrFnW8nM06"
      },
      "execution_count": null,
      "outputs": []
    },
    {
      "cell_type": "code",
      "source": [],
      "metadata": {
        "id": "QUaUdcODriKT"
      },
      "execution_count": null,
      "outputs": []
    },
    {
      "cell_type": "code",
      "source": [
        "df_test = df_test.drop(\"required_drive_license\", axis=1)"
      ],
      "metadata": {
        "id": "4kD5SlB3nM06"
      },
      "execution_count": null,
      "outputs": []
    },
    {
      "cell_type": "code",
      "execution_count": null,
      "metadata": {
        "id": "zMHHSOgkn09C"
      },
      "outputs": [],
      "source": [
        "df_test[\"company_json_name\"] = df_test[\"company\"].apply(lambda x: loads(x)[\"name\"]\n",
        "                                                    if \"name\" in loads(x)\n",
        "                                                    else \"Название не указано\") #\n",
        "\n"
      ]
    },
    {
      "cell_type": "code",
      "source": [
        "df_test.keys()"
      ],
      "metadata": {
        "colab": {
          "base_uri": "https://localhost:8080/"
        },
        "id": "IoAutHPqrm-k",
        "outputId": "fcd30171-d4ec-4384-c378-a0e3db76a2c0"
      },
      "execution_count": null,
      "outputs": [
        {
          "output_type": "execute_result",
          "data": {
            "text/plain": [
              "Index(['id', 'accommodation_capability', 'accommodation_type',\n",
              "       'additional_premium', 'additional_requirements', 'bonus_type',\n",
              "       'measure_type', 'busy_type', 'career_perspective', 'change_time',\n",
              "       'code_external_system', 'code_profession', 'code_professional_sphere',\n",
              "       'company_code', 'contact_person', 'data_ids', 'date_create',\n",
              "       'date_modify', 'education', 'education_speciality', 'metro_ids',\n",
              "       'is_mobility_program', 'is_quoted', 'need_medcard', 'okso_code',\n",
              "       'original_source_type', 'other_vacancy_benefit',\n",
              "       'position_requirements', 'position_responsibilities', 'published_date',\n",
              "       'regionName', 'company_business_size', 'required_certificates',\n",
              "       'required_experience', 'retraining_capability', 'retraining_grant',\n",
              "       'schedule_type', 'social_protected_ids', 'source_type',\n",
              "       'state_region_code', 'status', 'transport_compensation',\n",
              "       'vacancy_address_additional_info', 'vacancy_address',\n",
              "       'vacancy_address_code', 'vacancy_address_house',\n",
              "       'vacancy_address_latitude', 'vacancy_address_longitude',\n",
              "       'vacancy_benefit_ids', 'vacancy_name', 'work_places',\n",
              "       'professionalSphereName', 'federalDistrictCode', 'industryBranchName',\n",
              "       'full_company_name', 'company_inn', 'company', 'hardSkills',\n",
              "       'softSkills', 'Беженцы', 'лица, получившие временное убежище',\n",
              "       'Инвалиды', 'Лица, освобождаемые из мест лишения свободы',\n",
              "       'Матери и отцы, воспитывающие без супруга (супруги) детей в возрасте до пяти лет',\n",
              "       'вынужденные переселенцы', 'Многодетные семьи',\n",
              "       'Несовершеннолетние работники', 'Работники, имеющие детей-инвалидов',\n",
              "       'Работники, осуществляющие уход за больными членами их семей в соответствии с медицинским заключением',\n",
              "       'ДМС', 'Путевки в оздоровительные учреждения', 'Оплата занятий спортом',\n",
              "       'Оплата питания', 'driver_cat_B', 'driver_cat_E', 'driver_cat_C',\n",
              "       'driver_cat_D', 'driver_cat_A', 'company_json_name'],\n",
              "      dtype='object')"
            ]
          },
          "metadata": {},
          "execution_count": 78
        }
      ]
    },
    {
      "cell_type": "code",
      "execution_count": null,
      "metadata": {
        "collapsed": true,
        "id": "bCLB8456n09V"
      },
      "outputs": [],
      "source": [
        "# keys_lg = ['code_language', 'id_owner', 'level', 'type']"
      ]
    },
    {
      "cell_type": "code",
      "execution_count": null,
      "metadata": {
        "colab": {
          "base_uri": "https://localhost:8080/",
          "height": 547
        },
        "id": "eeDlWJODn09W",
        "outputId": "1a14ce2f-f216-41f4-e15c-ce6b80039ed4"
      },
      "outputs": [
        {
          "output_type": "error",
          "ename": "KeyError",
          "evalue": "'languageKnowledge'",
          "traceback": [
            "\u001b[0;31m---------------------------------------------------------------------------\u001b[0m",
            "\u001b[0;31mKeyError\u001b[0m                                  Traceback (most recent call last)",
            "\u001b[0;32m/usr/local/lib/python3.10/dist-packages/pandas/core/indexes/base.py\u001b[0m in \u001b[0;36mget_loc\u001b[0;34m(self, key)\u001b[0m\n\u001b[1;32m   3790\u001b[0m         \u001b[0;32mtry\u001b[0m\u001b[0;34m:\u001b[0m\u001b[0;34m\u001b[0m\u001b[0;34m\u001b[0m\u001b[0m\n\u001b[0;32m-> 3791\u001b[0;31m             \u001b[0;32mreturn\u001b[0m \u001b[0mself\u001b[0m\u001b[0;34m.\u001b[0m\u001b[0m_engine\u001b[0m\u001b[0;34m.\u001b[0m\u001b[0mget_loc\u001b[0m\u001b[0;34m(\u001b[0m\u001b[0mcasted_key\u001b[0m\u001b[0;34m)\u001b[0m\u001b[0;34m\u001b[0m\u001b[0;34m\u001b[0m\u001b[0m\n\u001b[0m\u001b[1;32m   3792\u001b[0m         \u001b[0;32mexcept\u001b[0m \u001b[0mKeyError\u001b[0m \u001b[0;32mas\u001b[0m \u001b[0merr\u001b[0m\u001b[0;34m:\u001b[0m\u001b[0;34m\u001b[0m\u001b[0;34m\u001b[0m\u001b[0m\n",
            "\u001b[0;32mindex.pyx\u001b[0m in \u001b[0;36mpandas._libs.index.IndexEngine.get_loc\u001b[0;34m()\u001b[0m\n",
            "\u001b[0;32mindex.pyx\u001b[0m in \u001b[0;36mpandas._libs.index.IndexEngine.get_loc\u001b[0;34m()\u001b[0m\n",
            "\u001b[0;32mpandas/_libs/hashtable_class_helper.pxi\u001b[0m in \u001b[0;36mpandas._libs.hashtable.PyObjectHashTable.get_item\u001b[0;34m()\u001b[0m\n",
            "\u001b[0;32mpandas/_libs/hashtable_class_helper.pxi\u001b[0m in \u001b[0;36mpandas._libs.hashtable.PyObjectHashTable.get_item\u001b[0;34m()\u001b[0m\n",
            "\u001b[0;31mKeyError\u001b[0m: 'languageKnowledge'",
            "\nThe above exception was the direct cause of the following exception:\n",
            "\u001b[0;31mKeyError\u001b[0m                                  Traceback (most recent call last)",
            "\u001b[0;32m<ipython-input-77-266236815c69>\u001b[0m in \u001b[0;36m<cell line: 1>\u001b[0;34m()\u001b[0m\n\u001b[0;32m----> 1\u001b[0;31m \u001b[0mdf_test\u001b[0m\u001b[0;34m[\u001b[0m\u001b[0;34m\"LK_code_language\"\u001b[0m\u001b[0;34m]\u001b[0m \u001b[0;34m=\u001b[0m \u001b[0mdf_test\u001b[0m\u001b[0;34m[\u001b[0m\u001b[0;34m\"languageKnowledge\"\u001b[0m\u001b[0;34m]\u001b[0m\u001b[0;34m.\u001b[0m\u001b[0mapply\u001b[0m\u001b[0;34m(\u001b[0m\u001b[0;32mlambda\u001b[0m \u001b[0mx\u001b[0m\u001b[0;34m:\u001b[0m \u001b[0mloads\u001b[0m\u001b[0;34m(\u001b[0m\u001b[0mx\u001b[0m\u001b[0;34m)\u001b[0m\u001b[0;34m[\u001b[0m\u001b[0;36m0\u001b[0m\u001b[0;34m]\u001b[0m\u001b[0;34m[\u001b[0m\u001b[0;34m\"code_language\"\u001b[0m\u001b[0;34m]\u001b[0m \u001b[0;32mif\u001b[0m \u001b[0mx\u001b[0m\u001b[0;34m!=\u001b[0m\u001b[0;34m\"[]\"\u001b[0m \u001b[0;32melse\u001b[0m \u001b[0;34m\"nan\"\u001b[0m\u001b[0;34m)\u001b[0m\u001b[0;34m\u001b[0m\u001b[0;34m\u001b[0m\u001b[0m\n\u001b[0m",
            "\u001b[0;32m/usr/local/lib/python3.10/dist-packages/pandas/core/frame.py\u001b[0m in \u001b[0;36m__getitem__\u001b[0;34m(self, key)\u001b[0m\n\u001b[1;32m   3891\u001b[0m             \u001b[0;32mif\u001b[0m \u001b[0mself\u001b[0m\u001b[0;34m.\u001b[0m\u001b[0mcolumns\u001b[0m\u001b[0;34m.\u001b[0m\u001b[0mnlevels\u001b[0m \u001b[0;34m>\u001b[0m \u001b[0;36m1\u001b[0m\u001b[0;34m:\u001b[0m\u001b[0;34m\u001b[0m\u001b[0;34m\u001b[0m\u001b[0m\n\u001b[1;32m   3892\u001b[0m                 \u001b[0;32mreturn\u001b[0m \u001b[0mself\u001b[0m\u001b[0;34m.\u001b[0m\u001b[0m_getitem_multilevel\u001b[0m\u001b[0;34m(\u001b[0m\u001b[0mkey\u001b[0m\u001b[0;34m)\u001b[0m\u001b[0;34m\u001b[0m\u001b[0;34m\u001b[0m\u001b[0m\n\u001b[0;32m-> 3893\u001b[0;31m             \u001b[0mindexer\u001b[0m \u001b[0;34m=\u001b[0m \u001b[0mself\u001b[0m\u001b[0;34m.\u001b[0m\u001b[0mcolumns\u001b[0m\u001b[0;34m.\u001b[0m\u001b[0mget_loc\u001b[0m\u001b[0;34m(\u001b[0m\u001b[0mkey\u001b[0m\u001b[0;34m)\u001b[0m\u001b[0;34m\u001b[0m\u001b[0;34m\u001b[0m\u001b[0m\n\u001b[0m\u001b[1;32m   3894\u001b[0m             \u001b[0;32mif\u001b[0m \u001b[0mis_integer\u001b[0m\u001b[0;34m(\u001b[0m\u001b[0mindexer\u001b[0m\u001b[0;34m)\u001b[0m\u001b[0;34m:\u001b[0m\u001b[0;34m\u001b[0m\u001b[0;34m\u001b[0m\u001b[0m\n\u001b[1;32m   3895\u001b[0m                 \u001b[0mindexer\u001b[0m \u001b[0;34m=\u001b[0m \u001b[0;34m[\u001b[0m\u001b[0mindexer\u001b[0m\u001b[0;34m]\u001b[0m\u001b[0;34m\u001b[0m\u001b[0;34m\u001b[0m\u001b[0m\n",
            "\u001b[0;32m/usr/local/lib/python3.10/dist-packages/pandas/core/indexes/base.py\u001b[0m in \u001b[0;36mget_loc\u001b[0;34m(self, key)\u001b[0m\n\u001b[1;32m   3796\u001b[0m             ):\n\u001b[1;32m   3797\u001b[0m                 \u001b[0;32mraise\u001b[0m \u001b[0mInvalidIndexError\u001b[0m\u001b[0;34m(\u001b[0m\u001b[0mkey\u001b[0m\u001b[0;34m)\u001b[0m\u001b[0;34m\u001b[0m\u001b[0;34m\u001b[0m\u001b[0m\n\u001b[0;32m-> 3798\u001b[0;31m             \u001b[0;32mraise\u001b[0m \u001b[0mKeyError\u001b[0m\u001b[0;34m(\u001b[0m\u001b[0mkey\u001b[0m\u001b[0;34m)\u001b[0m \u001b[0;32mfrom\u001b[0m \u001b[0merr\u001b[0m\u001b[0;34m\u001b[0m\u001b[0;34m\u001b[0m\u001b[0m\n\u001b[0m\u001b[1;32m   3799\u001b[0m         \u001b[0;32mexcept\u001b[0m \u001b[0mTypeError\u001b[0m\u001b[0;34m:\u001b[0m\u001b[0;34m\u001b[0m\u001b[0;34m\u001b[0m\u001b[0m\n\u001b[1;32m   3800\u001b[0m             \u001b[0;31m# If we have a listlike key, _check_indexing_error will raise\u001b[0m\u001b[0;34m\u001b[0m\u001b[0;34m\u001b[0m\u001b[0m\n",
            "\u001b[0;31mKeyError\u001b[0m: 'languageKnowledge'"
          ]
        }
      ],
      "source": [
        "df_test[\"LK_code_language\"] = df_test[\"languageKnowledge\"].apply(lambda x: loads(x)[0][\"code_language\"] if x!=\"[]\" else \"nan\")"
      ]
    },
    {
      "cell_type": "code",
      "execution_count": null,
      "metadata": {
        "colab": {
          "base_uri": "https://localhost:8080/",
          "height": 547
        },
        "id": "cgPQGUbbn09W",
        "outputId": "17099899-59d3-428c-89dc-5e05e843ab73"
      },
      "outputs": [
        {
          "output_type": "error",
          "ename": "KeyError",
          "evalue": "'languageKnowledge'",
          "traceback": [
            "\u001b[0;31m---------------------------------------------------------------------------\u001b[0m",
            "\u001b[0;31mKeyError\u001b[0m                                  Traceback (most recent call last)",
            "\u001b[0;32m/usr/local/lib/python3.10/dist-packages/pandas/core/indexes/base.py\u001b[0m in \u001b[0;36mget_loc\u001b[0;34m(self, key)\u001b[0m\n\u001b[1;32m   3790\u001b[0m         \u001b[0;32mtry\u001b[0m\u001b[0;34m:\u001b[0m\u001b[0;34m\u001b[0m\u001b[0;34m\u001b[0m\u001b[0m\n\u001b[0;32m-> 3791\u001b[0;31m             \u001b[0;32mreturn\u001b[0m \u001b[0mself\u001b[0m\u001b[0;34m.\u001b[0m\u001b[0m_engine\u001b[0m\u001b[0;34m.\u001b[0m\u001b[0mget_loc\u001b[0m\u001b[0;34m(\u001b[0m\u001b[0mcasted_key\u001b[0m\u001b[0;34m)\u001b[0m\u001b[0;34m\u001b[0m\u001b[0;34m\u001b[0m\u001b[0m\n\u001b[0m\u001b[1;32m   3792\u001b[0m         \u001b[0;32mexcept\u001b[0m \u001b[0mKeyError\u001b[0m \u001b[0;32mas\u001b[0m \u001b[0merr\u001b[0m\u001b[0;34m:\u001b[0m\u001b[0;34m\u001b[0m\u001b[0;34m\u001b[0m\u001b[0m\n",
            "\u001b[0;32mindex.pyx\u001b[0m in \u001b[0;36mpandas._libs.index.IndexEngine.get_loc\u001b[0;34m()\u001b[0m\n",
            "\u001b[0;32mindex.pyx\u001b[0m in \u001b[0;36mpandas._libs.index.IndexEngine.get_loc\u001b[0;34m()\u001b[0m\n",
            "\u001b[0;32mpandas/_libs/hashtable_class_helper.pxi\u001b[0m in \u001b[0;36mpandas._libs.hashtable.PyObjectHashTable.get_item\u001b[0;34m()\u001b[0m\n",
            "\u001b[0;32mpandas/_libs/hashtable_class_helper.pxi\u001b[0m in \u001b[0;36mpandas._libs.hashtable.PyObjectHashTable.get_item\u001b[0;34m()\u001b[0m\n",
            "\u001b[0;31mKeyError\u001b[0m: 'languageKnowledge'",
            "\nThe above exception was the direct cause of the following exception:\n",
            "\u001b[0;31mKeyError\u001b[0m                                  Traceback (most recent call last)",
            "\u001b[0;32m<ipython-input-79-4c08bca3c2da>\u001b[0m in \u001b[0;36m<cell line: 1>\u001b[0;34m()\u001b[0m\n\u001b[0;32m----> 1\u001b[0;31m \u001b[0mdf_ts\u001b[0m\u001b[0;34m[\u001b[0m\u001b[0;34m\"LK_level\"\u001b[0m\u001b[0;34m]\u001b[0m \u001b[0;34m=\u001b[0m \u001b[0mdf_ts\u001b[0m\u001b[0;34m[\u001b[0m\u001b[0;34m\"languageKnowledge\"\u001b[0m\u001b[0;34m]\u001b[0m\u001b[0;34m.\u001b[0m\u001b[0mapply\u001b[0m\u001b[0;34m(\u001b[0m\u001b[0;32mlambda\u001b[0m \u001b[0mx\u001b[0m\u001b[0;34m:\u001b[0m \u001b[0;34m(\u001b[0m\u001b[0mloads\u001b[0m\u001b[0;34m(\u001b[0m\u001b[0mx\u001b[0m\u001b[0;34m)\u001b[0m\u001b[0;34m[\u001b[0m\u001b[0;36m0\u001b[0m\u001b[0;34m]\u001b[0m\u001b[0;34m[\u001b[0m\u001b[0;34m\"level\"\u001b[0m\u001b[0;34m]\u001b[0m \u001b[0;32mif\u001b[0m \u001b[0;34m\"level\"\u001b[0m \u001b[0;32min\u001b[0m \u001b[0mloads\u001b[0m\u001b[0;34m(\u001b[0m\u001b[0mx\u001b[0m\u001b[0;34m)\u001b[0m\u001b[0;34m[\u001b[0m\u001b[0;36m0\u001b[0m\u001b[0;34m]\u001b[0m \u001b[0;32melse\u001b[0m \u001b[0;34m\"Не указан\"\u001b[0m\u001b[0;34m)\u001b[0m \u001b[0;32mif\u001b[0m \u001b[0mx\u001b[0m\u001b[0;34m!=\u001b[0m\u001b[0;34m\"[]\"\u001b[0m \u001b[0;32melse\u001b[0m \u001b[0;34m\"nan\"\u001b[0m\u001b[0;34m)\u001b[0m\u001b[0;34m\u001b[0m\u001b[0;34m\u001b[0m\u001b[0m\n\u001b[0m\u001b[1;32m      2\u001b[0m \u001b[0;34m\u001b[0m\u001b[0m\n\u001b[1;32m      3\u001b[0m \u001b[0mcats\u001b[0m\u001b[0;34m.\u001b[0m\u001b[0mappend\u001b[0m\u001b[0;34m(\u001b[0m\u001b[0;34m\"LK_code_language\"\u001b[0m\u001b[0;34m)\u001b[0m\u001b[0;34m\u001b[0m\u001b[0;34m\u001b[0m\u001b[0m\n\u001b[1;32m      4\u001b[0m \u001b[0mcats\u001b[0m\u001b[0;34m.\u001b[0m\u001b[0mappend\u001b[0m\u001b[0;34m(\u001b[0m\u001b[0;34m\"LK_level\"\u001b[0m\u001b[0;34m)\u001b[0m\u001b[0;34m\u001b[0m\u001b[0;34m\u001b[0m\u001b[0m\n",
            "\u001b[0;32m/usr/local/lib/python3.10/dist-packages/pandas/core/frame.py\u001b[0m in \u001b[0;36m__getitem__\u001b[0;34m(self, key)\u001b[0m\n\u001b[1;32m   3891\u001b[0m             \u001b[0;32mif\u001b[0m \u001b[0mself\u001b[0m\u001b[0;34m.\u001b[0m\u001b[0mcolumns\u001b[0m\u001b[0;34m.\u001b[0m\u001b[0mnlevels\u001b[0m \u001b[0;34m>\u001b[0m \u001b[0;36m1\u001b[0m\u001b[0;34m:\u001b[0m\u001b[0;34m\u001b[0m\u001b[0;34m\u001b[0m\u001b[0m\n\u001b[1;32m   3892\u001b[0m                 \u001b[0;32mreturn\u001b[0m \u001b[0mself\u001b[0m\u001b[0;34m.\u001b[0m\u001b[0m_getitem_multilevel\u001b[0m\u001b[0;34m(\u001b[0m\u001b[0mkey\u001b[0m\u001b[0;34m)\u001b[0m\u001b[0;34m\u001b[0m\u001b[0;34m\u001b[0m\u001b[0m\n\u001b[0;32m-> 3893\u001b[0;31m             \u001b[0mindexer\u001b[0m \u001b[0;34m=\u001b[0m \u001b[0mself\u001b[0m\u001b[0;34m.\u001b[0m\u001b[0mcolumns\u001b[0m\u001b[0;34m.\u001b[0m\u001b[0mget_loc\u001b[0m\u001b[0;34m(\u001b[0m\u001b[0mkey\u001b[0m\u001b[0;34m)\u001b[0m\u001b[0;34m\u001b[0m\u001b[0;34m\u001b[0m\u001b[0m\n\u001b[0m\u001b[1;32m   3894\u001b[0m             \u001b[0;32mif\u001b[0m \u001b[0mis_integer\u001b[0m\u001b[0;34m(\u001b[0m\u001b[0mindexer\u001b[0m\u001b[0;34m)\u001b[0m\u001b[0;34m:\u001b[0m\u001b[0;34m\u001b[0m\u001b[0;34m\u001b[0m\u001b[0m\n\u001b[1;32m   3895\u001b[0m                 \u001b[0mindexer\u001b[0m \u001b[0;34m=\u001b[0m \u001b[0;34m[\u001b[0m\u001b[0mindexer\u001b[0m\u001b[0;34m]\u001b[0m\u001b[0;34m\u001b[0m\u001b[0;34m\u001b[0m\u001b[0m\n",
            "\u001b[0;32m/usr/local/lib/python3.10/dist-packages/pandas/core/indexes/base.py\u001b[0m in \u001b[0;36mget_loc\u001b[0;34m(self, key)\u001b[0m\n\u001b[1;32m   3796\u001b[0m             ):\n\u001b[1;32m   3797\u001b[0m                 \u001b[0;32mraise\u001b[0m \u001b[0mInvalidIndexError\u001b[0m\u001b[0;34m(\u001b[0m\u001b[0mkey\u001b[0m\u001b[0;34m)\u001b[0m\u001b[0;34m\u001b[0m\u001b[0;34m\u001b[0m\u001b[0m\n\u001b[0;32m-> 3798\u001b[0;31m             \u001b[0;32mraise\u001b[0m \u001b[0mKeyError\u001b[0m\u001b[0;34m(\u001b[0m\u001b[0mkey\u001b[0m\u001b[0;34m)\u001b[0m \u001b[0;32mfrom\u001b[0m \u001b[0merr\u001b[0m\u001b[0;34m\u001b[0m\u001b[0;34m\u001b[0m\u001b[0m\n\u001b[0m\u001b[1;32m   3799\u001b[0m         \u001b[0;32mexcept\u001b[0m \u001b[0mTypeError\u001b[0m\u001b[0;34m:\u001b[0m\u001b[0;34m\u001b[0m\u001b[0;34m\u001b[0m\u001b[0m\n\u001b[1;32m   3800\u001b[0m             \u001b[0;31m# If we have a listlike key, _check_indexing_error will raise\u001b[0m\u001b[0;34m\u001b[0m\u001b[0;34m\u001b[0m\u001b[0m\n",
            "\u001b[0;31mKeyError\u001b[0m: 'languageKnowledge'"
          ]
        }
      ],
      "source": [
        "df_ts[\"LK_level\"] = df_ts[\"languageKnowledge\"].apply(lambda x: (loads(x)[0][\"level\"] if \"level\" in loads(x)[0] else \"Не указан\") if x!=\"[]\" else \"nan\")\n",
        "\n",
        "cats.append(\"LK_code_language\")\n",
        "cats.append(\"LK_level\")"
      ]
    },
    {
      "cell_type": "code",
      "execution_count": null,
      "metadata": {
        "id": "OYUc3WTFn09W"
      },
      "outputs": [],
      "source": [
        "df_test[\"hardSkills\"] = df_test[\"hardSkills\"].apply(lambda x: loads(x)[0][\"hard_skill_name\"] if x!=\"[]\" else \"nan\")"
      ]
    },
    {
      "cell_type": "code",
      "execution_count": null,
      "metadata": {
        "id": "2FXGyUf8n09W"
      },
      "outputs": [],
      "source": [
        "df_test[\"softSkills\"] = df_test[\"softSkills\"].apply(lambda x: loads(x)[0][\"soft_skill_name\"] if x!=\"[]\" else \"nan\")"
      ]
    },
    {
      "cell_type": "code",
      "execution_count": null,
      "metadata": {
        "id": "mJVTA6fNn09X"
      },
      "outputs": [],
      "source": [
        "df_test = df_test.drop(\"company\",axis=1)"
      ]
    },
    {
      "cell_type": "code",
      "execution_count": null,
      "metadata": {
        "colab": {
          "base_uri": "https://localhost:8080/",
          "height": 287
        },
        "id": "f8GRwjudn09X",
        "outputId": "fd305569-d846-45c4-b0a5-3dca7e4a7414"
      },
      "outputs": [
        {
          "output_type": "error",
          "ename": "KeyError",
          "evalue": "\"['languageKnowledge'] not found in axis\"",
          "traceback": [
            "\u001b[0;31m---------------------------------------------------------------------------\u001b[0m",
            "\u001b[0;31mKeyError\u001b[0m                                  Traceback (most recent call last)",
            "\u001b[0;32m<ipython-input-83-82817591a0d0>\u001b[0m in \u001b[0;36m<cell line: 1>\u001b[0;34m()\u001b[0m\n\u001b[0;32m----> 1\u001b[0;31m \u001b[0mdf_test\u001b[0m \u001b[0;34m=\u001b[0m \u001b[0mdf_test\u001b[0m\u001b[0;34m.\u001b[0m\u001b[0mdrop\u001b[0m\u001b[0;34m(\u001b[0m\u001b[0;34m\"languageKnowledge\"\u001b[0m\u001b[0;34m,\u001b[0m\u001b[0maxis\u001b[0m\u001b[0;34m=\u001b[0m\u001b[0;36m1\u001b[0m\u001b[0;34m)\u001b[0m\u001b[0;34m\u001b[0m\u001b[0;34m\u001b[0m\u001b[0m\n\u001b[0m",
            "\u001b[0;32m/usr/local/lib/python3.10/dist-packages/pandas/core/frame.py\u001b[0m in \u001b[0;36mdrop\u001b[0;34m(self, labels, axis, index, columns, level, inplace, errors)\u001b[0m\n\u001b[1;32m   5342\u001b[0m                 \u001b[0mweight\u001b[0m  \u001b[0;36m1.0\u001b[0m     \u001b[0;36m0.8\u001b[0m\u001b[0;34m\u001b[0m\u001b[0;34m\u001b[0m\u001b[0m\n\u001b[1;32m   5343\u001b[0m         \"\"\"\n\u001b[0;32m-> 5344\u001b[0;31m         return super().drop(\n\u001b[0m\u001b[1;32m   5345\u001b[0m             \u001b[0mlabels\u001b[0m\u001b[0;34m=\u001b[0m\u001b[0mlabels\u001b[0m\u001b[0;34m,\u001b[0m\u001b[0;34m\u001b[0m\u001b[0;34m\u001b[0m\u001b[0m\n\u001b[1;32m   5346\u001b[0m             \u001b[0maxis\u001b[0m\u001b[0;34m=\u001b[0m\u001b[0maxis\u001b[0m\u001b[0;34m,\u001b[0m\u001b[0;34m\u001b[0m\u001b[0;34m\u001b[0m\u001b[0m\n",
            "\u001b[0;32m/usr/local/lib/python3.10/dist-packages/pandas/core/generic.py\u001b[0m in \u001b[0;36mdrop\u001b[0;34m(self, labels, axis, index, columns, level, inplace, errors)\u001b[0m\n\u001b[1;32m   4709\u001b[0m         \u001b[0;32mfor\u001b[0m \u001b[0maxis\u001b[0m\u001b[0;34m,\u001b[0m \u001b[0mlabels\u001b[0m \u001b[0;32min\u001b[0m \u001b[0maxes\u001b[0m\u001b[0;34m.\u001b[0m\u001b[0mitems\u001b[0m\u001b[0;34m(\u001b[0m\u001b[0;34m)\u001b[0m\u001b[0;34m:\u001b[0m\u001b[0;34m\u001b[0m\u001b[0;34m\u001b[0m\u001b[0m\n\u001b[1;32m   4710\u001b[0m             \u001b[0;32mif\u001b[0m \u001b[0mlabels\u001b[0m \u001b[0;32mis\u001b[0m \u001b[0;32mnot\u001b[0m \u001b[0;32mNone\u001b[0m\u001b[0;34m:\u001b[0m\u001b[0;34m\u001b[0m\u001b[0;34m\u001b[0m\u001b[0m\n\u001b[0;32m-> 4711\u001b[0;31m                 \u001b[0mobj\u001b[0m \u001b[0;34m=\u001b[0m \u001b[0mobj\u001b[0m\u001b[0;34m.\u001b[0m\u001b[0m_drop_axis\u001b[0m\u001b[0;34m(\u001b[0m\u001b[0mlabels\u001b[0m\u001b[0;34m,\u001b[0m \u001b[0maxis\u001b[0m\u001b[0;34m,\u001b[0m \u001b[0mlevel\u001b[0m\u001b[0;34m=\u001b[0m\u001b[0mlevel\u001b[0m\u001b[0;34m,\u001b[0m \u001b[0merrors\u001b[0m\u001b[0;34m=\u001b[0m\u001b[0merrors\u001b[0m\u001b[0;34m)\u001b[0m\u001b[0;34m\u001b[0m\u001b[0;34m\u001b[0m\u001b[0m\n\u001b[0m\u001b[1;32m   4712\u001b[0m \u001b[0;34m\u001b[0m\u001b[0m\n\u001b[1;32m   4713\u001b[0m         \u001b[0;32mif\u001b[0m \u001b[0minplace\u001b[0m\u001b[0;34m:\u001b[0m\u001b[0;34m\u001b[0m\u001b[0;34m\u001b[0m\u001b[0m\n",
            "\u001b[0;32m/usr/local/lib/python3.10/dist-packages/pandas/core/generic.py\u001b[0m in \u001b[0;36m_drop_axis\u001b[0;34m(self, labels, axis, level, errors, only_slice)\u001b[0m\n\u001b[1;32m   4751\u001b[0m                 \u001b[0mnew_axis\u001b[0m \u001b[0;34m=\u001b[0m \u001b[0maxis\u001b[0m\u001b[0;34m.\u001b[0m\u001b[0mdrop\u001b[0m\u001b[0;34m(\u001b[0m\u001b[0mlabels\u001b[0m\u001b[0;34m,\u001b[0m \u001b[0mlevel\u001b[0m\u001b[0;34m=\u001b[0m\u001b[0mlevel\u001b[0m\u001b[0;34m,\u001b[0m \u001b[0merrors\u001b[0m\u001b[0;34m=\u001b[0m\u001b[0merrors\u001b[0m\u001b[0;34m)\u001b[0m\u001b[0;34m\u001b[0m\u001b[0;34m\u001b[0m\u001b[0m\n\u001b[1;32m   4752\u001b[0m             \u001b[0;32melse\u001b[0m\u001b[0;34m:\u001b[0m\u001b[0;34m\u001b[0m\u001b[0;34m\u001b[0m\u001b[0m\n\u001b[0;32m-> 4753\u001b[0;31m                 \u001b[0mnew_axis\u001b[0m \u001b[0;34m=\u001b[0m \u001b[0maxis\u001b[0m\u001b[0;34m.\u001b[0m\u001b[0mdrop\u001b[0m\u001b[0;34m(\u001b[0m\u001b[0mlabels\u001b[0m\u001b[0;34m,\u001b[0m \u001b[0merrors\u001b[0m\u001b[0;34m=\u001b[0m\u001b[0merrors\u001b[0m\u001b[0;34m)\u001b[0m\u001b[0;34m\u001b[0m\u001b[0;34m\u001b[0m\u001b[0m\n\u001b[0m\u001b[1;32m   4754\u001b[0m             \u001b[0mindexer\u001b[0m \u001b[0;34m=\u001b[0m \u001b[0maxis\u001b[0m\u001b[0;34m.\u001b[0m\u001b[0mget_indexer\u001b[0m\u001b[0;34m(\u001b[0m\u001b[0mnew_axis\u001b[0m\u001b[0;34m)\u001b[0m\u001b[0;34m\u001b[0m\u001b[0;34m\u001b[0m\u001b[0m\n\u001b[1;32m   4755\u001b[0m \u001b[0;34m\u001b[0m\u001b[0m\n",
            "\u001b[0;32m/usr/local/lib/python3.10/dist-packages/pandas/core/indexes/base.py\u001b[0m in \u001b[0;36mdrop\u001b[0;34m(self, labels, errors)\u001b[0m\n\u001b[1;32m   6998\u001b[0m         \u001b[0;32mif\u001b[0m \u001b[0mmask\u001b[0m\u001b[0;34m.\u001b[0m\u001b[0many\u001b[0m\u001b[0;34m(\u001b[0m\u001b[0;34m)\u001b[0m\u001b[0;34m:\u001b[0m\u001b[0;34m\u001b[0m\u001b[0;34m\u001b[0m\u001b[0m\n\u001b[1;32m   6999\u001b[0m             \u001b[0;32mif\u001b[0m \u001b[0merrors\u001b[0m \u001b[0;34m!=\u001b[0m \u001b[0;34m\"ignore\"\u001b[0m\u001b[0;34m:\u001b[0m\u001b[0;34m\u001b[0m\u001b[0;34m\u001b[0m\u001b[0m\n\u001b[0;32m-> 7000\u001b[0;31m                 \u001b[0;32mraise\u001b[0m \u001b[0mKeyError\u001b[0m\u001b[0;34m(\u001b[0m\u001b[0;34mf\"{labels[mask].tolist()} not found in axis\"\u001b[0m\u001b[0;34m)\u001b[0m\u001b[0;34m\u001b[0m\u001b[0;34m\u001b[0m\u001b[0m\n\u001b[0m\u001b[1;32m   7001\u001b[0m             \u001b[0mindexer\u001b[0m \u001b[0;34m=\u001b[0m \u001b[0mindexer\u001b[0m\u001b[0;34m[\u001b[0m\u001b[0;34m~\u001b[0m\u001b[0mmask\u001b[0m\u001b[0;34m]\u001b[0m\u001b[0;34m\u001b[0m\u001b[0;34m\u001b[0m\u001b[0m\n\u001b[1;32m   7002\u001b[0m         \u001b[0;32mreturn\u001b[0m \u001b[0mself\u001b[0m\u001b[0;34m.\u001b[0m\u001b[0mdelete\u001b[0m\u001b[0;34m(\u001b[0m\u001b[0mindexer\u001b[0m\u001b[0;34m)\u001b[0m\u001b[0;34m\u001b[0m\u001b[0;34m\u001b[0m\u001b[0m\n",
            "\u001b[0;31mKeyError\u001b[0m: \"['languageKnowledge'] not found in axis\""
          ]
        }
      ],
      "source": [
        "df_test = df_test.drop(\"languageKnowledge\",axis=1)"
      ]
    },
    {
      "cell_type": "code",
      "source": [
        "ids = df_test['id']\n"
      ],
      "metadata": {
        "id": "1SXjtVKfuDbW"
      },
      "execution_count": null,
      "outputs": []
    },
    {
      "cell_type": "code",
      "source": [
        "\n",
        "\n",
        "# Handling missing values and converting text features to string type where necessary\n",
        "df_test[text_features] = df_test[text_features].fillna('не указано').astype(str)\n",
        "\n",
        "# Apply TF-IDF transformation to text features\n",
        "# vectorizers = {feature: TfidfVectorizer(max_features=50) for feature in text_features}\n",
        "X_text_features = [vectorizers[feature].transform(df_test[feature]) for feature in text_features]\n",
        "\n",
        "# Combine all text features into a single sparse matrix\n",
        "X_text = hstack(X_text_features)\n",
        "\n",
        "# Handling numerical features\n",
        "X_nums = df_test[nums].fillna(0).astype('float32')  # Replace NaN with 0 if necessary\n",
        "\n",
        "# Handling categorical features\n",
        "# ordinal_encoder = OrdinalEncoder(handle_unknown='use_encoded_value', unknown_value=-1)\n",
        "X_cats = ordinal_encoder.transform(df_test[cats].fillna('не указано'))  # Replace NaN with a placeholder if necessary\n",
        "\n",
        "# Combine all features into a single matrix\n",
        "X_combined = hstack([X_text, csr_matrix(X_nums), csr_matrix(X_cats)])\n",
        "\n",
        "# Define the target variable y_salary\n",
        "y_salary = df_test['salary'].astype('float32')  # Ensure 'salary' is the correct column name\n",
        "\n",
        "# Scale the combined features (excluding text features that are already scaled)\n",
        "# scaler = StandardScaler(with_mean=False)\n",
        "X_combined = scaler.transform(X_combined)\n",
        "\n",
        "# Splitting the data into training and testing sets\n",
        "X_test_sal = X_combined\n",
        "\n",
        "# Converting to dense format for the salary prediction model\n",
        "X_test_sal = X_test_sal.toarray()"
      ],
      "metadata": {
        "colab": {
          "base_uri": "https://localhost:8080/",
          "height": 356
        },
        "id": "fjyPytIXr2hK",
        "outputId": "4fc5b229-2d5d-46c9-ca32-2fc980ceb5ab"
      },
      "execution_count": null,
      "outputs": [
        {
          "output_type": "error",
          "ename": "KeyError",
          "evalue": "\"['retraining_grant_value', 'salary', 'salary_min', 'salary_max'] not in index\"",
          "traceback": [
            "\u001b[0;31m---------------------------------------------------------------------------\u001b[0m",
            "\u001b[0;31mKeyError\u001b[0m                                  Traceback (most recent call last)",
            "\u001b[0;32m<ipython-input-84-d45038108e04>\u001b[0m in \u001b[0;36m<cell line: 12>\u001b[0;34m()\u001b[0m\n\u001b[1;32m     10\u001b[0m \u001b[0;34m\u001b[0m\u001b[0m\n\u001b[1;32m     11\u001b[0m \u001b[0;31m# Handling numerical features\u001b[0m\u001b[0;34m\u001b[0m\u001b[0;34m\u001b[0m\u001b[0m\n\u001b[0;32m---> 12\u001b[0;31m \u001b[0mX_nums\u001b[0m \u001b[0;34m=\u001b[0m \u001b[0mdf_test\u001b[0m\u001b[0;34m[\u001b[0m\u001b[0mnums\u001b[0m\u001b[0;34m]\u001b[0m\u001b[0;34m.\u001b[0m\u001b[0mfillna\u001b[0m\u001b[0;34m(\u001b[0m\u001b[0;36m0\u001b[0m\u001b[0;34m)\u001b[0m\u001b[0;34m.\u001b[0m\u001b[0mastype\u001b[0m\u001b[0;34m(\u001b[0m\u001b[0;34m'float32'\u001b[0m\u001b[0;34m)\u001b[0m  \u001b[0;31m# Replace NaN with 0 if necessary\u001b[0m\u001b[0;34m\u001b[0m\u001b[0;34m\u001b[0m\u001b[0m\n\u001b[0m\u001b[1;32m     13\u001b[0m \u001b[0;34m\u001b[0m\u001b[0m\n\u001b[1;32m     14\u001b[0m \u001b[0;31m# Handling categorical features\u001b[0m\u001b[0;34m\u001b[0m\u001b[0;34m\u001b[0m\u001b[0m\n",
            "\u001b[0;32m/usr/local/lib/python3.10/dist-packages/pandas/core/frame.py\u001b[0m in \u001b[0;36m__getitem__\u001b[0;34m(self, key)\u001b[0m\n\u001b[1;32m   3897\u001b[0m             \u001b[0;32mif\u001b[0m \u001b[0mis_iterator\u001b[0m\u001b[0;34m(\u001b[0m\u001b[0mkey\u001b[0m\u001b[0;34m)\u001b[0m\u001b[0;34m:\u001b[0m\u001b[0;34m\u001b[0m\u001b[0;34m\u001b[0m\u001b[0m\n\u001b[1;32m   3898\u001b[0m                 \u001b[0mkey\u001b[0m \u001b[0;34m=\u001b[0m \u001b[0mlist\u001b[0m\u001b[0;34m(\u001b[0m\u001b[0mkey\u001b[0m\u001b[0;34m)\u001b[0m\u001b[0;34m\u001b[0m\u001b[0;34m\u001b[0m\u001b[0m\n\u001b[0;32m-> 3899\u001b[0;31m             \u001b[0mindexer\u001b[0m \u001b[0;34m=\u001b[0m \u001b[0mself\u001b[0m\u001b[0;34m.\u001b[0m\u001b[0mcolumns\u001b[0m\u001b[0;34m.\u001b[0m\u001b[0m_get_indexer_strict\u001b[0m\u001b[0;34m(\u001b[0m\u001b[0mkey\u001b[0m\u001b[0;34m,\u001b[0m \u001b[0;34m\"columns\"\u001b[0m\u001b[0;34m)\u001b[0m\u001b[0;34m[\u001b[0m\u001b[0;36m1\u001b[0m\u001b[0;34m]\u001b[0m\u001b[0;34m\u001b[0m\u001b[0;34m\u001b[0m\u001b[0m\n\u001b[0m\u001b[1;32m   3900\u001b[0m \u001b[0;34m\u001b[0m\u001b[0m\n\u001b[1;32m   3901\u001b[0m         \u001b[0;31m# take() does not accept boolean indexers\u001b[0m\u001b[0;34m\u001b[0m\u001b[0;34m\u001b[0m\u001b[0m\n",
            "\u001b[0;32m/usr/local/lib/python3.10/dist-packages/pandas/core/indexes/base.py\u001b[0m in \u001b[0;36m_get_indexer_strict\u001b[0;34m(self, key, axis_name)\u001b[0m\n\u001b[1;32m   6113\u001b[0m             \u001b[0mkeyarr\u001b[0m\u001b[0;34m,\u001b[0m \u001b[0mindexer\u001b[0m\u001b[0;34m,\u001b[0m \u001b[0mnew_indexer\u001b[0m \u001b[0;34m=\u001b[0m \u001b[0mself\u001b[0m\u001b[0;34m.\u001b[0m\u001b[0m_reindex_non_unique\u001b[0m\u001b[0;34m(\u001b[0m\u001b[0mkeyarr\u001b[0m\u001b[0;34m)\u001b[0m\u001b[0;34m\u001b[0m\u001b[0;34m\u001b[0m\u001b[0m\n\u001b[1;32m   6114\u001b[0m \u001b[0;34m\u001b[0m\u001b[0m\n\u001b[0;32m-> 6115\u001b[0;31m         \u001b[0mself\u001b[0m\u001b[0;34m.\u001b[0m\u001b[0m_raise_if_missing\u001b[0m\u001b[0;34m(\u001b[0m\u001b[0mkeyarr\u001b[0m\u001b[0;34m,\u001b[0m \u001b[0mindexer\u001b[0m\u001b[0;34m,\u001b[0m \u001b[0maxis_name\u001b[0m\u001b[0;34m)\u001b[0m\u001b[0;34m\u001b[0m\u001b[0;34m\u001b[0m\u001b[0m\n\u001b[0m\u001b[1;32m   6116\u001b[0m \u001b[0;34m\u001b[0m\u001b[0m\n\u001b[1;32m   6117\u001b[0m         \u001b[0mkeyarr\u001b[0m \u001b[0;34m=\u001b[0m \u001b[0mself\u001b[0m\u001b[0;34m.\u001b[0m\u001b[0mtake\u001b[0m\u001b[0;34m(\u001b[0m\u001b[0mindexer\u001b[0m\u001b[0;34m)\u001b[0m\u001b[0;34m\u001b[0m\u001b[0;34m\u001b[0m\u001b[0m\n",
            "\u001b[0;32m/usr/local/lib/python3.10/dist-packages/pandas/core/indexes/base.py\u001b[0m in \u001b[0;36m_raise_if_missing\u001b[0;34m(self, key, indexer, axis_name)\u001b[0m\n\u001b[1;32m   6177\u001b[0m \u001b[0;34m\u001b[0m\u001b[0m\n\u001b[1;32m   6178\u001b[0m             \u001b[0mnot_found\u001b[0m \u001b[0;34m=\u001b[0m \u001b[0mlist\u001b[0m\u001b[0;34m(\u001b[0m\u001b[0mensure_index\u001b[0m\u001b[0;34m(\u001b[0m\u001b[0mkey\u001b[0m\u001b[0;34m)\u001b[0m\u001b[0;34m[\u001b[0m\u001b[0mmissing_mask\u001b[0m\u001b[0;34m.\u001b[0m\u001b[0mnonzero\u001b[0m\u001b[0;34m(\u001b[0m\u001b[0;34m)\u001b[0m\u001b[0;34m[\u001b[0m\u001b[0;36m0\u001b[0m\u001b[0;34m]\u001b[0m\u001b[0;34m]\u001b[0m\u001b[0;34m.\u001b[0m\u001b[0munique\u001b[0m\u001b[0;34m(\u001b[0m\u001b[0;34m)\u001b[0m\u001b[0;34m)\u001b[0m\u001b[0;34m\u001b[0m\u001b[0;34m\u001b[0m\u001b[0m\n\u001b[0;32m-> 6179\u001b[0;31m             \u001b[0;32mraise\u001b[0m \u001b[0mKeyError\u001b[0m\u001b[0;34m(\u001b[0m\u001b[0;34mf\"{not_found} not in index\"\u001b[0m\u001b[0;34m)\u001b[0m\u001b[0;34m\u001b[0m\u001b[0;34m\u001b[0m\u001b[0m\n\u001b[0m\u001b[1;32m   6180\u001b[0m \u001b[0;34m\u001b[0m\u001b[0m\n\u001b[1;32m   6181\u001b[0m     \u001b[0;34m@\u001b[0m\u001b[0moverload\u001b[0m\u001b[0;34m\u001b[0m\u001b[0;34m\u001b[0m\u001b[0m\n",
            "\u001b[0;31mKeyError\u001b[0m: \"['retraining_grant_value', 'salary', 'salary_min', 'salary_max'] not in index\""
          ]
        }
      ]
    },
    {
      "cell_type": "code",
      "source": [
        "answers = model_salary.predict(X_test_sal)"
      ],
      "metadata": {
        "id": "cdxHgMXAtEvb"
      },
      "execution_count": null,
      "outputs": []
    },
    {
      "cell_type": "code",
      "source": [
        "from numpy import nan\n",
        "answers = DataFrame(answers)\n",
        "answers[\"id\"] = ids\n",
        "answers[\"job_title\"] = nan\n",
        "answers[\"task_type\"] = answers[\"job_title\"].apply(lambda x: \"SAL\")"
      ],
      "metadata": {
        "id": "m0EPJfApuc_j"
      },
      "execution_count": null,
      "outputs": []
    },
    {
      "cell_type": "code",
      "source": [],
      "metadata": {
        "id": "uHoFAcFOuc8G"
      },
      "execution_count": null,
      "outputs": []
    },
    {
      "cell_type": "code",
      "source": [],
      "metadata": {
        "id": "EXwH7y5ruc5t"
      },
      "execution_count": null,
      "outputs": []
    },
    {
      "cell_type": "code",
      "source": [],
      "metadata": {
        "id": "NOf9FL9uuc3L"
      },
      "execution_count": null,
      "outputs": []
    },
    {
      "cell_type": "code",
      "source": [],
      "metadata": {
        "id": "aL0D3lgvtEsF"
      },
      "execution_count": null,
      "outputs": []
    },
    {
      "cell_type": "code",
      "source": [],
      "metadata": {
        "id": "X3Yaw_dPtEpv"
      },
      "execution_count": null,
      "outputs": []
    },
    {
      "cell_type": "code",
      "source": [],
      "metadata": {
        "id": "6Qln7pjctEnX"
      },
      "execution_count": null,
      "outputs": []
    },
    {
      "cell_type": "code",
      "source": [],
      "metadata": {
        "id": "lSObhdrztElE"
      },
      "execution_count": null,
      "outputs": []
    },
    {
      "cell_type": "code",
      "source": [],
      "metadata": {
        "id": "K1_U6syLsSQq"
      },
      "execution_count": null,
      "outputs": []
    },
    {
      "cell_type": "markdown",
      "source": [
        "#Script"
      ],
      "metadata": {
        "id": "wJLscc89yoCg"
      }
    },
    {
      "cell_type": "markdown",
      "source": [
        "Скрипт автоматической проверки"
      ],
      "metadata": {
        "id": "c2xZYO8VojEh"
      }
    },
    {
      "cell_type": "code",
      "source": [
        "from sklearn.metrics import accuracy_score, precision_score, recall_score, f1_score, confusion_matrix\n",
        "from sklearn.metrics import mean_absolute_error, mean_squared_error, r2_score\n",
        "import numpy as np"
      ],
      "metadata": {
        "id": "V3T50S8uWeky"
      },
      "execution_count": null,
      "outputs": []
    },
    {
      "cell_type": "code",
      "source": [
        "pred_submission = pd.read_csv('submission.csv')\n",
        "true_submission = pd.read_csv('grounded_true.csv')"
      ],
      "metadata": {
        "id": "Yd_Qso7gypy-"
      },
      "execution_count": null,
      "outputs": []
    },
    {
      "cell_type": "code",
      "source": [
        "pred_submission"
      ],
      "metadata": {
        "colab": {
          "base_uri": "https://localhost:8080/",
          "height": 423
        },
        "id": "MjaK__G_8Kef",
        "outputId": "4fcb987f-28f2-4945-acbc-5d03411acd26"
      },
      "execution_count": null,
      "outputs": [
        {
          "output_type": "execute_result",
          "data": {
            "text/plain": [
              "                                       id   job_title task_type   salary\n",
              "0    52860148-26da-11e8-a184-9122a281f90e  специалист       RES      NaN\n",
              "1    e3c857b0-26a0-11e7-bcca-736ab11edb0c  специалист       RES      NaN\n",
              "2    d09f8cf0-2b52-11e8-a7fa-ef76bd2a03c1  специалист       RES      NaN\n",
              "3    7f79c860-2920-11e8-9025-ef76bd2a03c1  специалист       RES      NaN\n",
              "4    13af7f60-2b1b-11e8-b956-037acc02728d  специалист       RES      NaN\n",
              "..                                    ...         ...       ...      ...\n",
              "195  a902d967-35e4-11e5-a8c4-239645b044d5         NaN       SAL  32000.0\n",
              "196  a5532597-35e9-11e5-a8c4-239645b044d5         NaN       SAL  32000.0\n",
              "197  8749da83-3661-11e5-a0ef-3bdbd1a6e39d         NaN       SAL  32000.0\n",
              "198  18649bd6-366d-11e5-a8c4-239645b044d5         NaN       SAL  32000.0\n",
              "199  bfa87cf6-36bc-11e5-a8c4-239645b044d5         NaN       SAL  32000.0\n",
              "\n",
              "[200 rows x 4 columns]"
            ],
            "text/html": [
              "\n",
              "  <div id=\"df-51aeec52-81e8-4415-9c16-836c8e89b7a8\" class=\"colab-df-container\">\n",
              "    <div>\n",
              "<style scoped>\n",
              "    .dataframe tbody tr th:only-of-type {\n",
              "        vertical-align: middle;\n",
              "    }\n",
              "\n",
              "    .dataframe tbody tr th {\n",
              "        vertical-align: top;\n",
              "    }\n",
              "\n",
              "    .dataframe thead th {\n",
              "        text-align: right;\n",
              "    }\n",
              "</style>\n",
              "<table border=\"1\" class=\"dataframe\">\n",
              "  <thead>\n",
              "    <tr style=\"text-align: right;\">\n",
              "      <th></th>\n",
              "      <th>id</th>\n",
              "      <th>job_title</th>\n",
              "      <th>task_type</th>\n",
              "      <th>salary</th>\n",
              "    </tr>\n",
              "  </thead>\n",
              "  <tbody>\n",
              "    <tr>\n",
              "      <th>0</th>\n",
              "      <td>52860148-26da-11e8-a184-9122a281f90e</td>\n",
              "      <td>специалист</td>\n",
              "      <td>RES</td>\n",
              "      <td>NaN</td>\n",
              "    </tr>\n",
              "    <tr>\n",
              "      <th>1</th>\n",
              "      <td>e3c857b0-26a0-11e7-bcca-736ab11edb0c</td>\n",
              "      <td>специалист</td>\n",
              "      <td>RES</td>\n",
              "      <td>NaN</td>\n",
              "    </tr>\n",
              "    <tr>\n",
              "      <th>2</th>\n",
              "      <td>d09f8cf0-2b52-11e8-a7fa-ef76bd2a03c1</td>\n",
              "      <td>специалист</td>\n",
              "      <td>RES</td>\n",
              "      <td>NaN</td>\n",
              "    </tr>\n",
              "    <tr>\n",
              "      <th>3</th>\n",
              "      <td>7f79c860-2920-11e8-9025-ef76bd2a03c1</td>\n",
              "      <td>специалист</td>\n",
              "      <td>RES</td>\n",
              "      <td>NaN</td>\n",
              "    </tr>\n",
              "    <tr>\n",
              "      <th>4</th>\n",
              "      <td>13af7f60-2b1b-11e8-b956-037acc02728d</td>\n",
              "      <td>специалист</td>\n",
              "      <td>RES</td>\n",
              "      <td>NaN</td>\n",
              "    </tr>\n",
              "    <tr>\n",
              "      <th>...</th>\n",
              "      <td>...</td>\n",
              "      <td>...</td>\n",
              "      <td>...</td>\n",
              "      <td>...</td>\n",
              "    </tr>\n",
              "    <tr>\n",
              "      <th>195</th>\n",
              "      <td>a902d967-35e4-11e5-a8c4-239645b044d5</td>\n",
              "      <td>NaN</td>\n",
              "      <td>SAL</td>\n",
              "      <td>32000.0</td>\n",
              "    </tr>\n",
              "    <tr>\n",
              "      <th>196</th>\n",
              "      <td>a5532597-35e9-11e5-a8c4-239645b044d5</td>\n",
              "      <td>NaN</td>\n",
              "      <td>SAL</td>\n",
              "      <td>32000.0</td>\n",
              "    </tr>\n",
              "    <tr>\n",
              "      <th>197</th>\n",
              "      <td>8749da83-3661-11e5-a0ef-3bdbd1a6e39d</td>\n",
              "      <td>NaN</td>\n",
              "      <td>SAL</td>\n",
              "      <td>32000.0</td>\n",
              "    </tr>\n",
              "    <tr>\n",
              "      <th>198</th>\n",
              "      <td>18649bd6-366d-11e5-a8c4-239645b044d5</td>\n",
              "      <td>NaN</td>\n",
              "      <td>SAL</td>\n",
              "      <td>32000.0</td>\n",
              "    </tr>\n",
              "    <tr>\n",
              "      <th>199</th>\n",
              "      <td>bfa87cf6-36bc-11e5-a8c4-239645b044d5</td>\n",
              "      <td>NaN</td>\n",
              "      <td>SAL</td>\n",
              "      <td>32000.0</td>\n",
              "    </tr>\n",
              "  </tbody>\n",
              "</table>\n",
              "<p>200 rows × 4 columns</p>\n",
              "</div>\n",
              "    <div class=\"colab-df-buttons\">\n",
              "\n",
              "  <div class=\"colab-df-container\">\n",
              "    <button class=\"colab-df-convert\" onclick=\"convertToInteractive('df-51aeec52-81e8-4415-9c16-836c8e89b7a8')\"\n",
              "            title=\"Convert this dataframe to an interactive table.\"\n",
              "            style=\"display:none;\">\n",
              "\n",
              "  <svg xmlns=\"http://www.w3.org/2000/svg\" height=\"24px\" viewBox=\"0 -960 960 960\">\n",
              "    <path d=\"M120-120v-720h720v720H120Zm60-500h600v-160H180v160Zm220 220h160v-160H400v160Zm0 220h160v-160H400v160ZM180-400h160v-160H180v160Zm440 0h160v-160H620v160ZM180-180h160v-160H180v160Zm440 0h160v-160H620v160Z\"/>\n",
              "  </svg>\n",
              "    </button>\n",
              "\n",
              "  <style>\n",
              "    .colab-df-container {\n",
              "      display:flex;\n",
              "      gap: 12px;\n",
              "    }\n",
              "\n",
              "    .colab-df-convert {\n",
              "      background-color: #E8F0FE;\n",
              "      border: none;\n",
              "      border-radius: 50%;\n",
              "      cursor: pointer;\n",
              "      display: none;\n",
              "      fill: #1967D2;\n",
              "      height: 32px;\n",
              "      padding: 0 0 0 0;\n",
              "      width: 32px;\n",
              "    }\n",
              "\n",
              "    .colab-df-convert:hover {\n",
              "      background-color: #E2EBFA;\n",
              "      box-shadow: 0px 1px 2px rgba(60, 64, 67, 0.3), 0px 1px 3px 1px rgba(60, 64, 67, 0.15);\n",
              "      fill: #174EA6;\n",
              "    }\n",
              "\n",
              "    .colab-df-buttons div {\n",
              "      margin-bottom: 4px;\n",
              "    }\n",
              "\n",
              "    [theme=dark] .colab-df-convert {\n",
              "      background-color: #3B4455;\n",
              "      fill: #D2E3FC;\n",
              "    }\n",
              "\n",
              "    [theme=dark] .colab-df-convert:hover {\n",
              "      background-color: #434B5C;\n",
              "      box-shadow: 0px 1px 3px 1px rgba(0, 0, 0, 0.15);\n",
              "      filter: drop-shadow(0px 1px 2px rgba(0, 0, 0, 0.3));\n",
              "      fill: #FFFFFF;\n",
              "    }\n",
              "  </style>\n",
              "\n",
              "    <script>\n",
              "      const buttonEl =\n",
              "        document.querySelector('#df-51aeec52-81e8-4415-9c16-836c8e89b7a8 button.colab-df-convert');\n",
              "      buttonEl.style.display =\n",
              "        google.colab.kernel.accessAllowed ? 'block' : 'none';\n",
              "\n",
              "      async function convertToInteractive(key) {\n",
              "        const element = document.querySelector('#df-51aeec52-81e8-4415-9c16-836c8e89b7a8');\n",
              "        const dataTable =\n",
              "          await google.colab.kernel.invokeFunction('convertToInteractive',\n",
              "                                                    [key], {});\n",
              "        if (!dataTable) return;\n",
              "\n",
              "        const docLinkHtml = 'Like what you see? Visit the ' +\n",
              "          '<a target=\"_blank\" href=https://colab.research.google.com/notebooks/data_table.ipynb>data table notebook</a>'\n",
              "          + ' to learn more about interactive tables.';\n",
              "        element.innerHTML = '';\n",
              "        dataTable['output_type'] = 'display_data';\n",
              "        await google.colab.output.renderOutput(dataTable, element);\n",
              "        const docLink = document.createElement('div');\n",
              "        docLink.innerHTML = docLinkHtml;\n",
              "        element.appendChild(docLink);\n",
              "      }\n",
              "    </script>\n",
              "  </div>\n",
              "\n",
              "\n",
              "<div id=\"df-369598eb-ca3b-481c-afaa-55330ad73687\">\n",
              "  <button class=\"colab-df-quickchart\" onclick=\"quickchart('df-369598eb-ca3b-481c-afaa-55330ad73687')\"\n",
              "            title=\"Suggest charts\"\n",
              "            style=\"display:none;\">\n",
              "\n",
              "<svg xmlns=\"http://www.w3.org/2000/svg\" height=\"24px\"viewBox=\"0 0 24 24\"\n",
              "     width=\"24px\">\n",
              "    <g>\n",
              "        <path d=\"M19 3H5c-1.1 0-2 .9-2 2v14c0 1.1.9 2 2 2h14c1.1 0 2-.9 2-2V5c0-1.1-.9-2-2-2zM9 17H7v-7h2v7zm4 0h-2V7h2v10zm4 0h-2v-4h2v4z\"/>\n",
              "    </g>\n",
              "</svg>\n",
              "  </button>\n",
              "\n",
              "<style>\n",
              "  .colab-df-quickchart {\n",
              "      --bg-color: #E8F0FE;\n",
              "      --fill-color: #1967D2;\n",
              "      --hover-bg-color: #E2EBFA;\n",
              "      --hover-fill-color: #174EA6;\n",
              "      --disabled-fill-color: #AAA;\n",
              "      --disabled-bg-color: #DDD;\n",
              "  }\n",
              "\n",
              "  [theme=dark] .colab-df-quickchart {\n",
              "      --bg-color: #3B4455;\n",
              "      --fill-color: #D2E3FC;\n",
              "      --hover-bg-color: #434B5C;\n",
              "      --hover-fill-color: #FFFFFF;\n",
              "      --disabled-bg-color: #3B4455;\n",
              "      --disabled-fill-color: #666;\n",
              "  }\n",
              "\n",
              "  .colab-df-quickchart {\n",
              "    background-color: var(--bg-color);\n",
              "    border: none;\n",
              "    border-radius: 50%;\n",
              "    cursor: pointer;\n",
              "    display: none;\n",
              "    fill: var(--fill-color);\n",
              "    height: 32px;\n",
              "    padding: 0;\n",
              "    width: 32px;\n",
              "  }\n",
              "\n",
              "  .colab-df-quickchart:hover {\n",
              "    background-color: var(--hover-bg-color);\n",
              "    box-shadow: 0 1px 2px rgba(60, 64, 67, 0.3), 0 1px 3px 1px rgba(60, 64, 67, 0.15);\n",
              "    fill: var(--button-hover-fill-color);\n",
              "  }\n",
              "\n",
              "  .colab-df-quickchart-complete:disabled,\n",
              "  .colab-df-quickchart-complete:disabled:hover {\n",
              "    background-color: var(--disabled-bg-color);\n",
              "    fill: var(--disabled-fill-color);\n",
              "    box-shadow: none;\n",
              "  }\n",
              "\n",
              "  .colab-df-spinner {\n",
              "    border: 2px solid var(--fill-color);\n",
              "    border-color: transparent;\n",
              "    border-bottom-color: var(--fill-color);\n",
              "    animation:\n",
              "      spin 1s steps(1) infinite;\n",
              "  }\n",
              "\n",
              "  @keyframes spin {\n",
              "    0% {\n",
              "      border-color: transparent;\n",
              "      border-bottom-color: var(--fill-color);\n",
              "      border-left-color: var(--fill-color);\n",
              "    }\n",
              "    20% {\n",
              "      border-color: transparent;\n",
              "      border-left-color: var(--fill-color);\n",
              "      border-top-color: var(--fill-color);\n",
              "    }\n",
              "    30% {\n",
              "      border-color: transparent;\n",
              "      border-left-color: var(--fill-color);\n",
              "      border-top-color: var(--fill-color);\n",
              "      border-right-color: var(--fill-color);\n",
              "    }\n",
              "    40% {\n",
              "      border-color: transparent;\n",
              "      border-right-color: var(--fill-color);\n",
              "      border-top-color: var(--fill-color);\n",
              "    }\n",
              "    60% {\n",
              "      border-color: transparent;\n",
              "      border-right-color: var(--fill-color);\n",
              "    }\n",
              "    80% {\n",
              "      border-color: transparent;\n",
              "      border-right-color: var(--fill-color);\n",
              "      border-bottom-color: var(--fill-color);\n",
              "    }\n",
              "    90% {\n",
              "      border-color: transparent;\n",
              "      border-bottom-color: var(--fill-color);\n",
              "    }\n",
              "  }\n",
              "</style>\n",
              "\n",
              "  <script>\n",
              "    async function quickchart(key) {\n",
              "      const quickchartButtonEl =\n",
              "        document.querySelector('#' + key + ' button');\n",
              "      quickchartButtonEl.disabled = true;  // To prevent multiple clicks.\n",
              "      quickchartButtonEl.classList.add('colab-df-spinner');\n",
              "      try {\n",
              "        const charts = await google.colab.kernel.invokeFunction(\n",
              "            'suggestCharts', [key], {});\n",
              "      } catch (error) {\n",
              "        console.error('Error during call to suggestCharts:', error);\n",
              "      }\n",
              "      quickchartButtonEl.classList.remove('colab-df-spinner');\n",
              "      quickchartButtonEl.classList.add('colab-df-quickchart-complete');\n",
              "    }\n",
              "    (() => {\n",
              "      let quickchartButtonEl =\n",
              "        document.querySelector('#df-369598eb-ca3b-481c-afaa-55330ad73687 button');\n",
              "      quickchartButtonEl.style.display =\n",
              "        google.colab.kernel.accessAllowed ? 'block' : 'none';\n",
              "    })();\n",
              "  </script>\n",
              "</div>\n",
              "    </div>\n",
              "  </div>\n"
            ],
            "application/vnd.google.colaboratory.intrinsic+json": {
              "type": "dataframe",
              "variable_name": "pred_submission",
              "summary": "{\n  \"name\": \"pred_submission\",\n  \"rows\": 200,\n  \"fields\": [\n    {\n      \"column\": \"id\",\n      \"properties\": {\n        \"dtype\": \"string\",\n        \"num_unique_values\": 200,\n        \"samples\": [\n          \"ce8046d0-2ebd-11e8-b956-037acc02728d\",\n          \"c2fcfa80-2c13-11e8-a3e9-e37b4be0b9ed\",\n          \"22a911ff-1b96-11e8-8f92-ef76bd2a03c1\"\n        ],\n        \"semantic_type\": \"\",\n        \"description\": \"\"\n      }\n    },\n    {\n      \"column\": \"job_title\",\n      \"properties\": {\n        \"dtype\": \"category\",\n        \"num_unique_values\": 1,\n        \"samples\": [\n          \"\\u0441\\u043f\\u0435\\u0446\\u0438\\u0430\\u043b\\u0438\\u0441\\u0442\"\n        ],\n        \"semantic_type\": \"\",\n        \"description\": \"\"\n      }\n    },\n    {\n      \"column\": \"task_type\",\n      \"properties\": {\n        \"dtype\": \"category\",\n        \"num_unique_values\": 2,\n        \"samples\": [\n          \"SAL\"\n        ],\n        \"semantic_type\": \"\",\n        \"description\": \"\"\n      }\n    },\n    {\n      \"column\": \"salary\",\n      \"properties\": {\n        \"dtype\": \"number\",\n        \"std\": 0.0,\n        \"min\": 32000.0,\n        \"max\": 32000.0,\n        \"num_unique_values\": 1,\n        \"samples\": [\n          32000.0\n        ],\n        \"semantic_type\": \"\",\n        \"description\": \"\"\n      }\n    }\n  ]\n}"
            }
          },
          "metadata": {},
          "execution_count": 25
        }
      ]
    },
    {
      "cell_type": "code",
      "source": [
        "true_submission"
      ],
      "metadata": {
        "colab": {
          "base_uri": "https://localhost:8080/",
          "height": 423
        },
        "id": "1imui8eR7alZ",
        "outputId": "081572bf-a99c-459c-b6a8-9e5dbb19943a"
      },
      "execution_count": null,
      "outputs": [
        {
          "output_type": "execute_result",
          "data": {
            "text/plain": [
              "                                       id    job_title task_type    salary\n",
              "0    52860148-26da-11e8-a184-9122a281f90e    инспектор       RES       NaN\n",
              "1    e3c857b0-26a0-11e7-bcca-736ab11edb0c       геолог       RES       NaN\n",
              "2    d09f8cf0-2b52-11e8-a7fa-ef76bd2a03c1       геолог       RES       NaN\n",
              "3    7f79c860-2920-11e8-9025-ef76bd2a03c1  фрезеровщик       RES       NaN\n",
              "4    13af7f60-2b1b-11e8-b956-037acc02728d       геолог       RES       NaN\n",
              "..                                    ...          ...       ...       ...\n",
              "195  a902d967-35e4-11e5-a8c4-239645b044d5          NaN       SAL   19242.0\n",
              "196  a5532597-35e9-11e5-a8c4-239645b044d5          NaN       SAL   40000.0\n",
              "197  8749da83-3661-11e5-a0ef-3bdbd1a6e39d          NaN       SAL   34000.0\n",
              "198  18649bd6-366d-11e5-a8c4-239645b044d5          NaN       SAL   32000.0\n",
              "199  bfa87cf6-36bc-11e5-a8c4-239645b044d5          NaN       SAL  120000.0\n",
              "\n",
              "[200 rows x 4 columns]"
            ],
            "text/html": [
              "\n",
              "  <div id=\"df-459cdbeb-f40a-404a-aad3-5dc74102620a\" class=\"colab-df-container\">\n",
              "    <div>\n",
              "<style scoped>\n",
              "    .dataframe tbody tr th:only-of-type {\n",
              "        vertical-align: middle;\n",
              "    }\n",
              "\n",
              "    .dataframe tbody tr th {\n",
              "        vertical-align: top;\n",
              "    }\n",
              "\n",
              "    .dataframe thead th {\n",
              "        text-align: right;\n",
              "    }\n",
              "</style>\n",
              "<table border=\"1\" class=\"dataframe\">\n",
              "  <thead>\n",
              "    <tr style=\"text-align: right;\">\n",
              "      <th></th>\n",
              "      <th>id</th>\n",
              "      <th>job_title</th>\n",
              "      <th>task_type</th>\n",
              "      <th>salary</th>\n",
              "    </tr>\n",
              "  </thead>\n",
              "  <tbody>\n",
              "    <tr>\n",
              "      <th>0</th>\n",
              "      <td>52860148-26da-11e8-a184-9122a281f90e</td>\n",
              "      <td>инспектор</td>\n",
              "      <td>RES</td>\n",
              "      <td>NaN</td>\n",
              "    </tr>\n",
              "    <tr>\n",
              "      <th>1</th>\n",
              "      <td>e3c857b0-26a0-11e7-bcca-736ab11edb0c</td>\n",
              "      <td>геолог</td>\n",
              "      <td>RES</td>\n",
              "      <td>NaN</td>\n",
              "    </tr>\n",
              "    <tr>\n",
              "      <th>2</th>\n",
              "      <td>d09f8cf0-2b52-11e8-a7fa-ef76bd2a03c1</td>\n",
              "      <td>геолог</td>\n",
              "      <td>RES</td>\n",
              "      <td>NaN</td>\n",
              "    </tr>\n",
              "    <tr>\n",
              "      <th>3</th>\n",
              "      <td>7f79c860-2920-11e8-9025-ef76bd2a03c1</td>\n",
              "      <td>фрезеровщик</td>\n",
              "      <td>RES</td>\n",
              "      <td>NaN</td>\n",
              "    </tr>\n",
              "    <tr>\n",
              "      <th>4</th>\n",
              "      <td>13af7f60-2b1b-11e8-b956-037acc02728d</td>\n",
              "      <td>геолог</td>\n",
              "      <td>RES</td>\n",
              "      <td>NaN</td>\n",
              "    </tr>\n",
              "    <tr>\n",
              "      <th>...</th>\n",
              "      <td>...</td>\n",
              "      <td>...</td>\n",
              "      <td>...</td>\n",
              "      <td>...</td>\n",
              "    </tr>\n",
              "    <tr>\n",
              "      <th>195</th>\n",
              "      <td>a902d967-35e4-11e5-a8c4-239645b044d5</td>\n",
              "      <td>NaN</td>\n",
              "      <td>SAL</td>\n",
              "      <td>19242.0</td>\n",
              "    </tr>\n",
              "    <tr>\n",
              "      <th>196</th>\n",
              "      <td>a5532597-35e9-11e5-a8c4-239645b044d5</td>\n",
              "      <td>NaN</td>\n",
              "      <td>SAL</td>\n",
              "      <td>40000.0</td>\n",
              "    </tr>\n",
              "    <tr>\n",
              "      <th>197</th>\n",
              "      <td>8749da83-3661-11e5-a0ef-3bdbd1a6e39d</td>\n",
              "      <td>NaN</td>\n",
              "      <td>SAL</td>\n",
              "      <td>34000.0</td>\n",
              "    </tr>\n",
              "    <tr>\n",
              "      <th>198</th>\n",
              "      <td>18649bd6-366d-11e5-a8c4-239645b044d5</td>\n",
              "      <td>NaN</td>\n",
              "      <td>SAL</td>\n",
              "      <td>32000.0</td>\n",
              "    </tr>\n",
              "    <tr>\n",
              "      <th>199</th>\n",
              "      <td>bfa87cf6-36bc-11e5-a8c4-239645b044d5</td>\n",
              "      <td>NaN</td>\n",
              "      <td>SAL</td>\n",
              "      <td>120000.0</td>\n",
              "    </tr>\n",
              "  </tbody>\n",
              "</table>\n",
              "<p>200 rows × 4 columns</p>\n",
              "</div>\n",
              "    <div class=\"colab-df-buttons\">\n",
              "\n",
              "  <div class=\"colab-df-container\">\n",
              "    <button class=\"colab-df-convert\" onclick=\"convertToInteractive('df-459cdbeb-f40a-404a-aad3-5dc74102620a')\"\n",
              "            title=\"Convert this dataframe to an interactive table.\"\n",
              "            style=\"display:none;\">\n",
              "\n",
              "  <svg xmlns=\"http://www.w3.org/2000/svg\" height=\"24px\" viewBox=\"0 -960 960 960\">\n",
              "    <path d=\"M120-120v-720h720v720H120Zm60-500h600v-160H180v160Zm220 220h160v-160H400v160Zm0 220h160v-160H400v160ZM180-400h160v-160H180v160Zm440 0h160v-160H620v160ZM180-180h160v-160H180v160Zm440 0h160v-160H620v160Z\"/>\n",
              "  </svg>\n",
              "    </button>\n",
              "\n",
              "  <style>\n",
              "    .colab-df-container {\n",
              "      display:flex;\n",
              "      gap: 12px;\n",
              "    }\n",
              "\n",
              "    .colab-df-convert {\n",
              "      background-color: #E8F0FE;\n",
              "      border: none;\n",
              "      border-radius: 50%;\n",
              "      cursor: pointer;\n",
              "      display: none;\n",
              "      fill: #1967D2;\n",
              "      height: 32px;\n",
              "      padding: 0 0 0 0;\n",
              "      width: 32px;\n",
              "    }\n",
              "\n",
              "    .colab-df-convert:hover {\n",
              "      background-color: #E2EBFA;\n",
              "      box-shadow: 0px 1px 2px rgba(60, 64, 67, 0.3), 0px 1px 3px 1px rgba(60, 64, 67, 0.15);\n",
              "      fill: #174EA6;\n",
              "    }\n",
              "\n",
              "    .colab-df-buttons div {\n",
              "      margin-bottom: 4px;\n",
              "    }\n",
              "\n",
              "    [theme=dark] .colab-df-convert {\n",
              "      background-color: #3B4455;\n",
              "      fill: #D2E3FC;\n",
              "    }\n",
              "\n",
              "    [theme=dark] .colab-df-convert:hover {\n",
              "      background-color: #434B5C;\n",
              "      box-shadow: 0px 1px 3px 1px rgba(0, 0, 0, 0.15);\n",
              "      filter: drop-shadow(0px 1px 2px rgba(0, 0, 0, 0.3));\n",
              "      fill: #FFFFFF;\n",
              "    }\n",
              "  </style>\n",
              "\n",
              "    <script>\n",
              "      const buttonEl =\n",
              "        document.querySelector('#df-459cdbeb-f40a-404a-aad3-5dc74102620a button.colab-df-convert');\n",
              "      buttonEl.style.display =\n",
              "        google.colab.kernel.accessAllowed ? 'block' : 'none';\n",
              "\n",
              "      async function convertToInteractive(key) {\n",
              "        const element = document.querySelector('#df-459cdbeb-f40a-404a-aad3-5dc74102620a');\n",
              "        const dataTable =\n",
              "          await google.colab.kernel.invokeFunction('convertToInteractive',\n",
              "                                                    [key], {});\n",
              "        if (!dataTable) return;\n",
              "\n",
              "        const docLinkHtml = 'Like what you see? Visit the ' +\n",
              "          '<a target=\"_blank\" href=https://colab.research.google.com/notebooks/data_table.ipynb>data table notebook</a>'\n",
              "          + ' to learn more about interactive tables.';\n",
              "        element.innerHTML = '';\n",
              "        dataTable['output_type'] = 'display_data';\n",
              "        await google.colab.output.renderOutput(dataTable, element);\n",
              "        const docLink = document.createElement('div');\n",
              "        docLink.innerHTML = docLinkHtml;\n",
              "        element.appendChild(docLink);\n",
              "      }\n",
              "    </script>\n",
              "  </div>\n",
              "\n",
              "\n",
              "<div id=\"df-dd764c45-4088-4453-8272-598f3dd82098\">\n",
              "  <button class=\"colab-df-quickchart\" onclick=\"quickchart('df-dd764c45-4088-4453-8272-598f3dd82098')\"\n",
              "            title=\"Suggest charts\"\n",
              "            style=\"display:none;\">\n",
              "\n",
              "<svg xmlns=\"http://www.w3.org/2000/svg\" height=\"24px\"viewBox=\"0 0 24 24\"\n",
              "     width=\"24px\">\n",
              "    <g>\n",
              "        <path d=\"M19 3H5c-1.1 0-2 .9-2 2v14c0 1.1.9 2 2 2h14c1.1 0 2-.9 2-2V5c0-1.1-.9-2-2-2zM9 17H7v-7h2v7zm4 0h-2V7h2v10zm4 0h-2v-4h2v4z\"/>\n",
              "    </g>\n",
              "</svg>\n",
              "  </button>\n",
              "\n",
              "<style>\n",
              "  .colab-df-quickchart {\n",
              "      --bg-color: #E8F0FE;\n",
              "      --fill-color: #1967D2;\n",
              "      --hover-bg-color: #E2EBFA;\n",
              "      --hover-fill-color: #174EA6;\n",
              "      --disabled-fill-color: #AAA;\n",
              "      --disabled-bg-color: #DDD;\n",
              "  }\n",
              "\n",
              "  [theme=dark] .colab-df-quickchart {\n",
              "      --bg-color: #3B4455;\n",
              "      --fill-color: #D2E3FC;\n",
              "      --hover-bg-color: #434B5C;\n",
              "      --hover-fill-color: #FFFFFF;\n",
              "      --disabled-bg-color: #3B4455;\n",
              "      --disabled-fill-color: #666;\n",
              "  }\n",
              "\n",
              "  .colab-df-quickchart {\n",
              "    background-color: var(--bg-color);\n",
              "    border: none;\n",
              "    border-radius: 50%;\n",
              "    cursor: pointer;\n",
              "    display: none;\n",
              "    fill: var(--fill-color);\n",
              "    height: 32px;\n",
              "    padding: 0;\n",
              "    width: 32px;\n",
              "  }\n",
              "\n",
              "  .colab-df-quickchart:hover {\n",
              "    background-color: var(--hover-bg-color);\n",
              "    box-shadow: 0 1px 2px rgba(60, 64, 67, 0.3), 0 1px 3px 1px rgba(60, 64, 67, 0.15);\n",
              "    fill: var(--button-hover-fill-color);\n",
              "  }\n",
              "\n",
              "  .colab-df-quickchart-complete:disabled,\n",
              "  .colab-df-quickchart-complete:disabled:hover {\n",
              "    background-color: var(--disabled-bg-color);\n",
              "    fill: var(--disabled-fill-color);\n",
              "    box-shadow: none;\n",
              "  }\n",
              "\n",
              "  .colab-df-spinner {\n",
              "    border: 2px solid var(--fill-color);\n",
              "    border-color: transparent;\n",
              "    border-bottom-color: var(--fill-color);\n",
              "    animation:\n",
              "      spin 1s steps(1) infinite;\n",
              "  }\n",
              "\n",
              "  @keyframes spin {\n",
              "    0% {\n",
              "      border-color: transparent;\n",
              "      border-bottom-color: var(--fill-color);\n",
              "      border-left-color: var(--fill-color);\n",
              "    }\n",
              "    20% {\n",
              "      border-color: transparent;\n",
              "      border-left-color: var(--fill-color);\n",
              "      border-top-color: var(--fill-color);\n",
              "    }\n",
              "    30% {\n",
              "      border-color: transparent;\n",
              "      border-left-color: var(--fill-color);\n",
              "      border-top-color: var(--fill-color);\n",
              "      border-right-color: var(--fill-color);\n",
              "    }\n",
              "    40% {\n",
              "      border-color: transparent;\n",
              "      border-right-color: var(--fill-color);\n",
              "      border-top-color: var(--fill-color);\n",
              "    }\n",
              "    60% {\n",
              "      border-color: transparent;\n",
              "      border-right-color: var(--fill-color);\n",
              "    }\n",
              "    80% {\n",
              "      border-color: transparent;\n",
              "      border-right-color: var(--fill-color);\n",
              "      border-bottom-color: var(--fill-color);\n",
              "    }\n",
              "    90% {\n",
              "      border-color: transparent;\n",
              "      border-bottom-color: var(--fill-color);\n",
              "    }\n",
              "  }\n",
              "</style>\n",
              "\n",
              "  <script>\n",
              "    async function quickchart(key) {\n",
              "      const quickchartButtonEl =\n",
              "        document.querySelector('#' + key + ' button');\n",
              "      quickchartButtonEl.disabled = true;  // To prevent multiple clicks.\n",
              "      quickchartButtonEl.classList.add('colab-df-spinner');\n",
              "      try {\n",
              "        const charts = await google.colab.kernel.invokeFunction(\n",
              "            'suggestCharts', [key], {});\n",
              "      } catch (error) {\n",
              "        console.error('Error during call to suggestCharts:', error);\n",
              "      }\n",
              "      quickchartButtonEl.classList.remove('colab-df-spinner');\n",
              "      quickchartButtonEl.classList.add('colab-df-quickchart-complete');\n",
              "    }\n",
              "    (() => {\n",
              "      let quickchartButtonEl =\n",
              "        document.querySelector('#df-dd764c45-4088-4453-8272-598f3dd82098 button');\n",
              "      quickchartButtonEl.style.display =\n",
              "        google.colab.kernel.accessAllowed ? 'block' : 'none';\n",
              "    })();\n",
              "  </script>\n",
              "</div>\n",
              "    </div>\n",
              "  </div>\n"
            ],
            "application/vnd.google.colaboratory.intrinsic+json": {
              "type": "dataframe",
              "variable_name": "true_submission",
              "summary": "{\n  \"name\": \"true_submission\",\n  \"rows\": 200,\n  \"fields\": [\n    {\n      \"column\": \"id\",\n      \"properties\": {\n        \"dtype\": \"string\",\n        \"num_unique_values\": 200,\n        \"samples\": [\n          \"ce8046d0-2ebd-11e8-b956-037acc02728d\",\n          \"c2fcfa80-2c13-11e8-a3e9-e37b4be0b9ed\",\n          \"22a911ff-1b96-11e8-8f92-ef76bd2a03c1\"\n        ],\n        \"semantic_type\": \"\",\n        \"description\": \"\"\n      }\n    },\n    {\n      \"column\": \"job_title\",\n      \"properties\": {\n        \"dtype\": \"category\",\n        \"num_unique_values\": 45,\n        \"samples\": [\n          \"\\u044d\\u043b\\u0435\\u043a\\u0442\\u0440\\u043e\\u043c\\u043e\\u043d\\u0442\\u0430\\u0436\\u043d\\u0438\\u043a\",\n          \"\\u0441\\u0442\\u043e\\u0440\\u043e\\u0436\",\n          \"\\u0437\\u0430\\u043c\\u0435\\u0441\\u0442\\u0438\\u0442\\u0435\\u043b\\u044c\"\n        ],\n        \"semantic_type\": \"\",\n        \"description\": \"\"\n      }\n    },\n    {\n      \"column\": \"task_type\",\n      \"properties\": {\n        \"dtype\": \"category\",\n        \"num_unique_values\": 2,\n        \"samples\": [\n          \"SAL\",\n          \"RES\"\n        ],\n        \"semantic_type\": \"\",\n        \"description\": \"\"\n      }\n    },\n    {\n      \"column\": \"salary\",\n      \"properties\": {\n        \"dtype\": \"number\",\n        \"std\": 25772.279247433216,\n        \"min\": 0.0,\n        \"max\": 150000.0,\n        \"num_unique_values\": 54,\n        \"samples\": [\n          150000.0,\n          23000.0\n        ],\n        \"semantic_type\": \"\",\n        \"description\": \"\"\n      }\n    }\n  ]\n}"
            }
          },
          "metadata": {},
          "execution_count": 26
        }
      ]
    },
    {
      "cell_type": "code",
      "source": [
        "N = 100 #только в этом примере\n",
        "if len(pred_submission)!=N*2:\n",
        "  raise Exception('Необходимо сделать предсказание для всех строк из тестового датасета, суммарная длина получившегося сабмита должна быть N + N = 2N ')\n",
        "\n",
        "if len(set(pred_submission['id'].unique()) & set(true_submission['id'].unique()))!=N*2:\n",
        "  raise Exception('Столбец id в submission должен иметь те же значения, что и столбец id в grounded true')"
      ],
      "metadata": {
        "id": "HMugZQKlMvlK"
      },
      "execution_count": null,
      "outputs": []
    },
    {
      "cell_type": "code",
      "source": [
        "try:\n",
        "    df = true_submission.merge(pred_submission, how = 'left', on = 'id', suffixes=('_true','_pred'))\n",
        "except Exception:\n",
        "    assert False, \"Ошибка при сравнении grounded_true и submission\""
      ],
      "metadata": {
        "id": "7LJ25oWU9KfS"
      },
      "execution_count": null,
      "outputs": []
    },
    {
      "cell_type": "code",
      "source": [
        "df"
      ],
      "metadata": {
        "colab": {
          "base_uri": "https://localhost:8080/",
          "height": 423
        },
        "id": "SleTQkC_Xikn",
        "outputId": "cb9a1f31-0d25-45e7-8146-4fb8f48e505e"
      },
      "execution_count": null,
      "outputs": [
        {
          "output_type": "execute_result",
          "data": {
            "text/plain": [
              "                                       id job_title_true task_type_true  \\\n",
              "0    52860148-26da-11e8-a184-9122a281f90e      инспектор            RES   \n",
              "1    e3c857b0-26a0-11e7-bcca-736ab11edb0c         геолог            RES   \n",
              "2    d09f8cf0-2b52-11e8-a7fa-ef76bd2a03c1         геолог            RES   \n",
              "3    7f79c860-2920-11e8-9025-ef76bd2a03c1    фрезеровщик            RES   \n",
              "4    13af7f60-2b1b-11e8-b956-037acc02728d         геолог            RES   \n",
              "..                                    ...            ...            ...   \n",
              "195  a902d967-35e4-11e5-a8c4-239645b044d5            NaN            SAL   \n",
              "196  a5532597-35e9-11e5-a8c4-239645b044d5            NaN            SAL   \n",
              "197  8749da83-3661-11e5-a0ef-3bdbd1a6e39d            NaN            SAL   \n",
              "198  18649bd6-366d-11e5-a8c4-239645b044d5            NaN            SAL   \n",
              "199  bfa87cf6-36bc-11e5-a8c4-239645b044d5            NaN            SAL   \n",
              "\n",
              "     salary_true job_title_pred task_type_pred  salary_pred  \n",
              "0            NaN     специалист            RES          NaN  \n",
              "1            NaN     специалист            RES          NaN  \n",
              "2            NaN     специалист            RES          NaN  \n",
              "3            NaN     специалист            RES          NaN  \n",
              "4            NaN     специалист            RES          NaN  \n",
              "..           ...            ...            ...          ...  \n",
              "195      19242.0            NaN            SAL      32000.0  \n",
              "196      40000.0            NaN            SAL      32000.0  \n",
              "197      34000.0            NaN            SAL      32000.0  \n",
              "198      32000.0            NaN            SAL      32000.0  \n",
              "199     120000.0            NaN            SAL      32000.0  \n",
              "\n",
              "[200 rows x 7 columns]"
            ],
            "text/html": [
              "\n",
              "  <div id=\"df-58d35368-f08b-4f2a-92c4-54630b81a111\" class=\"colab-df-container\">\n",
              "    <div>\n",
              "<style scoped>\n",
              "    .dataframe tbody tr th:only-of-type {\n",
              "        vertical-align: middle;\n",
              "    }\n",
              "\n",
              "    .dataframe tbody tr th {\n",
              "        vertical-align: top;\n",
              "    }\n",
              "\n",
              "    .dataframe thead th {\n",
              "        text-align: right;\n",
              "    }\n",
              "</style>\n",
              "<table border=\"1\" class=\"dataframe\">\n",
              "  <thead>\n",
              "    <tr style=\"text-align: right;\">\n",
              "      <th></th>\n",
              "      <th>id</th>\n",
              "      <th>job_title_true</th>\n",
              "      <th>task_type_true</th>\n",
              "      <th>salary_true</th>\n",
              "      <th>job_title_pred</th>\n",
              "      <th>task_type_pred</th>\n",
              "      <th>salary_pred</th>\n",
              "    </tr>\n",
              "  </thead>\n",
              "  <tbody>\n",
              "    <tr>\n",
              "      <th>0</th>\n",
              "      <td>52860148-26da-11e8-a184-9122a281f90e</td>\n",
              "      <td>инспектор</td>\n",
              "      <td>RES</td>\n",
              "      <td>NaN</td>\n",
              "      <td>специалист</td>\n",
              "      <td>RES</td>\n",
              "      <td>NaN</td>\n",
              "    </tr>\n",
              "    <tr>\n",
              "      <th>1</th>\n",
              "      <td>e3c857b0-26a0-11e7-bcca-736ab11edb0c</td>\n",
              "      <td>геолог</td>\n",
              "      <td>RES</td>\n",
              "      <td>NaN</td>\n",
              "      <td>специалист</td>\n",
              "      <td>RES</td>\n",
              "      <td>NaN</td>\n",
              "    </tr>\n",
              "    <tr>\n",
              "      <th>2</th>\n",
              "      <td>d09f8cf0-2b52-11e8-a7fa-ef76bd2a03c1</td>\n",
              "      <td>геолог</td>\n",
              "      <td>RES</td>\n",
              "      <td>NaN</td>\n",
              "      <td>специалист</td>\n",
              "      <td>RES</td>\n",
              "      <td>NaN</td>\n",
              "    </tr>\n",
              "    <tr>\n",
              "      <th>3</th>\n",
              "      <td>7f79c860-2920-11e8-9025-ef76bd2a03c1</td>\n",
              "      <td>фрезеровщик</td>\n",
              "      <td>RES</td>\n",
              "      <td>NaN</td>\n",
              "      <td>специалист</td>\n",
              "      <td>RES</td>\n",
              "      <td>NaN</td>\n",
              "    </tr>\n",
              "    <tr>\n",
              "      <th>4</th>\n",
              "      <td>13af7f60-2b1b-11e8-b956-037acc02728d</td>\n",
              "      <td>геолог</td>\n",
              "      <td>RES</td>\n",
              "      <td>NaN</td>\n",
              "      <td>специалист</td>\n",
              "      <td>RES</td>\n",
              "      <td>NaN</td>\n",
              "    </tr>\n",
              "    <tr>\n",
              "      <th>...</th>\n",
              "      <td>...</td>\n",
              "      <td>...</td>\n",
              "      <td>...</td>\n",
              "      <td>...</td>\n",
              "      <td>...</td>\n",
              "      <td>...</td>\n",
              "      <td>...</td>\n",
              "    </tr>\n",
              "    <tr>\n",
              "      <th>195</th>\n",
              "      <td>a902d967-35e4-11e5-a8c4-239645b044d5</td>\n",
              "      <td>NaN</td>\n",
              "      <td>SAL</td>\n",
              "      <td>19242.0</td>\n",
              "      <td>NaN</td>\n",
              "      <td>SAL</td>\n",
              "      <td>32000.0</td>\n",
              "    </tr>\n",
              "    <tr>\n",
              "      <th>196</th>\n",
              "      <td>a5532597-35e9-11e5-a8c4-239645b044d5</td>\n",
              "      <td>NaN</td>\n",
              "      <td>SAL</td>\n",
              "      <td>40000.0</td>\n",
              "      <td>NaN</td>\n",
              "      <td>SAL</td>\n",
              "      <td>32000.0</td>\n",
              "    </tr>\n",
              "    <tr>\n",
              "      <th>197</th>\n",
              "      <td>8749da83-3661-11e5-a0ef-3bdbd1a6e39d</td>\n",
              "      <td>NaN</td>\n",
              "      <td>SAL</td>\n",
              "      <td>34000.0</td>\n",
              "      <td>NaN</td>\n",
              "      <td>SAL</td>\n",
              "      <td>32000.0</td>\n",
              "    </tr>\n",
              "    <tr>\n",
              "      <th>198</th>\n",
              "      <td>18649bd6-366d-11e5-a8c4-239645b044d5</td>\n",
              "      <td>NaN</td>\n",
              "      <td>SAL</td>\n",
              "      <td>32000.0</td>\n",
              "      <td>NaN</td>\n",
              "      <td>SAL</td>\n",
              "      <td>32000.0</td>\n",
              "    </tr>\n",
              "    <tr>\n",
              "      <th>199</th>\n",
              "      <td>bfa87cf6-36bc-11e5-a8c4-239645b044d5</td>\n",
              "      <td>NaN</td>\n",
              "      <td>SAL</td>\n",
              "      <td>120000.0</td>\n",
              "      <td>NaN</td>\n",
              "      <td>SAL</td>\n",
              "      <td>32000.0</td>\n",
              "    </tr>\n",
              "  </tbody>\n",
              "</table>\n",
              "<p>200 rows × 7 columns</p>\n",
              "</div>\n",
              "    <div class=\"colab-df-buttons\">\n",
              "\n",
              "  <div class=\"colab-df-container\">\n",
              "    <button class=\"colab-df-convert\" onclick=\"convertToInteractive('df-58d35368-f08b-4f2a-92c4-54630b81a111')\"\n",
              "            title=\"Convert this dataframe to an interactive table.\"\n",
              "            style=\"display:none;\">\n",
              "\n",
              "  <svg xmlns=\"http://www.w3.org/2000/svg\" height=\"24px\" viewBox=\"0 -960 960 960\">\n",
              "    <path d=\"M120-120v-720h720v720H120Zm60-500h600v-160H180v160Zm220 220h160v-160H400v160Zm0 220h160v-160H400v160ZM180-400h160v-160H180v160Zm440 0h160v-160H620v160ZM180-180h160v-160H180v160Zm440 0h160v-160H620v160Z\"/>\n",
              "  </svg>\n",
              "    </button>\n",
              "\n",
              "  <style>\n",
              "    .colab-df-container {\n",
              "      display:flex;\n",
              "      gap: 12px;\n",
              "    }\n",
              "\n",
              "    .colab-df-convert {\n",
              "      background-color: #E8F0FE;\n",
              "      border: none;\n",
              "      border-radius: 50%;\n",
              "      cursor: pointer;\n",
              "      display: none;\n",
              "      fill: #1967D2;\n",
              "      height: 32px;\n",
              "      padding: 0 0 0 0;\n",
              "      width: 32px;\n",
              "    }\n",
              "\n",
              "    .colab-df-convert:hover {\n",
              "      background-color: #E2EBFA;\n",
              "      box-shadow: 0px 1px 2px rgba(60, 64, 67, 0.3), 0px 1px 3px 1px rgba(60, 64, 67, 0.15);\n",
              "      fill: #174EA6;\n",
              "    }\n",
              "\n",
              "    .colab-df-buttons div {\n",
              "      margin-bottom: 4px;\n",
              "    }\n",
              "\n",
              "    [theme=dark] .colab-df-convert {\n",
              "      background-color: #3B4455;\n",
              "      fill: #D2E3FC;\n",
              "    }\n",
              "\n",
              "    [theme=dark] .colab-df-convert:hover {\n",
              "      background-color: #434B5C;\n",
              "      box-shadow: 0px 1px 3px 1px rgba(0, 0, 0, 0.15);\n",
              "      filter: drop-shadow(0px 1px 2px rgba(0, 0, 0, 0.3));\n",
              "      fill: #FFFFFF;\n",
              "    }\n",
              "  </style>\n",
              "\n",
              "    <script>\n",
              "      const buttonEl =\n",
              "        document.querySelector('#df-58d35368-f08b-4f2a-92c4-54630b81a111 button.colab-df-convert');\n",
              "      buttonEl.style.display =\n",
              "        google.colab.kernel.accessAllowed ? 'block' : 'none';\n",
              "\n",
              "      async function convertToInteractive(key) {\n",
              "        const element = document.querySelector('#df-58d35368-f08b-4f2a-92c4-54630b81a111');\n",
              "        const dataTable =\n",
              "          await google.colab.kernel.invokeFunction('convertToInteractive',\n",
              "                                                    [key], {});\n",
              "        if (!dataTable) return;\n",
              "\n",
              "        const docLinkHtml = 'Like what you see? Visit the ' +\n",
              "          '<a target=\"_blank\" href=https://colab.research.google.com/notebooks/data_table.ipynb>data table notebook</a>'\n",
              "          + ' to learn more about interactive tables.';\n",
              "        element.innerHTML = '';\n",
              "        dataTable['output_type'] = 'display_data';\n",
              "        await google.colab.output.renderOutput(dataTable, element);\n",
              "        const docLink = document.createElement('div');\n",
              "        docLink.innerHTML = docLinkHtml;\n",
              "        element.appendChild(docLink);\n",
              "      }\n",
              "    </script>\n",
              "  </div>\n",
              "\n",
              "\n",
              "<div id=\"df-7c6a1b7e-da0d-4cba-b309-315797c3c8a4\">\n",
              "  <button class=\"colab-df-quickchart\" onclick=\"quickchart('df-7c6a1b7e-da0d-4cba-b309-315797c3c8a4')\"\n",
              "            title=\"Suggest charts\"\n",
              "            style=\"display:none;\">\n",
              "\n",
              "<svg xmlns=\"http://www.w3.org/2000/svg\" height=\"24px\"viewBox=\"0 0 24 24\"\n",
              "     width=\"24px\">\n",
              "    <g>\n",
              "        <path d=\"M19 3H5c-1.1 0-2 .9-2 2v14c0 1.1.9 2 2 2h14c1.1 0 2-.9 2-2V5c0-1.1-.9-2-2-2zM9 17H7v-7h2v7zm4 0h-2V7h2v10zm4 0h-2v-4h2v4z\"/>\n",
              "    </g>\n",
              "</svg>\n",
              "  </button>\n",
              "\n",
              "<style>\n",
              "  .colab-df-quickchart {\n",
              "      --bg-color: #E8F0FE;\n",
              "      --fill-color: #1967D2;\n",
              "      --hover-bg-color: #E2EBFA;\n",
              "      --hover-fill-color: #174EA6;\n",
              "      --disabled-fill-color: #AAA;\n",
              "      --disabled-bg-color: #DDD;\n",
              "  }\n",
              "\n",
              "  [theme=dark] .colab-df-quickchart {\n",
              "      --bg-color: #3B4455;\n",
              "      --fill-color: #D2E3FC;\n",
              "      --hover-bg-color: #434B5C;\n",
              "      --hover-fill-color: #FFFFFF;\n",
              "      --disabled-bg-color: #3B4455;\n",
              "      --disabled-fill-color: #666;\n",
              "  }\n",
              "\n",
              "  .colab-df-quickchart {\n",
              "    background-color: var(--bg-color);\n",
              "    border: none;\n",
              "    border-radius: 50%;\n",
              "    cursor: pointer;\n",
              "    display: none;\n",
              "    fill: var(--fill-color);\n",
              "    height: 32px;\n",
              "    padding: 0;\n",
              "    width: 32px;\n",
              "  }\n",
              "\n",
              "  .colab-df-quickchart:hover {\n",
              "    background-color: var(--hover-bg-color);\n",
              "    box-shadow: 0 1px 2px rgba(60, 64, 67, 0.3), 0 1px 3px 1px rgba(60, 64, 67, 0.15);\n",
              "    fill: var(--button-hover-fill-color);\n",
              "  }\n",
              "\n",
              "  .colab-df-quickchart-complete:disabled,\n",
              "  .colab-df-quickchart-complete:disabled:hover {\n",
              "    background-color: var(--disabled-bg-color);\n",
              "    fill: var(--disabled-fill-color);\n",
              "    box-shadow: none;\n",
              "  }\n",
              "\n",
              "  .colab-df-spinner {\n",
              "    border: 2px solid var(--fill-color);\n",
              "    border-color: transparent;\n",
              "    border-bottom-color: var(--fill-color);\n",
              "    animation:\n",
              "      spin 1s steps(1) infinite;\n",
              "  }\n",
              "\n",
              "  @keyframes spin {\n",
              "    0% {\n",
              "      border-color: transparent;\n",
              "      border-bottom-color: var(--fill-color);\n",
              "      border-left-color: var(--fill-color);\n",
              "    }\n",
              "    20% {\n",
              "      border-color: transparent;\n",
              "      border-left-color: var(--fill-color);\n",
              "      border-top-color: var(--fill-color);\n",
              "    }\n",
              "    30% {\n",
              "      border-color: transparent;\n",
              "      border-left-color: var(--fill-color);\n",
              "      border-top-color: var(--fill-color);\n",
              "      border-right-color: var(--fill-color);\n",
              "    }\n",
              "    40% {\n",
              "      border-color: transparent;\n",
              "      border-right-color: var(--fill-color);\n",
              "      border-top-color: var(--fill-color);\n",
              "    }\n",
              "    60% {\n",
              "      border-color: transparent;\n",
              "      border-right-color: var(--fill-color);\n",
              "    }\n",
              "    80% {\n",
              "      border-color: transparent;\n",
              "      border-right-color: var(--fill-color);\n",
              "      border-bottom-color: var(--fill-color);\n",
              "    }\n",
              "    90% {\n",
              "      border-color: transparent;\n",
              "      border-bottom-color: var(--fill-color);\n",
              "    }\n",
              "  }\n",
              "</style>\n",
              "\n",
              "  <script>\n",
              "    async function quickchart(key) {\n",
              "      const quickchartButtonEl =\n",
              "        document.querySelector('#' + key + ' button');\n",
              "      quickchartButtonEl.disabled = true;  // To prevent multiple clicks.\n",
              "      quickchartButtonEl.classList.add('colab-df-spinner');\n",
              "      try {\n",
              "        const charts = await google.colab.kernel.invokeFunction(\n",
              "            'suggestCharts', [key], {});\n",
              "      } catch (error) {\n",
              "        console.error('Error during call to suggestCharts:', error);\n",
              "      }\n",
              "      quickchartButtonEl.classList.remove('colab-df-spinner');\n",
              "      quickchartButtonEl.classList.add('colab-df-quickchart-complete');\n",
              "    }\n",
              "    (() => {\n",
              "      let quickchartButtonEl =\n",
              "        document.querySelector('#df-7c6a1b7e-da0d-4cba-b309-315797c3c8a4 button');\n",
              "      quickchartButtonEl.style.display =\n",
              "        google.colab.kernel.accessAllowed ? 'block' : 'none';\n",
              "    })();\n",
              "  </script>\n",
              "</div>\n",
              "    </div>\n",
              "  </div>\n"
            ],
            "application/vnd.google.colaboratory.intrinsic+json": {
              "type": "dataframe",
              "variable_name": "df",
              "summary": "{\n  \"name\": \"df\",\n  \"rows\": 200,\n  \"fields\": [\n    {\n      \"column\": \"id\",\n      \"properties\": {\n        \"dtype\": \"string\",\n        \"num_unique_values\": 200,\n        \"samples\": [\n          \"ce8046d0-2ebd-11e8-b956-037acc02728d\",\n          \"c2fcfa80-2c13-11e8-a3e9-e37b4be0b9ed\",\n          \"22a911ff-1b96-11e8-8f92-ef76bd2a03c1\"\n        ],\n        \"semantic_type\": \"\",\n        \"description\": \"\"\n      }\n    },\n    {\n      \"column\": \"job_title_true\",\n      \"properties\": {\n        \"dtype\": \"category\",\n        \"num_unique_values\": 45,\n        \"samples\": [\n          \"\\u044d\\u043b\\u0435\\u043a\\u0442\\u0440\\u043e\\u043c\\u043e\\u043d\\u0442\\u0430\\u0436\\u043d\\u0438\\u043a\",\n          \"\\u0441\\u0442\\u043e\\u0440\\u043e\\u0436\",\n          \"\\u0437\\u0430\\u043c\\u0435\\u0441\\u0442\\u0438\\u0442\\u0435\\u043b\\u044c\"\n        ],\n        \"semantic_type\": \"\",\n        \"description\": \"\"\n      }\n    },\n    {\n      \"column\": \"task_type_true\",\n      \"properties\": {\n        \"dtype\": \"category\",\n        \"num_unique_values\": 2,\n        \"samples\": [\n          \"SAL\",\n          \"RES\"\n        ],\n        \"semantic_type\": \"\",\n        \"description\": \"\"\n      }\n    },\n    {\n      \"column\": \"salary_true\",\n      \"properties\": {\n        \"dtype\": \"number\",\n        \"std\": 25772.279247433216,\n        \"min\": 0.0,\n        \"max\": 150000.0,\n        \"num_unique_values\": 54,\n        \"samples\": [\n          150000.0,\n          23000.0\n        ],\n        \"semantic_type\": \"\",\n        \"description\": \"\"\n      }\n    },\n    {\n      \"column\": \"job_title_pred\",\n      \"properties\": {\n        \"dtype\": \"category\",\n        \"num_unique_values\": 1,\n        \"samples\": [\n          \"\\u0441\\u043f\\u0435\\u0446\\u0438\\u0430\\u043b\\u0438\\u0441\\u0442\"\n        ],\n        \"semantic_type\": \"\",\n        \"description\": \"\"\n      }\n    },\n    {\n      \"column\": \"task_type_pred\",\n      \"properties\": {\n        \"dtype\": \"category\",\n        \"num_unique_values\": 2,\n        \"samples\": [\n          \"SAL\"\n        ],\n        \"semantic_type\": \"\",\n        \"description\": \"\"\n      }\n    },\n    {\n      \"column\": \"salary_pred\",\n      \"properties\": {\n        \"dtype\": \"number\",\n        \"std\": 0.0,\n        \"min\": 32000.0,\n        \"max\": 32000.0,\n        \"num_unique_values\": 1,\n        \"samples\": [\n          32000.0\n        ],\n        \"semantic_type\": \"\",\n        \"description\": \"\"\n      }\n    }\n  ]\n}"
            }
          },
          "metadata": {},
          "execution_count": 29
        }
      ]
    },
    {
      "cell_type": "code",
      "source": [
        "if sum(df['task_type_true'] != df['task_type_pred']):\n",
        "  raise Exception('У вас должно получиться N строк с задачей RES и N строк с задачей SAL')"
      ],
      "metadata": {
        "id": "At0CV-GDKhKY"
      },
      "execution_count": null,
      "outputs": []
    },
    {
      "cell_type": "code",
      "source": [
        "RES_part = df[df['task_type_true']=='RES']\n",
        "SAL_part = df[df['task_type_true']=='SAL']"
      ],
      "metadata": {
        "id": "qYBBOV4x-yJ-"
      },
      "execution_count": null,
      "outputs": []
    },
    {
      "cell_type": "code",
      "source": [
        "if sum(RES_part['job_title_pred'].isna()):\n",
        "  raise Exception('Замените все NaN значения в столбце \"job_title\"')"
      ],
      "metadata": {
        "id": "p61IVrRULK0H"
      },
      "execution_count": null,
      "outputs": []
    },
    {
      "cell_type": "code",
      "source": [
        "RES_part = RES_part.astype({'job_title_pred':'string'})\n",
        "\n",
        "if not RES_part['job_title_pred'].dtype == 'string':\n",
        " raise Exception('Столбец \"job_title\" должен иметь тип данных \"string\"')\n",
        "if not SAL_part['salary_pred'].dtype in ['float64','float32', 'int64','int32']:\n",
        "  raise Exception('Столбец \"salary_pred\" должен иметь числовой тип данных')"
      ],
      "metadata": {
        "id": "4pHWgPV_Feks"
      },
      "execution_count": null,
      "outputs": []
    },
    {
      "cell_type": "code",
      "source": [
        "RES_part"
      ],
      "metadata": {
        "colab": {
          "base_uri": "https://localhost:8080/",
          "height": 423
        },
        "id": "LnSrYKOHJ8m4",
        "outputId": "b9a595fd-b47a-4cfd-b413-19fe80ee895c"
      },
      "execution_count": null,
      "outputs": [
        {
          "output_type": "execute_result",
          "data": {
            "text/plain": [
              "                                      id job_title_true task_type_true  \\\n",
              "0   52860148-26da-11e8-a184-9122a281f90e      инспектор            RES   \n",
              "1   e3c857b0-26a0-11e7-bcca-736ab11edb0c         геолог            RES   \n",
              "2   d09f8cf0-2b52-11e8-a7fa-ef76bd2a03c1         геолог            RES   \n",
              "3   7f79c860-2920-11e8-9025-ef76bd2a03c1    фрезеровщик            RES   \n",
              "4   13af7f60-2b1b-11e8-b956-037acc02728d         геолог            RES   \n",
              "..                                   ...            ...            ...   \n",
              "95  ce8046d0-2ebd-11e8-b956-037acc02728d      почтальон            RES   \n",
              "96  62eca040-2fde-11e8-8a6b-ef76bd2a03c1     специалист            RES   \n",
              "97  0e16fc40-2fdf-11e8-8a6b-ef76bd2a03c1     специалист            RES   \n",
              "98  70dca140-2fdf-11e8-8a6b-ef76bd2a03c1     специалист            RES   \n",
              "99  bdbd8620-30d2-11e8-801d-736ab11edb0c         мастер            RES   \n",
              "\n",
              "    salary_true job_title_pred task_type_pred  salary_pred  \n",
              "0           NaN     специалист            RES          NaN  \n",
              "1           NaN     специалист            RES          NaN  \n",
              "2           NaN     специалист            RES          NaN  \n",
              "3           NaN     специалист            RES          NaN  \n",
              "4           NaN     специалист            RES          NaN  \n",
              "..          ...            ...            ...          ...  \n",
              "95          NaN     специалист            RES          NaN  \n",
              "96          NaN     специалист            RES          NaN  \n",
              "97          NaN     специалист            RES          NaN  \n",
              "98          NaN     специалист            RES          NaN  \n",
              "99          NaN     специалист            RES          NaN  \n",
              "\n",
              "[100 rows x 7 columns]"
            ],
            "text/html": [
              "\n",
              "  <div id=\"df-b7396c71-fc07-4aca-97e2-b912563821b9\" class=\"colab-df-container\">\n",
              "    <div>\n",
              "<style scoped>\n",
              "    .dataframe tbody tr th:only-of-type {\n",
              "        vertical-align: middle;\n",
              "    }\n",
              "\n",
              "    .dataframe tbody tr th {\n",
              "        vertical-align: top;\n",
              "    }\n",
              "\n",
              "    .dataframe thead th {\n",
              "        text-align: right;\n",
              "    }\n",
              "</style>\n",
              "<table border=\"1\" class=\"dataframe\">\n",
              "  <thead>\n",
              "    <tr style=\"text-align: right;\">\n",
              "      <th></th>\n",
              "      <th>id</th>\n",
              "      <th>job_title_true</th>\n",
              "      <th>task_type_true</th>\n",
              "      <th>salary_true</th>\n",
              "      <th>job_title_pred</th>\n",
              "      <th>task_type_pred</th>\n",
              "      <th>salary_pred</th>\n",
              "    </tr>\n",
              "  </thead>\n",
              "  <tbody>\n",
              "    <tr>\n",
              "      <th>0</th>\n",
              "      <td>52860148-26da-11e8-a184-9122a281f90e</td>\n",
              "      <td>инспектор</td>\n",
              "      <td>RES</td>\n",
              "      <td>NaN</td>\n",
              "      <td>специалист</td>\n",
              "      <td>RES</td>\n",
              "      <td>NaN</td>\n",
              "    </tr>\n",
              "    <tr>\n",
              "      <th>1</th>\n",
              "      <td>e3c857b0-26a0-11e7-bcca-736ab11edb0c</td>\n",
              "      <td>геолог</td>\n",
              "      <td>RES</td>\n",
              "      <td>NaN</td>\n",
              "      <td>специалист</td>\n",
              "      <td>RES</td>\n",
              "      <td>NaN</td>\n",
              "    </tr>\n",
              "    <tr>\n",
              "      <th>2</th>\n",
              "      <td>d09f8cf0-2b52-11e8-a7fa-ef76bd2a03c1</td>\n",
              "      <td>геолог</td>\n",
              "      <td>RES</td>\n",
              "      <td>NaN</td>\n",
              "      <td>специалист</td>\n",
              "      <td>RES</td>\n",
              "      <td>NaN</td>\n",
              "    </tr>\n",
              "    <tr>\n",
              "      <th>3</th>\n",
              "      <td>7f79c860-2920-11e8-9025-ef76bd2a03c1</td>\n",
              "      <td>фрезеровщик</td>\n",
              "      <td>RES</td>\n",
              "      <td>NaN</td>\n",
              "      <td>специалист</td>\n",
              "      <td>RES</td>\n",
              "      <td>NaN</td>\n",
              "    </tr>\n",
              "    <tr>\n",
              "      <th>4</th>\n",
              "      <td>13af7f60-2b1b-11e8-b956-037acc02728d</td>\n",
              "      <td>геолог</td>\n",
              "      <td>RES</td>\n",
              "      <td>NaN</td>\n",
              "      <td>специалист</td>\n",
              "      <td>RES</td>\n",
              "      <td>NaN</td>\n",
              "    </tr>\n",
              "    <tr>\n",
              "      <th>...</th>\n",
              "      <td>...</td>\n",
              "      <td>...</td>\n",
              "      <td>...</td>\n",
              "      <td>...</td>\n",
              "      <td>...</td>\n",
              "      <td>...</td>\n",
              "      <td>...</td>\n",
              "    </tr>\n",
              "    <tr>\n",
              "      <th>95</th>\n",
              "      <td>ce8046d0-2ebd-11e8-b956-037acc02728d</td>\n",
              "      <td>почтальон</td>\n",
              "      <td>RES</td>\n",
              "      <td>NaN</td>\n",
              "      <td>специалист</td>\n",
              "      <td>RES</td>\n",
              "      <td>NaN</td>\n",
              "    </tr>\n",
              "    <tr>\n",
              "      <th>96</th>\n",
              "      <td>62eca040-2fde-11e8-8a6b-ef76bd2a03c1</td>\n",
              "      <td>специалист</td>\n",
              "      <td>RES</td>\n",
              "      <td>NaN</td>\n",
              "      <td>специалист</td>\n",
              "      <td>RES</td>\n",
              "      <td>NaN</td>\n",
              "    </tr>\n",
              "    <tr>\n",
              "      <th>97</th>\n",
              "      <td>0e16fc40-2fdf-11e8-8a6b-ef76bd2a03c1</td>\n",
              "      <td>специалист</td>\n",
              "      <td>RES</td>\n",
              "      <td>NaN</td>\n",
              "      <td>специалист</td>\n",
              "      <td>RES</td>\n",
              "      <td>NaN</td>\n",
              "    </tr>\n",
              "    <tr>\n",
              "      <th>98</th>\n",
              "      <td>70dca140-2fdf-11e8-8a6b-ef76bd2a03c1</td>\n",
              "      <td>специалист</td>\n",
              "      <td>RES</td>\n",
              "      <td>NaN</td>\n",
              "      <td>специалист</td>\n",
              "      <td>RES</td>\n",
              "      <td>NaN</td>\n",
              "    </tr>\n",
              "    <tr>\n",
              "      <th>99</th>\n",
              "      <td>bdbd8620-30d2-11e8-801d-736ab11edb0c</td>\n",
              "      <td>мастер</td>\n",
              "      <td>RES</td>\n",
              "      <td>NaN</td>\n",
              "      <td>специалист</td>\n",
              "      <td>RES</td>\n",
              "      <td>NaN</td>\n",
              "    </tr>\n",
              "  </tbody>\n",
              "</table>\n",
              "<p>100 rows × 7 columns</p>\n",
              "</div>\n",
              "    <div class=\"colab-df-buttons\">\n",
              "\n",
              "  <div class=\"colab-df-container\">\n",
              "    <button class=\"colab-df-convert\" onclick=\"convertToInteractive('df-b7396c71-fc07-4aca-97e2-b912563821b9')\"\n",
              "            title=\"Convert this dataframe to an interactive table.\"\n",
              "            style=\"display:none;\">\n",
              "\n",
              "  <svg xmlns=\"http://www.w3.org/2000/svg\" height=\"24px\" viewBox=\"0 -960 960 960\">\n",
              "    <path d=\"M120-120v-720h720v720H120Zm60-500h600v-160H180v160Zm220 220h160v-160H400v160Zm0 220h160v-160H400v160ZM180-400h160v-160H180v160Zm440 0h160v-160H620v160ZM180-180h160v-160H180v160Zm440 0h160v-160H620v160Z\"/>\n",
              "  </svg>\n",
              "    </button>\n",
              "\n",
              "  <style>\n",
              "    .colab-df-container {\n",
              "      display:flex;\n",
              "      gap: 12px;\n",
              "    }\n",
              "\n",
              "    .colab-df-convert {\n",
              "      background-color: #E8F0FE;\n",
              "      border: none;\n",
              "      border-radius: 50%;\n",
              "      cursor: pointer;\n",
              "      display: none;\n",
              "      fill: #1967D2;\n",
              "      height: 32px;\n",
              "      padding: 0 0 0 0;\n",
              "      width: 32px;\n",
              "    }\n",
              "\n",
              "    .colab-df-convert:hover {\n",
              "      background-color: #E2EBFA;\n",
              "      box-shadow: 0px 1px 2px rgba(60, 64, 67, 0.3), 0px 1px 3px 1px rgba(60, 64, 67, 0.15);\n",
              "      fill: #174EA6;\n",
              "    }\n",
              "\n",
              "    .colab-df-buttons div {\n",
              "      margin-bottom: 4px;\n",
              "    }\n",
              "\n",
              "    [theme=dark] .colab-df-convert {\n",
              "      background-color: #3B4455;\n",
              "      fill: #D2E3FC;\n",
              "    }\n",
              "\n",
              "    [theme=dark] .colab-df-convert:hover {\n",
              "      background-color: #434B5C;\n",
              "      box-shadow: 0px 1px 3px 1px rgba(0, 0, 0, 0.15);\n",
              "      filter: drop-shadow(0px 1px 2px rgba(0, 0, 0, 0.3));\n",
              "      fill: #FFFFFF;\n",
              "    }\n",
              "  </style>\n",
              "\n",
              "    <script>\n",
              "      const buttonEl =\n",
              "        document.querySelector('#df-b7396c71-fc07-4aca-97e2-b912563821b9 button.colab-df-convert');\n",
              "      buttonEl.style.display =\n",
              "        google.colab.kernel.accessAllowed ? 'block' : 'none';\n",
              "\n",
              "      async function convertToInteractive(key) {\n",
              "        const element = document.querySelector('#df-b7396c71-fc07-4aca-97e2-b912563821b9');\n",
              "        const dataTable =\n",
              "          await google.colab.kernel.invokeFunction('convertToInteractive',\n",
              "                                                    [key], {});\n",
              "        if (!dataTable) return;\n",
              "\n",
              "        const docLinkHtml = 'Like what you see? Visit the ' +\n",
              "          '<a target=\"_blank\" href=https://colab.research.google.com/notebooks/data_table.ipynb>data table notebook</a>'\n",
              "          + ' to learn more about interactive tables.';\n",
              "        element.innerHTML = '';\n",
              "        dataTable['output_type'] = 'display_data';\n",
              "        await google.colab.output.renderOutput(dataTable, element);\n",
              "        const docLink = document.createElement('div');\n",
              "        docLink.innerHTML = docLinkHtml;\n",
              "        element.appendChild(docLink);\n",
              "      }\n",
              "    </script>\n",
              "  </div>\n",
              "\n",
              "\n",
              "<div id=\"df-9f06bb77-d9ad-4008-b9d5-c3f587565b0a\">\n",
              "  <button class=\"colab-df-quickchart\" onclick=\"quickchart('df-9f06bb77-d9ad-4008-b9d5-c3f587565b0a')\"\n",
              "            title=\"Suggest charts\"\n",
              "            style=\"display:none;\">\n",
              "\n",
              "<svg xmlns=\"http://www.w3.org/2000/svg\" height=\"24px\"viewBox=\"0 0 24 24\"\n",
              "     width=\"24px\">\n",
              "    <g>\n",
              "        <path d=\"M19 3H5c-1.1 0-2 .9-2 2v14c0 1.1.9 2 2 2h14c1.1 0 2-.9 2-2V5c0-1.1-.9-2-2-2zM9 17H7v-7h2v7zm4 0h-2V7h2v10zm4 0h-2v-4h2v4z\"/>\n",
              "    </g>\n",
              "</svg>\n",
              "  </button>\n",
              "\n",
              "<style>\n",
              "  .colab-df-quickchart {\n",
              "      --bg-color: #E8F0FE;\n",
              "      --fill-color: #1967D2;\n",
              "      --hover-bg-color: #E2EBFA;\n",
              "      --hover-fill-color: #174EA6;\n",
              "      --disabled-fill-color: #AAA;\n",
              "      --disabled-bg-color: #DDD;\n",
              "  }\n",
              "\n",
              "  [theme=dark] .colab-df-quickchart {\n",
              "      --bg-color: #3B4455;\n",
              "      --fill-color: #D2E3FC;\n",
              "      --hover-bg-color: #434B5C;\n",
              "      --hover-fill-color: #FFFFFF;\n",
              "      --disabled-bg-color: #3B4455;\n",
              "      --disabled-fill-color: #666;\n",
              "  }\n",
              "\n",
              "  .colab-df-quickchart {\n",
              "    background-color: var(--bg-color);\n",
              "    border: none;\n",
              "    border-radius: 50%;\n",
              "    cursor: pointer;\n",
              "    display: none;\n",
              "    fill: var(--fill-color);\n",
              "    height: 32px;\n",
              "    padding: 0;\n",
              "    width: 32px;\n",
              "  }\n",
              "\n",
              "  .colab-df-quickchart:hover {\n",
              "    background-color: var(--hover-bg-color);\n",
              "    box-shadow: 0 1px 2px rgba(60, 64, 67, 0.3), 0 1px 3px 1px rgba(60, 64, 67, 0.15);\n",
              "    fill: var(--button-hover-fill-color);\n",
              "  }\n",
              "\n",
              "  .colab-df-quickchart-complete:disabled,\n",
              "  .colab-df-quickchart-complete:disabled:hover {\n",
              "    background-color: var(--disabled-bg-color);\n",
              "    fill: var(--disabled-fill-color);\n",
              "    box-shadow: none;\n",
              "  }\n",
              "\n",
              "  .colab-df-spinner {\n",
              "    border: 2px solid var(--fill-color);\n",
              "    border-color: transparent;\n",
              "    border-bottom-color: var(--fill-color);\n",
              "    animation:\n",
              "      spin 1s steps(1) infinite;\n",
              "  }\n",
              "\n",
              "  @keyframes spin {\n",
              "    0% {\n",
              "      border-color: transparent;\n",
              "      border-bottom-color: var(--fill-color);\n",
              "      border-left-color: var(--fill-color);\n",
              "    }\n",
              "    20% {\n",
              "      border-color: transparent;\n",
              "      border-left-color: var(--fill-color);\n",
              "      border-top-color: var(--fill-color);\n",
              "    }\n",
              "    30% {\n",
              "      border-color: transparent;\n",
              "      border-left-color: var(--fill-color);\n",
              "      border-top-color: var(--fill-color);\n",
              "      border-right-color: var(--fill-color);\n",
              "    }\n",
              "    40% {\n",
              "      border-color: transparent;\n",
              "      border-right-color: var(--fill-color);\n",
              "      border-top-color: var(--fill-color);\n",
              "    }\n",
              "    60% {\n",
              "      border-color: transparent;\n",
              "      border-right-color: var(--fill-color);\n",
              "    }\n",
              "    80% {\n",
              "      border-color: transparent;\n",
              "      border-right-color: var(--fill-color);\n",
              "      border-bottom-color: var(--fill-color);\n",
              "    }\n",
              "    90% {\n",
              "      border-color: transparent;\n",
              "      border-bottom-color: var(--fill-color);\n",
              "    }\n",
              "  }\n",
              "</style>\n",
              "\n",
              "  <script>\n",
              "    async function quickchart(key) {\n",
              "      const quickchartButtonEl =\n",
              "        document.querySelector('#' + key + ' button');\n",
              "      quickchartButtonEl.disabled = true;  // To prevent multiple clicks.\n",
              "      quickchartButtonEl.classList.add('colab-df-spinner');\n",
              "      try {\n",
              "        const charts = await google.colab.kernel.invokeFunction(\n",
              "            'suggestCharts', [key], {});\n",
              "      } catch (error) {\n",
              "        console.error('Error during call to suggestCharts:', error);\n",
              "      }\n",
              "      quickchartButtonEl.classList.remove('colab-df-spinner');\n",
              "      quickchartButtonEl.classList.add('colab-df-quickchart-complete');\n",
              "    }\n",
              "    (() => {\n",
              "      let quickchartButtonEl =\n",
              "        document.querySelector('#df-9f06bb77-d9ad-4008-b9d5-c3f587565b0a button');\n",
              "      quickchartButtonEl.style.display =\n",
              "        google.colab.kernel.accessAllowed ? 'block' : 'none';\n",
              "    })();\n",
              "  </script>\n",
              "</div>\n",
              "    </div>\n",
              "  </div>\n"
            ],
            "application/vnd.google.colaboratory.intrinsic+json": {
              "type": "dataframe",
              "variable_name": "RES_part",
              "summary": "{\n  \"name\": \"RES_part\",\n  \"rows\": 100,\n  \"fields\": [\n    {\n      \"column\": \"id\",\n      \"properties\": {\n        \"dtype\": \"string\",\n        \"num_unique_values\": 100,\n        \"samples\": [\n          \"26e0e1c0-30eb-11e8-8a6b-ef76bd2a03c1\",\n          \"ce6bc260-2b65-11e8-b956-037acc02728d\",\n          \"5d330510-2e56-11e8-a3e9-e37b4be0b9ed\"\n        ],\n        \"semantic_type\": \"\",\n        \"description\": \"\"\n      }\n    },\n    {\n      \"column\": \"job_title_true\",\n      \"properties\": {\n        \"dtype\": \"category\",\n        \"num_unique_values\": 45,\n        \"samples\": [\n          \"\\u044d\\u043b\\u0435\\u043a\\u0442\\u0440\\u043e\\u043c\\u043e\\u043d\\u0442\\u0430\\u0436\\u043d\\u0438\\u043a\",\n          \"\\u0441\\u0442\\u043e\\u0440\\u043e\\u0436\",\n          \"\\u0437\\u0430\\u043c\\u0435\\u0441\\u0442\\u0438\\u0442\\u0435\\u043b\\u044c\"\n        ],\n        \"semantic_type\": \"\",\n        \"description\": \"\"\n      }\n    },\n    {\n      \"column\": \"task_type_true\",\n      \"properties\": {\n        \"dtype\": \"category\",\n        \"num_unique_values\": 1,\n        \"samples\": [\n          \"RES\"\n        ],\n        \"semantic_type\": \"\",\n        \"description\": \"\"\n      }\n    },\n    {\n      \"column\": \"salary_true\",\n      \"properties\": {\n        \"dtype\": \"number\",\n        \"std\": null,\n        \"min\": null,\n        \"max\": null,\n        \"num_unique_values\": 0,\n        \"samples\": [],\n        \"semantic_type\": \"\",\n        \"description\": \"\"\n      }\n    },\n    {\n      \"column\": \"job_title_pred\",\n      \"properties\": {\n        \"dtype\": \"string\",\n        \"num_unique_values\": 1,\n        \"samples\": [],\n        \"semantic_type\": \"\",\n        \"description\": \"\"\n      }\n    },\n    {\n      \"column\": \"task_type_pred\",\n      \"properties\": {\n        \"dtype\": \"category\",\n        \"num_unique_values\": 1,\n        \"samples\": [],\n        \"semantic_type\": \"\",\n        \"description\": \"\"\n      }\n    },\n    {\n      \"column\": \"salary_pred\",\n      \"properties\": {\n        \"dtype\": \"number\",\n        \"std\": null,\n        \"min\": null,\n        \"max\": null,\n        \"num_unique_values\": 0,\n        \"samples\": [],\n        \"semantic_type\": \"\",\n        \"description\": \"\"\n      }\n    }\n  ]\n}"
            }
          },
          "metadata": {},
          "execution_count": 34
        }
      ]
    },
    {
      "cell_type": "code",
      "source": [
        "#RES\n",
        "f1 = f1_score(RES_part['job_title_pred'], RES_part['job_title_true'], average = 'micro')\n",
        "#SAL\n",
        "rmse = mean_squared_error(SAL_part['salary_pred'], SAL_part['salary_true'], squared=False)\n",
        "custom_metric = max(0,1-(rmse/33000))\n",
        "\n",
        "final_metric = f1 + custom_metric"
      ],
      "metadata": {
        "id": "efDxLbbQ_mse"
      },
      "execution_count": null,
      "outputs": []
    },
    {
      "cell_type": "code",
      "source": [
        "#макс 2.0\n",
        "final_metric"
      ],
      "metadata": {
        "colab": {
          "base_uri": "https://localhost:8080/"
        },
        "id": "O58MenK4BBwp",
        "outputId": "58097c4e-608b-4ea1-d938-c3affe52b7fe"
      },
      "execution_count": null,
      "outputs": [
        {
          "output_type": "execute_result",
          "data": {
            "text/plain": [
              "0.1840777768795854"
            ]
          },
          "metadata": {},
          "execution_count": 36
        }
      ]
    }
  ],
  "metadata": {
    "colab": {
      "provenance": []
    },
    "kernelspec": {
      "display_name": "Python 3.8.3 64-bit",
      "language": "python",
      "name": "python3"
    },
    "language_info": {
      "codemirror_mode": {
        "name": "ipython",
        "version": 3
      },
      "file_extension": ".py",
      "mimetype": "text/x-python",
      "name": "python",
      "nbconvert_exporter": "python",
      "pygments_lexer": "ipython3",
      "version": "3.8.3"
    },
    "vscode": {
      "interpreter": {
        "hash": "9650cb4e16cdd4a8e8e2d128bf38d875813998db22a3c986335f89e0cb4d7bb2"
      }
    }
  },
  "nbformat": 4,
  "nbformat_minor": 0
}